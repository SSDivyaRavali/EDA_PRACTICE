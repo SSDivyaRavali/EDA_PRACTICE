{
  "nbformat": 4,
  "nbformat_minor": 0,
  "metadata": {
    "colab": {
      "name": "loan risk analy.ipynb",
      "provenance": [],
      "collapsed_sections": [],
      "authorship_tag": "ABX9TyO622ycXSMztDNaJ9XN7J3j",
      "include_colab_link": true
    },
    "kernelspec": {
      "name": "python3",
      "display_name": "Python 3"
    },
    "language_info": {
      "name": "python"
    }
  },
  "cells": [
    {
      "cell_type": "markdown",
      "metadata": {
        "id": "view-in-github",
        "colab_type": "text"
      },
      "source": [
        "<a href=\"https://colab.research.google.com/github/SSDivyaRavali/EDA_PRACTICE/blob/main/loan_risk_analy.ipynb\" target=\"_parent\"><img src=\"https://colab.research.google.com/assets/colab-badge.svg\" alt=\"Open In Colab\"/></a>"
      ]
    },
    {
      "cell_type": "markdown",
      "metadata": {
        "id": "-AqfTJr-T1fT"
      },
      "source": [
        "Importing necessacary packages into python\n"
      ]
    },
    {
      "cell_type": "code",
      "metadata": {
        "id": "_LF5fgjPTd-R"
      },
      "source": [
        "#import packages\n",
        "import pandas as pd\n",
        "import numpy as np\n",
        "import matplotlib.pyplot as plt\n",
        "%matplotlib inline\n",
        "import seaborn as sns\n",
        "import warnings\n",
        "\n",
        "\n",
        "warnings.filterwarnings('ignore') #To ignore the warnings"
      ],
      "execution_count": null,
      "outputs": []
    },
    {
      "cell_type": "markdown",
      "metadata": {
        "id": "LRasHUoLCv5o"
      },
      "source": [
        "**1) Reading  the Data and finding information about the data**"
      ]
    },
    {
      "cell_type": "code",
      "metadata": {
        "id": "onorTvpvTy7I"
      },
      "source": [
        "app_data=pd.read_csv(\"/content/application_data.csv\",delimiter=',',skip_blank_lines=True, keep_default_na=False, na_values=[\"\",\"XNA\"])\n",
        "prev_data=pd.read_csv(\"/content/previous_application.csv\",delimiter=',',skip_blank_lines=True, keep_default_na=False, na_values=[\"\",\"XNA\"])\n"
      ],
      "execution_count": null,
      "outputs": []
    },
    {
      "cell_type": "code",
      "metadata": {
        "colab": {
          "base_uri": "https://localhost:8080/",
          "height": 292
        },
        "id": "OHVj-VwIxVa5",
        "outputId": "680ca10c-092d-450f-da7b-3fdbfee4a484"
      },
      "source": [
        "prev_data.head()"
      ],
      "execution_count": null,
      "outputs": [
        {
          "output_type": "execute_result",
          "data": {
            "text/html": [
              "<div>\n",
              "<style scoped>\n",
              "    .dataframe tbody tr th:only-of-type {\n",
              "        vertical-align: middle;\n",
              "    }\n",
              "\n",
              "    .dataframe tbody tr th {\n",
              "        vertical-align: top;\n",
              "    }\n",
              "\n",
              "    .dataframe thead th {\n",
              "        text-align: right;\n",
              "    }\n",
              "</style>\n",
              "<table border=\"1\" class=\"dataframe\">\n",
              "  <thead>\n",
              "    <tr style=\"text-align: right;\">\n",
              "      <th></th>\n",
              "      <th>SK_ID_PREV</th>\n",
              "      <th>SK_ID_CURR</th>\n",
              "      <th>NAME_CONTRACT_TYPE</th>\n",
              "      <th>AMT_ANNUITY</th>\n",
              "      <th>AMT_APPLICATION</th>\n",
              "      <th>AMT_CREDIT</th>\n",
              "      <th>AMT_DOWN_PAYMENT</th>\n",
              "      <th>AMT_GOODS_PRICE</th>\n",
              "      <th>WEEKDAY_APPR_PROCESS_START</th>\n",
              "      <th>HOUR_APPR_PROCESS_START</th>\n",
              "      <th>FLAG_LAST_APPL_PER_CONTRACT</th>\n",
              "      <th>NFLAG_LAST_APPL_IN_DAY</th>\n",
              "      <th>RATE_DOWN_PAYMENT</th>\n",
              "      <th>RATE_INTEREST_PRIMARY</th>\n",
              "      <th>RATE_INTEREST_PRIVILEGED</th>\n",
              "      <th>NAME_CASH_LOAN_PURPOSE</th>\n",
              "      <th>NAME_CONTRACT_STATUS</th>\n",
              "      <th>DAYS_DECISION</th>\n",
              "      <th>NAME_PAYMENT_TYPE</th>\n",
              "      <th>CODE_REJECT_REASON</th>\n",
              "      <th>NAME_TYPE_SUITE</th>\n",
              "      <th>NAME_CLIENT_TYPE</th>\n",
              "      <th>NAME_GOODS_CATEGORY</th>\n",
              "      <th>NAME_PORTFOLIO</th>\n",
              "      <th>NAME_PRODUCT_TYPE</th>\n",
              "      <th>CHANNEL_TYPE</th>\n",
              "      <th>SELLERPLACE_AREA</th>\n",
              "      <th>NAME_SELLER_INDUSTRY</th>\n",
              "      <th>CNT_PAYMENT</th>\n",
              "      <th>NAME_YIELD_GROUP</th>\n",
              "      <th>PRODUCT_COMBINATION</th>\n",
              "      <th>DAYS_FIRST_DRAWING</th>\n",
              "      <th>DAYS_FIRST_DUE</th>\n",
              "      <th>DAYS_LAST_DUE_1ST_VERSION</th>\n",
              "      <th>DAYS_LAST_DUE</th>\n",
              "      <th>DAYS_TERMINATION</th>\n",
              "      <th>NFLAG_INSURED_ON_APPROVAL</th>\n",
              "    </tr>\n",
              "  </thead>\n",
              "  <tbody>\n",
              "    <tr>\n",
              "      <th>0</th>\n",
              "      <td>2030495</td>\n",
              "      <td>271877</td>\n",
              "      <td>Consumer loans</td>\n",
              "      <td>1730.430</td>\n",
              "      <td>17145.0</td>\n",
              "      <td>17145.0</td>\n",
              "      <td>0.0</td>\n",
              "      <td>17145.0</td>\n",
              "      <td>SATURDAY</td>\n",
              "      <td>15.0</td>\n",
              "      <td>Y</td>\n",
              "      <td>1.0</td>\n",
              "      <td>0.0</td>\n",
              "      <td>0.182832</td>\n",
              "      <td>0.867336</td>\n",
              "      <td>XAP</td>\n",
              "      <td>Approved</td>\n",
              "      <td>-73.0</td>\n",
              "      <td>Cash through the bank</td>\n",
              "      <td>XAP</td>\n",
              "      <td>NaN</td>\n",
              "      <td>Repeater</td>\n",
              "      <td>Mobile</td>\n",
              "      <td>POS</td>\n",
              "      <td>NaN</td>\n",
              "      <td>Country-wide</td>\n",
              "      <td>35.0</td>\n",
              "      <td>Connectivity</td>\n",
              "      <td>12.0</td>\n",
              "      <td>middle</td>\n",
              "      <td>POS mobile with interest</td>\n",
              "      <td>365243.0</td>\n",
              "      <td>-42.0</td>\n",
              "      <td>300.0</td>\n",
              "      <td>-42.0</td>\n",
              "      <td>-37.0</td>\n",
              "      <td>0.0</td>\n",
              "    </tr>\n",
              "    <tr>\n",
              "      <th>1</th>\n",
              "      <td>2802425</td>\n",
              "      <td>108129</td>\n",
              "      <td>Cash loans</td>\n",
              "      <td>25188.615</td>\n",
              "      <td>607500.0</td>\n",
              "      <td>679671.0</td>\n",
              "      <td>NaN</td>\n",
              "      <td>607500.0</td>\n",
              "      <td>THURSDAY</td>\n",
              "      <td>11.0</td>\n",
              "      <td>Y</td>\n",
              "      <td>1.0</td>\n",
              "      <td>NaN</td>\n",
              "      <td>NaN</td>\n",
              "      <td>NaN</td>\n",
              "      <td>NaN</td>\n",
              "      <td>Approved</td>\n",
              "      <td>-164.0</td>\n",
              "      <td>NaN</td>\n",
              "      <td>XAP</td>\n",
              "      <td>Unaccompanied</td>\n",
              "      <td>Repeater</td>\n",
              "      <td>NaN</td>\n",
              "      <td>Cash</td>\n",
              "      <td>x-sell</td>\n",
              "      <td>Contact center</td>\n",
              "      <td>-1.0</td>\n",
              "      <td>NaN</td>\n",
              "      <td>36.0</td>\n",
              "      <td>low_action</td>\n",
              "      <td>Cash X-Sell: low</td>\n",
              "      <td>365243.0</td>\n",
              "      <td>-134.0</td>\n",
              "      <td>916.0</td>\n",
              "      <td>365243.0</td>\n",
              "      <td>365243.0</td>\n",
              "      <td>1.0</td>\n",
              "    </tr>\n",
              "    <tr>\n",
              "      <th>2</th>\n",
              "      <td>2523466</td>\n",
              "      <td>122040</td>\n",
              "      <td>Cash loans</td>\n",
              "      <td>15060.735</td>\n",
              "      <td>112500.0</td>\n",
              "      <td>136444.5</td>\n",
              "      <td>NaN</td>\n",
              "      <td>112500.0</td>\n",
              "      <td>TUESDAY</td>\n",
              "      <td>11.0</td>\n",
              "      <td>Y</td>\n",
              "      <td>1.0</td>\n",
              "      <td>NaN</td>\n",
              "      <td>NaN</td>\n",
              "      <td>NaN</td>\n",
              "      <td>NaN</td>\n",
              "      <td>Approved</td>\n",
              "      <td>-301.0</td>\n",
              "      <td>Cash through the bank</td>\n",
              "      <td>XAP</td>\n",
              "      <td>Spouse, partner</td>\n",
              "      <td>Repeater</td>\n",
              "      <td>NaN</td>\n",
              "      <td>Cash</td>\n",
              "      <td>x-sell</td>\n",
              "      <td>Credit and cash offices</td>\n",
              "      <td>-1.0</td>\n",
              "      <td>NaN</td>\n",
              "      <td>12.0</td>\n",
              "      <td>high</td>\n",
              "      <td>Cash X-Sell: high</td>\n",
              "      <td>365243.0</td>\n",
              "      <td>-271.0</td>\n",
              "      <td>59.0</td>\n",
              "      <td>365243.0</td>\n",
              "      <td>365243.0</td>\n",
              "      <td>1.0</td>\n",
              "    </tr>\n",
              "    <tr>\n",
              "      <th>3</th>\n",
              "      <td>2819243</td>\n",
              "      <td>176158</td>\n",
              "      <td>Cash loans</td>\n",
              "      <td>47041.335</td>\n",
              "      <td>450000.0</td>\n",
              "      <td>470790.0</td>\n",
              "      <td>NaN</td>\n",
              "      <td>450000.0</td>\n",
              "      <td>MONDAY</td>\n",
              "      <td>7.0</td>\n",
              "      <td>Y</td>\n",
              "      <td>1.0</td>\n",
              "      <td>NaN</td>\n",
              "      <td>NaN</td>\n",
              "      <td>NaN</td>\n",
              "      <td>NaN</td>\n",
              "      <td>Approved</td>\n",
              "      <td>-512.0</td>\n",
              "      <td>Cash through the bank</td>\n",
              "      <td>XAP</td>\n",
              "      <td>NaN</td>\n",
              "      <td>Repeater</td>\n",
              "      <td>NaN</td>\n",
              "      <td>Cash</td>\n",
              "      <td>x-sell</td>\n",
              "      <td>Credit and cash offices</td>\n",
              "      <td>-1.0</td>\n",
              "      <td>NaN</td>\n",
              "      <td>12.0</td>\n",
              "      <td>middle</td>\n",
              "      <td>Cash X-Sell: middle</td>\n",
              "      <td>365243.0</td>\n",
              "      <td>-482.0</td>\n",
              "      <td>-152.0</td>\n",
              "      <td>-182.0</td>\n",
              "      <td>-177.0</td>\n",
              "      <td>1.0</td>\n",
              "    </tr>\n",
              "    <tr>\n",
              "      <th>4</th>\n",
              "      <td>1784265</td>\n",
              "      <td>202054</td>\n",
              "      <td>Cash loans</td>\n",
              "      <td>31924.395</td>\n",
              "      <td>337500.0</td>\n",
              "      <td>404055.0</td>\n",
              "      <td>NaN</td>\n",
              "      <td>337500.0</td>\n",
              "      <td>THURSDAY</td>\n",
              "      <td>9.0</td>\n",
              "      <td>Y</td>\n",
              "      <td>1.0</td>\n",
              "      <td>NaN</td>\n",
              "      <td>NaN</td>\n",
              "      <td>NaN</td>\n",
              "      <td>Repairs</td>\n",
              "      <td>Refused</td>\n",
              "      <td>-781.0</td>\n",
              "      <td>Cash through the bank</td>\n",
              "      <td>HC</td>\n",
              "      <td>NaN</td>\n",
              "      <td>Repeater</td>\n",
              "      <td>NaN</td>\n",
              "      <td>Cash</td>\n",
              "      <td>walk-in</td>\n",
              "      <td>Credit and cash offices</td>\n",
              "      <td>-1.0</td>\n",
              "      <td>NaN</td>\n",
              "      <td>24.0</td>\n",
              "      <td>high</td>\n",
              "      <td>Cash Street: high</td>\n",
              "      <td>NaN</td>\n",
              "      <td>NaN</td>\n",
              "      <td>NaN</td>\n",
              "      <td>NaN</td>\n",
              "      <td>NaN</td>\n",
              "      <td>NaN</td>\n",
              "    </tr>\n",
              "  </tbody>\n",
              "</table>\n",
              "</div>"
            ],
            "text/plain": [
              "   SK_ID_PREV  SK_ID_CURR  ... DAYS_TERMINATION  NFLAG_INSURED_ON_APPROVAL\n",
              "0     2030495      271877  ...            -37.0                        0.0\n",
              "1     2802425      108129  ...         365243.0                        1.0\n",
              "2     2523466      122040  ...         365243.0                        1.0\n",
              "3     2819243      176158  ...           -177.0                        1.0\n",
              "4     1784265      202054  ...              NaN                        NaN\n",
              "\n",
              "[5 rows x 37 columns]"
            ]
          },
          "metadata": {
            "tags": []
          },
          "execution_count": 170
        }
      ]
    },
    {
      "cell_type": "code",
      "metadata": {
        "colab": {
          "base_uri": "https://localhost:8080/"
        },
        "id": "OgasS_FwDIIF",
        "outputId": "ccf79fcb-2ff7-4df4-afa3-9a647f366898"
      },
      "source": [
        "app_data.shape"
      ],
      "execution_count": null,
      "outputs": [
        {
          "output_type": "execute_result",
          "data": {
            "text/plain": [
              "(104757, 122)"
            ]
          },
          "metadata": {
            "tags": []
          },
          "execution_count": 171
        }
      ]
    },
    {
      "cell_type": "markdown",
      "metadata": {
        "id": "xd7pkYm8D4ND"
      },
      "source": [
        "**2) INSPECTION OF DATA FOR DATA CLEANING**\n",
        "\n",
        "Get a concise summary of a DataFrame using info method.information about a DataFrame including the index dtype and columns, non-null values and memory usage. info arguments specify :\n",
        "\n",
        "**verbose**:  bool, optional.\n",
        " \n",
        "\n",
        "*   Whether to print the full summary. By default, the setting in pandas.options.display.max_info_columns is followed.\n",
        "*   verbose false, Prints a summary of columns count and its dtypes but not per column information\n",
        "*   List item\n",
        "\n",
        "\n",
        "\n",
        "**show_counts:** bool, optional\n",
        "\n",
        "*  Whether to show the non-null counts. By default, this is shown only if the DataFrame is smaller than pandas.options.display.max_info_rows and pandas.options.display.max_info_columns. A value of True always shows the counts, and False never shows the counts.\n",
        "\n",
        "\n",
        " \n",
        "\n",
        "\n",
        "\n"
      ]
    },
    {
      "cell_type": "code",
      "metadata": {
        "colab": {
          "base_uri": "https://localhost:8080/"
        },
        "id": "QNiNpoqvDOd7",
        "outputId": "1359f2d8-70bc-4b9f-c73e-a09e1b07c5b7"
      },
      "source": [
        "app_data.info(verbose=True,null_counts=True)"
      ],
      "execution_count": null,
      "outputs": [
        {
          "output_type": "stream",
          "text": [
            "<class 'pandas.core.frame.DataFrame'>\n",
            "RangeIndex: 104757 entries, 0 to 104756\n",
            "Data columns (total 122 columns):\n",
            " #   Column                        Non-Null Count   Dtype  \n",
            "---  ------                        --------------   -----  \n",
            " 0   SK_ID_CURR                    104757 non-null  int64  \n",
            " 1   TARGET                        104757 non-null  int64  \n",
            " 2   NAME_CONTRACT_TYPE            104757 non-null  object \n",
            " 3   CODE_GENDER                   104754 non-null  object \n",
            " 4   FLAG_OWN_CAR                  104757 non-null  object \n",
            " 5   FLAG_OWN_REALTY               104757 non-null  object \n",
            " 6   CNT_CHILDREN                  104757 non-null  int64  \n",
            " 7   AMT_INCOME_TOTAL              104757 non-null  float64\n",
            " 8   AMT_CREDIT                    104757 non-null  float64\n",
            " 9   AMT_ANNUITY                   104750 non-null  float64\n",
            " 10  AMT_GOODS_PRICE               104674 non-null  float64\n",
            " 11  NAME_TYPE_SUITE               104330 non-null  object \n",
            " 12  NAME_INCOME_TYPE              104757 non-null  object \n",
            " 13  NAME_EDUCATION_TYPE           104757 non-null  object \n",
            " 14  NAME_FAMILY_STATUS            104757 non-null  object \n",
            " 15  NAME_HOUSING_TYPE             104757 non-null  object \n",
            " 16  REGION_POPULATION_RELATIVE    104757 non-null  float64\n",
            " 17  DAYS_BIRTH                    104757 non-null  int64  \n",
            " 18  DAYS_EMPLOYED                 104757 non-null  int64  \n",
            " 19  DAYS_REGISTRATION             104757 non-null  float64\n",
            " 20  DAYS_ID_PUBLISH               104757 non-null  int64  \n",
            " 21  OWN_CAR_AGE                   35557 non-null   float64\n",
            " 22  FLAG_MOBIL                    104757 non-null  int64  \n",
            " 23  FLAG_EMP_PHONE                104757 non-null  int64  \n",
            " 24  FLAG_WORK_PHONE               104757 non-null  int64  \n",
            " 25  FLAG_CONT_MOBILE              104756 non-null  float64\n",
            " 26  FLAG_PHONE                    104756 non-null  float64\n",
            " 27  FLAG_EMAIL                    104756 non-null  float64\n",
            " 28  OCCUPATION_TYPE               72028 non-null   object \n",
            " 29  CNT_FAM_MEMBERS               104755 non-null  float64\n",
            " 30  REGION_RATING_CLIENT          104756 non-null  float64\n",
            " 31  REGION_RATING_CLIENT_W_CITY   104756 non-null  float64\n",
            " 32  WEEKDAY_APPR_PROCESS_START    104756 non-null  object \n",
            " 33  HOUR_APPR_PROCESS_START       104756 non-null  float64\n",
            " 34  REG_REGION_NOT_LIVE_REGION    104756 non-null  float64\n",
            " 35  REG_REGION_NOT_WORK_REGION    104756 non-null  float64\n",
            " 36  LIVE_REGION_NOT_WORK_REGION   104756 non-null  float64\n",
            " 37  REG_CITY_NOT_LIVE_CITY        104756 non-null  float64\n",
            " 38  REG_CITY_NOT_WORK_CITY        104756 non-null  float64\n",
            " 39  LIVE_CITY_NOT_WORK_CITY       104756 non-null  float64\n",
            " 40  ORGANIZATION_TYPE             86035 non-null   object \n",
            " 41  EXT_SOURCE_1                  45776 non-null   float64\n",
            " 42  EXT_SOURCE_2                  104531 non-null  float64\n",
            " 43  EXT_SOURCE_3                  83966 non-null   float64\n",
            " 44  APARTMENTS_AVG                51646 non-null   float64\n",
            " 45  BASEMENTAREA_AVG              43592 non-null   float64\n",
            " 46  YEARS_BEGINEXPLUATATION_AVG   53723 non-null   float64\n",
            " 47  YEARS_BUILD_AVG               35252 non-null   float64\n",
            " 48  COMMONAREA_AVG                31677 non-null   float64\n",
            " 49  ELEVATORS_AVG                 48930 non-null   float64\n",
            " 50  ENTRANCES_AVG                 52063 non-null   float64\n",
            " 51  FLOORSMAX_AVG                 52679 non-null   float64\n",
            " 52  FLOORSMIN_AVG                 33829 non-null   float64\n",
            " 53  LANDAREA_AVG                  42669 non-null   float64\n",
            " 54  LIVINGAPARTMENTS_AVG          33232 non-null   float64\n",
            " 55  LIVINGAREA_AVG                52208 non-null   float64\n",
            " 56  NONLIVINGAPARTMENTS_AVG       32158 non-null   float64\n",
            " 57  NONLIVINGAREA_AVG             47037 non-null   float64\n",
            " 58  APARTMENTS_MODE               51646 non-null   float64\n",
            " 59  BASEMENTAREA_MODE             43592 non-null   float64\n",
            " 60  YEARS_BEGINEXPLUATATION_MODE  53723 non-null   float64\n",
            " 61  YEARS_BUILD_MODE              35252 non-null   float64\n",
            " 62  COMMONAREA_MODE               31677 non-null   float64\n",
            " 63  ELEVATORS_MODE                48930 non-null   float64\n",
            " 64  ENTRANCES_MODE                52063 non-null   float64\n",
            " 65  FLOORSMAX_MODE                52679 non-null   float64\n",
            " 66  FLOORSMIN_MODE                33829 non-null   float64\n",
            " 67  LANDAREA_MODE                 42669 non-null   float64\n",
            " 68  LIVINGAPARTMENTS_MODE         33232 non-null   float64\n",
            " 69  LIVINGAREA_MODE               52208 non-null   float64\n",
            " 70  NONLIVINGAPARTMENTS_MODE      32158 non-null   float64\n",
            " 71  NONLIVINGAREA_MODE            47037 non-null   float64\n",
            " 72  APARTMENTS_MEDI               51646 non-null   float64\n",
            " 73  BASEMENTAREA_MEDI             43592 non-null   float64\n",
            " 74  YEARS_BEGINEXPLUATATION_MEDI  53723 non-null   float64\n",
            " 75  YEARS_BUILD_MEDI              35252 non-null   float64\n",
            " 76  COMMONAREA_MEDI               31677 non-null   float64\n",
            " 77  ELEVATORS_MEDI                48930 non-null   float64\n",
            " 78  ENTRANCES_MEDI                52063 non-null   float64\n",
            " 79  FLOORSMAX_MEDI                52679 non-null   float64\n",
            " 80  FLOORSMIN_MEDI                33829 non-null   float64\n",
            " 81  LANDAREA_MEDI                 42669 non-null   float64\n",
            " 82  LIVINGAPARTMENTS_MEDI         33232 non-null   float64\n",
            " 83  LIVINGAREA_MEDI               52208 non-null   float64\n",
            " 84  NONLIVINGAPARTMENTS_MEDI      32158 non-null   float64\n",
            " 85  NONLIVINGAREA_MEDI            47037 non-null   float64\n",
            " 86  FONDKAPREMONT_MODE            33278 non-null   object \n",
            " 87  HOUSETYPE_MODE                52250 non-null   object \n",
            " 88  TOTALAREA_MODE                54222 non-null   float64\n",
            " 89  WALLSMATERIAL_MODE            51570 non-null   object \n",
            " 90  EMERGENCYSTATE_MODE           55152 non-null   object \n",
            " 91  OBS_30_CNT_SOCIAL_CIRCLE      104408 non-null  float64\n",
            " 92  DEF_30_CNT_SOCIAL_CIRCLE      104408 non-null  float64\n",
            " 93  OBS_60_CNT_SOCIAL_CIRCLE      104408 non-null  float64\n",
            " 94  DEF_60_CNT_SOCIAL_CIRCLE      104408 non-null  float64\n",
            " 95  DAYS_LAST_PHONE_CHANGE        104755 non-null  float64\n",
            " 96  FLAG_DOCUMENT_2               104756 non-null  float64\n",
            " 97  FLAG_DOCUMENT_3               104756 non-null  float64\n",
            " 98  FLAG_DOCUMENT_4               104756 non-null  float64\n",
            " 99  FLAG_DOCUMENT_5               104756 non-null  float64\n",
            " 100 FLAG_DOCUMENT_6               104756 non-null  float64\n",
            " 101 FLAG_DOCUMENT_7               104756 non-null  float64\n",
            " 102 FLAG_DOCUMENT_8               104756 non-null  float64\n",
            " 103 FLAG_DOCUMENT_9               104756 non-null  float64\n",
            " 104 FLAG_DOCUMENT_10              104756 non-null  float64\n",
            " 105 FLAG_DOCUMENT_11              104756 non-null  float64\n",
            " 106 FLAG_DOCUMENT_12              104756 non-null  float64\n",
            " 107 FLAG_DOCUMENT_13              104756 non-null  float64\n",
            " 108 FLAG_DOCUMENT_14              104756 non-null  float64\n",
            " 109 FLAG_DOCUMENT_15              104756 non-null  float64\n",
            " 110 FLAG_DOCUMENT_16              104756 non-null  float64\n",
            " 111 FLAG_DOCUMENT_17              104756 non-null  float64\n",
            " 112 FLAG_DOCUMENT_18              104756 non-null  float64\n",
            " 113 FLAG_DOCUMENT_19              104756 non-null  float64\n",
            " 114 FLAG_DOCUMENT_20              104756 non-null  float64\n",
            " 115 FLAG_DOCUMENT_21              104756 non-null  float64\n",
            " 116 AMT_REQ_CREDIT_BUREAU_HOUR    90655 non-null   float64\n",
            " 117 AMT_REQ_CREDIT_BUREAU_DAY     90655 non-null   float64\n",
            " 118 AMT_REQ_CREDIT_BUREAU_WEEK    90655 non-null   float64\n",
            " 119 AMT_REQ_CREDIT_BUREAU_MON     90655 non-null   float64\n",
            " 120 AMT_REQ_CREDIT_BUREAU_QRT     90655 non-null   float64\n",
            " 121 AMT_REQ_CREDIT_BUREAU_YEAR    90655 non-null   float64\n",
            "dtypes: float64(97), int64(9), object(16)\n",
            "memory usage: 97.5+ MB\n"
          ],
          "name": "stdout"
        }
      ]
    },
    {
      "cell_type": "code",
      "metadata": {
        "colab": {
          "base_uri": "https://localhost:8080/",
          "height": 346
        },
        "id": "e5H-ZOiqHM6I",
        "outputId": "62f9ba0f-ed66-4631-da92-67d79a8ef91c"
      },
      "source": [
        "app_data.describe()"
      ],
      "execution_count": null,
      "outputs": [
        {
          "output_type": "execute_result",
          "data": {
            "text/html": [
              "<div>\n",
              "<style scoped>\n",
              "    .dataframe tbody tr th:only-of-type {\n",
              "        vertical-align: middle;\n",
              "    }\n",
              "\n",
              "    .dataframe tbody tr th {\n",
              "        vertical-align: top;\n",
              "    }\n",
              "\n",
              "    .dataframe thead th {\n",
              "        text-align: right;\n",
              "    }\n",
              "</style>\n",
              "<table border=\"1\" class=\"dataframe\">\n",
              "  <thead>\n",
              "    <tr style=\"text-align: right;\">\n",
              "      <th></th>\n",
              "      <th>SK_ID_CURR</th>\n",
              "      <th>TARGET</th>\n",
              "      <th>CNT_CHILDREN</th>\n",
              "      <th>AMT_INCOME_TOTAL</th>\n",
              "      <th>AMT_CREDIT</th>\n",
              "      <th>AMT_ANNUITY</th>\n",
              "      <th>AMT_GOODS_PRICE</th>\n",
              "      <th>REGION_POPULATION_RELATIVE</th>\n",
              "      <th>DAYS_BIRTH</th>\n",
              "      <th>DAYS_EMPLOYED</th>\n",
              "      <th>DAYS_REGISTRATION</th>\n",
              "      <th>DAYS_ID_PUBLISH</th>\n",
              "      <th>OWN_CAR_AGE</th>\n",
              "      <th>FLAG_MOBIL</th>\n",
              "      <th>FLAG_EMP_PHONE</th>\n",
              "      <th>FLAG_WORK_PHONE</th>\n",
              "      <th>FLAG_CONT_MOBILE</th>\n",
              "      <th>FLAG_PHONE</th>\n",
              "      <th>FLAG_EMAIL</th>\n",
              "      <th>CNT_FAM_MEMBERS</th>\n",
              "      <th>REGION_RATING_CLIENT</th>\n",
              "      <th>REGION_RATING_CLIENT_W_CITY</th>\n",
              "      <th>HOUR_APPR_PROCESS_START</th>\n",
              "      <th>REG_REGION_NOT_LIVE_REGION</th>\n",
              "      <th>REG_REGION_NOT_WORK_REGION</th>\n",
              "      <th>LIVE_REGION_NOT_WORK_REGION</th>\n",
              "      <th>REG_CITY_NOT_LIVE_CITY</th>\n",
              "      <th>REG_CITY_NOT_WORK_CITY</th>\n",
              "      <th>LIVE_CITY_NOT_WORK_CITY</th>\n",
              "      <th>EXT_SOURCE_1</th>\n",
              "      <th>EXT_SOURCE_2</th>\n",
              "      <th>EXT_SOURCE_3</th>\n",
              "      <th>APARTMENTS_AVG</th>\n",
              "      <th>BASEMENTAREA_AVG</th>\n",
              "      <th>YEARS_BEGINEXPLUATATION_AVG</th>\n",
              "      <th>YEARS_BUILD_AVG</th>\n",
              "      <th>COMMONAREA_AVG</th>\n",
              "      <th>ELEVATORS_AVG</th>\n",
              "      <th>ENTRANCES_AVG</th>\n",
              "      <th>FLOORSMAX_AVG</th>\n",
              "      <th>...</th>\n",
              "      <th>ENTRANCES_MEDI</th>\n",
              "      <th>FLOORSMAX_MEDI</th>\n",
              "      <th>FLOORSMIN_MEDI</th>\n",
              "      <th>LANDAREA_MEDI</th>\n",
              "      <th>LIVINGAPARTMENTS_MEDI</th>\n",
              "      <th>LIVINGAREA_MEDI</th>\n",
              "      <th>NONLIVINGAPARTMENTS_MEDI</th>\n",
              "      <th>NONLIVINGAREA_MEDI</th>\n",
              "      <th>TOTALAREA_MODE</th>\n",
              "      <th>OBS_30_CNT_SOCIAL_CIRCLE</th>\n",
              "      <th>DEF_30_CNT_SOCIAL_CIRCLE</th>\n",
              "      <th>OBS_60_CNT_SOCIAL_CIRCLE</th>\n",
              "      <th>DEF_60_CNT_SOCIAL_CIRCLE</th>\n",
              "      <th>DAYS_LAST_PHONE_CHANGE</th>\n",
              "      <th>FLAG_DOCUMENT_2</th>\n",
              "      <th>FLAG_DOCUMENT_3</th>\n",
              "      <th>FLAG_DOCUMENT_4</th>\n",
              "      <th>FLAG_DOCUMENT_5</th>\n",
              "      <th>FLAG_DOCUMENT_6</th>\n",
              "      <th>FLAG_DOCUMENT_7</th>\n",
              "      <th>FLAG_DOCUMENT_8</th>\n",
              "      <th>FLAG_DOCUMENT_9</th>\n",
              "      <th>FLAG_DOCUMENT_10</th>\n",
              "      <th>FLAG_DOCUMENT_11</th>\n",
              "      <th>FLAG_DOCUMENT_12</th>\n",
              "      <th>FLAG_DOCUMENT_13</th>\n",
              "      <th>FLAG_DOCUMENT_14</th>\n",
              "      <th>FLAG_DOCUMENT_15</th>\n",
              "      <th>FLAG_DOCUMENT_16</th>\n",
              "      <th>FLAG_DOCUMENT_17</th>\n",
              "      <th>FLAG_DOCUMENT_18</th>\n",
              "      <th>FLAG_DOCUMENT_19</th>\n",
              "      <th>FLAG_DOCUMENT_20</th>\n",
              "      <th>FLAG_DOCUMENT_21</th>\n",
              "      <th>AMT_REQ_CREDIT_BUREAU_HOUR</th>\n",
              "      <th>AMT_REQ_CREDIT_BUREAU_DAY</th>\n",
              "      <th>AMT_REQ_CREDIT_BUREAU_WEEK</th>\n",
              "      <th>AMT_REQ_CREDIT_BUREAU_MON</th>\n",
              "      <th>AMT_REQ_CREDIT_BUREAU_QRT</th>\n",
              "      <th>AMT_REQ_CREDIT_BUREAU_YEAR</th>\n",
              "    </tr>\n",
              "  </thead>\n",
              "  <tbody>\n",
              "    <tr>\n",
              "      <th>count</th>\n",
              "      <td>104757.000000</td>\n",
              "      <td>104757.000000</td>\n",
              "      <td>104757.000000</td>\n",
              "      <td>1.047570e+05</td>\n",
              "      <td>1.047570e+05</td>\n",
              "      <td>104750.000000</td>\n",
              "      <td>1.046740e+05</td>\n",
              "      <td>104757.000000</td>\n",
              "      <td>104757.000000</td>\n",
              "      <td>104757.000000</td>\n",
              "      <td>104757.000000</td>\n",
              "      <td>104757.000000</td>\n",
              "      <td>35557.000000</td>\n",
              "      <td>104757.00000</td>\n",
              "      <td>104757.000000</td>\n",
              "      <td>104757.000000</td>\n",
              "      <td>104756.000000</td>\n",
              "      <td>104756.000000</td>\n",
              "      <td>104756.000000</td>\n",
              "      <td>104755.000000</td>\n",
              "      <td>104756.000000</td>\n",
              "      <td>104756.000000</td>\n",
              "      <td>104756.000000</td>\n",
              "      <td>104756.000000</td>\n",
              "      <td>104756.000000</td>\n",
              "      <td>104756.000000</td>\n",
              "      <td>104756.000000</td>\n",
              "      <td>104756.000000</td>\n",
              "      <td>104756.000000</td>\n",
              "      <td>45776.000000</td>\n",
              "      <td>1.045310e+05</td>\n",
              "      <td>83966.000000</td>\n",
              "      <td>51646.000000</td>\n",
              "      <td>43592.000000</td>\n",
              "      <td>53723.000000</td>\n",
              "      <td>35252.000000</td>\n",
              "      <td>31677.000000</td>\n",
              "      <td>48930.000000</td>\n",
              "      <td>52063.000000</td>\n",
              "      <td>52679.000000</td>\n",
              "      <td>...</td>\n",
              "      <td>52063.000000</td>\n",
              "      <td>52679.000000</td>\n",
              "      <td>33829.000000</td>\n",
              "      <td>42669.000000</td>\n",
              "      <td>33232.000000</td>\n",
              "      <td>52208.000000</td>\n",
              "      <td>32158.000000</td>\n",
              "      <td>47037.000000</td>\n",
              "      <td>54222.000000</td>\n",
              "      <td>104408.000000</td>\n",
              "      <td>104408.000000</td>\n",
              "      <td>104408.000000</td>\n",
              "      <td>104408.000000</td>\n",
              "      <td>104755.000000</td>\n",
              "      <td>104756.000000</td>\n",
              "      <td>104756.000000</td>\n",
              "      <td>104756.000000</td>\n",
              "      <td>104756.000000</td>\n",
              "      <td>104756.000000</td>\n",
              "      <td>104756.000000</td>\n",
              "      <td>104756.000000</td>\n",
              "      <td>104756.000000</td>\n",
              "      <td>104756.000000</td>\n",
              "      <td>104756.000000</td>\n",
              "      <td>104756.00000</td>\n",
              "      <td>104756.000000</td>\n",
              "      <td>104756.000000</td>\n",
              "      <td>104756.000000</td>\n",
              "      <td>104756.000000</td>\n",
              "      <td>104756.000000</td>\n",
              "      <td>104756.000000</td>\n",
              "      <td>104756.000000</td>\n",
              "      <td>104756.000000</td>\n",
              "      <td>104756.000000</td>\n",
              "      <td>90655.000000</td>\n",
              "      <td>90655.000000</td>\n",
              "      <td>90655.000000</td>\n",
              "      <td>90655.000000</td>\n",
              "      <td>90655.000000</td>\n",
              "      <td>90655.000000</td>\n",
              "    </tr>\n",
              "    <tr>\n",
              "      <th>mean</th>\n",
              "      <td>160768.708077</td>\n",
              "      <td>0.081331</td>\n",
              "      <td>0.418101</td>\n",
              "      <td>1.694783e+05</td>\n",
              "      <td>5.989248e+05</td>\n",
              "      <td>27096.485327</td>\n",
              "      <td>5.383124e+05</td>\n",
              "      <td>0.020856</td>\n",
              "      <td>-16025.002721</td>\n",
              "      <td>63313.971190</td>\n",
              "      <td>-4985.040360</td>\n",
              "      <td>-2993.840459</td>\n",
              "      <td>12.015552</td>\n",
              "      <td>0.99999</td>\n",
              "      <td>0.821224</td>\n",
              "      <td>0.199681</td>\n",
              "      <td>0.997976</td>\n",
              "      <td>0.278724</td>\n",
              "      <td>0.056388</td>\n",
              "      <td>2.156174</td>\n",
              "      <td>2.053257</td>\n",
              "      <td>2.032332</td>\n",
              "      <td>12.057791</td>\n",
              "      <td>0.015092</td>\n",
              "      <td>0.050365</td>\n",
              "      <td>0.039950</td>\n",
              "      <td>0.079012</td>\n",
              "      <td>0.231166</td>\n",
              "      <td>0.179092</td>\n",
              "      <td>0.502570</td>\n",
              "      <td>5.142319e-01</td>\n",
              "      <td>0.510417</td>\n",
              "      <td>0.117299</td>\n",
              "      <td>0.088733</td>\n",
              "      <td>0.977708</td>\n",
              "      <td>0.751741</td>\n",
              "      <td>0.044900</td>\n",
              "      <td>0.078504</td>\n",
              "      <td>0.149992</td>\n",
              "      <td>0.225891</td>\n",
              "      <td>...</td>\n",
              "      <td>0.149444</td>\n",
              "      <td>0.225548</td>\n",
              "      <td>0.231452</td>\n",
              "      <td>0.066935</td>\n",
              "      <td>0.101647</td>\n",
              "      <td>0.108568</td>\n",
              "      <td>0.008800</td>\n",
              "      <td>0.027950</td>\n",
              "      <td>0.102478</td>\n",
              "      <td>1.422516</td>\n",
              "      <td>0.142278</td>\n",
              "      <td>1.405592</td>\n",
              "      <td>0.098556</td>\n",
              "      <td>-962.290554</td>\n",
              "      <td>0.000048</td>\n",
              "      <td>0.712026</td>\n",
              "      <td>0.000134</td>\n",
              "      <td>0.015207</td>\n",
              "      <td>0.087098</td>\n",
              "      <td>0.000200</td>\n",
              "      <td>0.080912</td>\n",
              "      <td>0.003627</td>\n",
              "      <td>0.000019</td>\n",
              "      <td>0.004124</td>\n",
              "      <td>0.00001</td>\n",
              "      <td>0.003494</td>\n",
              "      <td>0.003036</td>\n",
              "      <td>0.001117</td>\n",
              "      <td>0.010109</td>\n",
              "      <td>0.000239</td>\n",
              "      <td>0.008229</td>\n",
              "      <td>0.000659</td>\n",
              "      <td>0.000496</td>\n",
              "      <td>0.000325</td>\n",
              "      <td>0.006618</td>\n",
              "      <td>0.007291</td>\n",
              "      <td>0.033534</td>\n",
              "      <td>0.268270</td>\n",
              "      <td>0.266450</td>\n",
              "      <td>1.893255</td>\n",
              "    </tr>\n",
              "    <tr>\n",
              "      <th>std</th>\n",
              "      <td>35080.352790</td>\n",
              "      <td>0.273344</td>\n",
              "      <td>0.721583</td>\n",
              "      <td>3.756602e+05</td>\n",
              "      <td>4.023394e+05</td>\n",
              "      <td>14508.135747</td>\n",
              "      <td>3.697088e+05</td>\n",
              "      <td>0.013821</td>\n",
              "      <td>4369.083655</td>\n",
              "      <td>140857.745804</td>\n",
              "      <td>3523.522224</td>\n",
              "      <td>1510.672805</td>\n",
              "      <td>11.854445</td>\n",
              "      <td>0.00309</td>\n",
              "      <td>0.383166</td>\n",
              "      <td>0.399763</td>\n",
              "      <td>0.044941</td>\n",
              "      <td>0.448374</td>\n",
              "      <td>0.230671</td>\n",
              "      <td>0.909613</td>\n",
              "      <td>0.509879</td>\n",
              "      <td>0.503432</td>\n",
              "      <td>3.262309</td>\n",
              "      <td>0.121920</td>\n",
              "      <td>0.218697</td>\n",
              "      <td>0.195843</td>\n",
              "      <td>0.269759</td>\n",
              "      <td>0.421580</td>\n",
              "      <td>0.383431</td>\n",
              "      <td>0.211404</td>\n",
              "      <td>1.914994e-01</td>\n",
              "      <td>0.195146</td>\n",
              "      <td>0.108147</td>\n",
              "      <td>0.082907</td>\n",
              "      <td>0.058958</td>\n",
              "      <td>0.113722</td>\n",
              "      <td>0.077931</td>\n",
              "      <td>0.133931</td>\n",
              "      <td>0.100262</td>\n",
              "      <td>0.144907</td>\n",
              "      <td>...</td>\n",
              "      <td>0.100586</td>\n",
              "      <td>0.145400</td>\n",
              "      <td>0.162083</td>\n",
              "      <td>0.080974</td>\n",
              "      <td>0.093754</td>\n",
              "      <td>0.112458</td>\n",
              "      <td>0.047911</td>\n",
              "      <td>0.068909</td>\n",
              "      <td>0.107854</td>\n",
              "      <td>2.314252</td>\n",
              "      <td>0.439720</td>\n",
              "      <td>2.294443</td>\n",
              "      <td>0.355539</td>\n",
              "      <td>827.563256</td>\n",
              "      <td>0.006909</td>\n",
              "      <td>0.452821</td>\n",
              "      <td>0.011560</td>\n",
              "      <td>0.122375</td>\n",
              "      <td>0.281979</td>\n",
              "      <td>0.014157</td>\n",
              "      <td>0.272701</td>\n",
              "      <td>0.060119</td>\n",
              "      <td>0.004369</td>\n",
              "      <td>0.064085</td>\n",
              "      <td>0.00309</td>\n",
              "      <td>0.059006</td>\n",
              "      <td>0.055013</td>\n",
              "      <td>0.033401</td>\n",
              "      <td>0.100036</td>\n",
              "      <td>0.015447</td>\n",
              "      <td>0.090338</td>\n",
              "      <td>0.025656</td>\n",
              "      <td>0.022274</td>\n",
              "      <td>0.018013</td>\n",
              "      <td>0.085843</td>\n",
              "      <td>0.107015</td>\n",
              "      <td>0.203442</td>\n",
              "      <td>0.922408</td>\n",
              "      <td>0.614455</td>\n",
              "      <td>1.874831</td>\n",
              "    </tr>\n",
              "    <tr>\n",
              "      <th>min</th>\n",
              "      <td>100002.000000</td>\n",
              "      <td>0.000000</td>\n",
              "      <td>0.000000</td>\n",
              "      <td>2.565000e+04</td>\n",
              "      <td>4.500000e+04</td>\n",
              "      <td>1980.000000</td>\n",
              "      <td>4.500000e+04</td>\n",
              "      <td>0.000533</td>\n",
              "      <td>-25201.000000</td>\n",
              "      <td>-17531.000000</td>\n",
              "      <td>-22392.000000</td>\n",
              "      <td>-6265.000000</td>\n",
              "      <td>0.000000</td>\n",
              "      <td>0.00000</td>\n",
              "      <td>0.000000</td>\n",
              "      <td>0.000000</td>\n",
              "      <td>0.000000</td>\n",
              "      <td>0.000000</td>\n",
              "      <td>0.000000</td>\n",
              "      <td>1.000000</td>\n",
              "      <td>1.000000</td>\n",
              "      <td>1.000000</td>\n",
              "      <td>0.000000</td>\n",
              "      <td>0.000000</td>\n",
              "      <td>0.000000</td>\n",
              "      <td>0.000000</td>\n",
              "      <td>0.000000</td>\n",
              "      <td>0.000000</td>\n",
              "      <td>0.000000</td>\n",
              "      <td>0.014568</td>\n",
              "      <td>8.173617e-08</td>\n",
              "      <td>0.000527</td>\n",
              "      <td>0.000000</td>\n",
              "      <td>0.000000</td>\n",
              "      <td>0.000000</td>\n",
              "      <td>0.000000</td>\n",
              "      <td>0.000000</td>\n",
              "      <td>0.000000</td>\n",
              "      <td>0.000000</td>\n",
              "      <td>0.000000</td>\n",
              "      <td>...</td>\n",
              "      <td>0.000000</td>\n",
              "      <td>0.000000</td>\n",
              "      <td>0.000000</td>\n",
              "      <td>0.000000</td>\n",
              "      <td>0.000000</td>\n",
              "      <td>0.000000</td>\n",
              "      <td>0.000000</td>\n",
              "      <td>0.000000</td>\n",
              "      <td>0.000000</td>\n",
              "      <td>0.000000</td>\n",
              "      <td>0.000000</td>\n",
              "      <td>0.000000</td>\n",
              "      <td>0.000000</td>\n",
              "      <td>-4153.000000</td>\n",
              "      <td>0.000000</td>\n",
              "      <td>0.000000</td>\n",
              "      <td>0.000000</td>\n",
              "      <td>0.000000</td>\n",
              "      <td>0.000000</td>\n",
              "      <td>0.000000</td>\n",
              "      <td>0.000000</td>\n",
              "      <td>0.000000</td>\n",
              "      <td>0.000000</td>\n",
              "      <td>0.000000</td>\n",
              "      <td>0.00000</td>\n",
              "      <td>0.000000</td>\n",
              "      <td>0.000000</td>\n",
              "      <td>0.000000</td>\n",
              "      <td>0.000000</td>\n",
              "      <td>0.000000</td>\n",
              "      <td>0.000000</td>\n",
              "      <td>0.000000</td>\n",
              "      <td>0.000000</td>\n",
              "      <td>0.000000</td>\n",
              "      <td>0.000000</td>\n",
              "      <td>0.000000</td>\n",
              "      <td>0.000000</td>\n",
              "      <td>0.000000</td>\n",
              "      <td>0.000000</td>\n",
              "      <td>0.000000</td>\n",
              "    </tr>\n",
              "    <tr>\n",
              "      <th>25%</th>\n",
              "      <td>130459.000000</td>\n",
              "      <td>0.000000</td>\n",
              "      <td>0.000000</td>\n",
              "      <td>1.125000e+05</td>\n",
              "      <td>2.700000e+05</td>\n",
              "      <td>16456.500000</td>\n",
              "      <td>2.385000e+05</td>\n",
              "      <td>0.010006</td>\n",
              "      <td>-19669.000000</td>\n",
              "      <td>-2759.000000</td>\n",
              "      <td>-7475.000000</td>\n",
              "      <td>-4299.000000</td>\n",
              "      <td>5.000000</td>\n",
              "      <td>1.00000</td>\n",
              "      <td>1.000000</td>\n",
              "      <td>0.000000</td>\n",
              "      <td>1.000000</td>\n",
              "      <td>0.000000</td>\n",
              "      <td>0.000000</td>\n",
              "      <td>2.000000</td>\n",
              "      <td>2.000000</td>\n",
              "      <td>2.000000</td>\n",
              "      <td>10.000000</td>\n",
              "      <td>0.000000</td>\n",
              "      <td>0.000000</td>\n",
              "      <td>0.000000</td>\n",
              "      <td>0.000000</td>\n",
              "      <td>0.000000</td>\n",
              "      <td>0.000000</td>\n",
              "      <td>0.333893</td>\n",
              "      <td>3.916209e-01</td>\n",
              "      <td>0.370650</td>\n",
              "      <td>0.057700</td>\n",
              "      <td>0.044200</td>\n",
              "      <td>0.976700</td>\n",
              "      <td>0.687200</td>\n",
              "      <td>0.007800</td>\n",
              "      <td>0.000000</td>\n",
              "      <td>0.069000</td>\n",
              "      <td>0.166700</td>\n",
              "      <td>...</td>\n",
              "      <td>0.069000</td>\n",
              "      <td>0.166700</td>\n",
              "      <td>0.083300</td>\n",
              "      <td>0.019000</td>\n",
              "      <td>0.051300</td>\n",
              "      <td>0.045900</td>\n",
              "      <td>0.000000</td>\n",
              "      <td>0.000000</td>\n",
              "      <td>0.041125</td>\n",
              "      <td>0.000000</td>\n",
              "      <td>0.000000</td>\n",
              "      <td>0.000000</td>\n",
              "      <td>0.000000</td>\n",
              "      <td>-1570.000000</td>\n",
              "      <td>0.000000</td>\n",
              "      <td>0.000000</td>\n",
              "      <td>0.000000</td>\n",
              "      <td>0.000000</td>\n",
              "      <td>0.000000</td>\n",
              "      <td>0.000000</td>\n",
              "      <td>0.000000</td>\n",
              "      <td>0.000000</td>\n",
              "      <td>0.000000</td>\n",
              "      <td>0.000000</td>\n",
              "      <td>0.00000</td>\n",
              "      <td>0.000000</td>\n",
              "      <td>0.000000</td>\n",
              "      <td>0.000000</td>\n",
              "      <td>0.000000</td>\n",
              "      <td>0.000000</td>\n",
              "      <td>0.000000</td>\n",
              "      <td>0.000000</td>\n",
              "      <td>0.000000</td>\n",
              "      <td>0.000000</td>\n",
              "      <td>0.000000</td>\n",
              "      <td>0.000000</td>\n",
              "      <td>0.000000</td>\n",
              "      <td>0.000000</td>\n",
              "      <td>0.000000</td>\n",
              "      <td>0.000000</td>\n",
              "    </tr>\n",
              "    <tr>\n",
              "      <th>50%</th>\n",
              "      <td>160654.000000</td>\n",
              "      <td>0.000000</td>\n",
              "      <td>0.000000</td>\n",
              "      <td>1.440000e+05</td>\n",
              "      <td>5.129955e+05</td>\n",
              "      <td>24903.000000</td>\n",
              "      <td>4.500000e+05</td>\n",
              "      <td>0.018850</td>\n",
              "      <td>-15736.000000</td>\n",
              "      <td>-1219.000000</td>\n",
              "      <td>-4493.000000</td>\n",
              "      <td>-3254.000000</td>\n",
              "      <td>9.000000</td>\n",
              "      <td>1.00000</td>\n",
              "      <td>1.000000</td>\n",
              "      <td>0.000000</td>\n",
              "      <td>1.000000</td>\n",
              "      <td>0.000000</td>\n",
              "      <td>0.000000</td>\n",
              "      <td>2.000000</td>\n",
              "      <td>2.000000</td>\n",
              "      <td>2.000000</td>\n",
              "      <td>12.000000</td>\n",
              "      <td>0.000000</td>\n",
              "      <td>0.000000</td>\n",
              "      <td>0.000000</td>\n",
              "      <td>0.000000</td>\n",
              "      <td>0.000000</td>\n",
              "      <td>0.000000</td>\n",
              "      <td>0.506912</td>\n",
              "      <td>5.663159e-01</td>\n",
              "      <td>0.535276</td>\n",
              "      <td>0.087600</td>\n",
              "      <td>0.076200</td>\n",
              "      <td>0.981600</td>\n",
              "      <td>0.755200</td>\n",
              "      <td>0.021000</td>\n",
              "      <td>0.000000</td>\n",
              "      <td>0.137900</td>\n",
              "      <td>0.166700</td>\n",
              "      <td>...</td>\n",
              "      <td>0.137900</td>\n",
              "      <td>0.166700</td>\n",
              "      <td>0.208300</td>\n",
              "      <td>0.048700</td>\n",
              "      <td>0.076100</td>\n",
              "      <td>0.074600</td>\n",
              "      <td>0.000000</td>\n",
              "      <td>0.003100</td>\n",
              "      <td>0.068600</td>\n",
              "      <td>0.000000</td>\n",
              "      <td>0.000000</td>\n",
              "      <td>0.000000</td>\n",
              "      <td>0.000000</td>\n",
              "      <td>-755.000000</td>\n",
              "      <td>0.000000</td>\n",
              "      <td>1.000000</td>\n",
              "      <td>0.000000</td>\n",
              "      <td>0.000000</td>\n",
              "      <td>0.000000</td>\n",
              "      <td>0.000000</td>\n",
              "      <td>0.000000</td>\n",
              "      <td>0.000000</td>\n",
              "      <td>0.000000</td>\n",
              "      <td>0.000000</td>\n",
              "      <td>0.00000</td>\n",
              "      <td>0.000000</td>\n",
              "      <td>0.000000</td>\n",
              "      <td>0.000000</td>\n",
              "      <td>0.000000</td>\n",
              "      <td>0.000000</td>\n",
              "      <td>0.000000</td>\n",
              "      <td>0.000000</td>\n",
              "      <td>0.000000</td>\n",
              "      <td>0.000000</td>\n",
              "      <td>0.000000</td>\n",
              "      <td>0.000000</td>\n",
              "      <td>0.000000</td>\n",
              "      <td>0.000000</td>\n",
              "      <td>0.000000</td>\n",
              "      <td>1.000000</td>\n",
              "    </tr>\n",
              "    <tr>\n",
              "      <th>75%</th>\n",
              "      <td>191080.000000</td>\n",
              "      <td>0.000000</td>\n",
              "      <td>1.000000</td>\n",
              "      <td>2.025000e+05</td>\n",
              "      <td>8.086500e+05</td>\n",
              "      <td>34596.000000</td>\n",
              "      <td>6.795000e+05</td>\n",
              "      <td>0.028663</td>\n",
              "      <td>-12384.000000</td>\n",
              "      <td>-291.000000</td>\n",
              "      <td>-2016.000000</td>\n",
              "      <td>-1716.000000</td>\n",
              "      <td>15.000000</td>\n",
              "      <td>1.00000</td>\n",
              "      <td>1.000000</td>\n",
              "      <td>0.000000</td>\n",
              "      <td>1.000000</td>\n",
              "      <td>1.000000</td>\n",
              "      <td>0.000000</td>\n",
              "      <td>3.000000</td>\n",
              "      <td>2.000000</td>\n",
              "      <td>2.000000</td>\n",
              "      <td>14.000000</td>\n",
              "      <td>0.000000</td>\n",
              "      <td>0.000000</td>\n",
              "      <td>0.000000</td>\n",
              "      <td>0.000000</td>\n",
              "      <td>0.000000</td>\n",
              "      <td>0.000000</td>\n",
              "      <td>0.675430</td>\n",
              "      <td>6.641148e-01</td>\n",
              "      <td>0.669057</td>\n",
              "      <td>0.148500</td>\n",
              "      <td>0.112600</td>\n",
              "      <td>0.986600</td>\n",
              "      <td>0.823200</td>\n",
              "      <td>0.051200</td>\n",
              "      <td>0.120000</td>\n",
              "      <td>0.206900</td>\n",
              "      <td>0.333300</td>\n",
              "      <td>...</td>\n",
              "      <td>0.206900</td>\n",
              "      <td>0.333300</td>\n",
              "      <td>0.375000</td>\n",
              "      <td>0.087100</td>\n",
              "      <td>0.123100</td>\n",
              "      <td>0.129825</td>\n",
              "      <td>0.003900</td>\n",
              "      <td>0.026500</td>\n",
              "      <td>0.127500</td>\n",
              "      <td>2.000000</td>\n",
              "      <td>0.000000</td>\n",
              "      <td>2.000000</td>\n",
              "      <td>0.000000</td>\n",
              "      <td>-272.000000</td>\n",
              "      <td>0.000000</td>\n",
              "      <td>1.000000</td>\n",
              "      <td>0.000000</td>\n",
              "      <td>0.000000</td>\n",
              "      <td>0.000000</td>\n",
              "      <td>0.000000</td>\n",
              "      <td>0.000000</td>\n",
              "      <td>0.000000</td>\n",
              "      <td>0.000000</td>\n",
              "      <td>0.000000</td>\n",
              "      <td>0.00000</td>\n",
              "      <td>0.000000</td>\n",
              "      <td>0.000000</td>\n",
              "      <td>0.000000</td>\n",
              "      <td>0.000000</td>\n",
              "      <td>0.000000</td>\n",
              "      <td>0.000000</td>\n",
              "      <td>0.000000</td>\n",
              "      <td>0.000000</td>\n",
              "      <td>0.000000</td>\n",
              "      <td>0.000000</td>\n",
              "      <td>0.000000</td>\n",
              "      <td>0.000000</td>\n",
              "      <td>0.000000</td>\n",
              "      <td>0.000000</td>\n",
              "      <td>3.000000</td>\n",
              "    </tr>\n",
              "    <tr>\n",
              "      <th>max</th>\n",
              "      <td>221561.000000</td>\n",
              "      <td>1.000000</td>\n",
              "      <td>12.000000</td>\n",
              "      <td>1.170000e+08</td>\n",
              "      <td>4.050000e+06</td>\n",
              "      <td>258025.500000</td>\n",
              "      <td>4.050000e+06</td>\n",
              "      <td>0.072508</td>\n",
              "      <td>-7676.000000</td>\n",
              "      <td>365243.000000</td>\n",
              "      <td>0.000000</td>\n",
              "      <td>0.000000</td>\n",
              "      <td>65.000000</td>\n",
              "      <td>1.00000</td>\n",
              "      <td>1.000000</td>\n",
              "      <td>1.000000</td>\n",
              "      <td>1.000000</td>\n",
              "      <td>1.000000</td>\n",
              "      <td>1.000000</td>\n",
              "      <td>14.000000</td>\n",
              "      <td>3.000000</td>\n",
              "      <td>3.000000</td>\n",
              "      <td>23.000000</td>\n",
              "      <td>1.000000</td>\n",
              "      <td>1.000000</td>\n",
              "      <td>1.000000</td>\n",
              "      <td>1.000000</td>\n",
              "      <td>1.000000</td>\n",
              "      <td>1.000000</td>\n",
              "      <td>0.951624</td>\n",
              "      <td>8.549997e-01</td>\n",
              "      <td>0.896010</td>\n",
              "      <td>1.000000</td>\n",
              "      <td>1.000000</td>\n",
              "      <td>1.000000</td>\n",
              "      <td>1.000000</td>\n",
              "      <td>1.000000</td>\n",
              "      <td>1.000000</td>\n",
              "      <td>1.000000</td>\n",
              "      <td>1.000000</td>\n",
              "      <td>...</td>\n",
              "      <td>1.000000</td>\n",
              "      <td>1.000000</td>\n",
              "      <td>1.000000</td>\n",
              "      <td>1.000000</td>\n",
              "      <td>1.000000</td>\n",
              "      <td>1.000000</td>\n",
              "      <td>1.000000</td>\n",
              "      <td>1.000000</td>\n",
              "      <td>1.000000</td>\n",
              "      <td>47.000000</td>\n",
              "      <td>6.000000</td>\n",
              "      <td>47.000000</td>\n",
              "      <td>5.000000</td>\n",
              "      <td>0.000000</td>\n",
              "      <td>1.000000</td>\n",
              "      <td>1.000000</td>\n",
              "      <td>1.000000</td>\n",
              "      <td>1.000000</td>\n",
              "      <td>1.000000</td>\n",
              "      <td>1.000000</td>\n",
              "      <td>1.000000</td>\n",
              "      <td>1.000000</td>\n",
              "      <td>1.000000</td>\n",
              "      <td>1.000000</td>\n",
              "      <td>1.00000</td>\n",
              "      <td>1.000000</td>\n",
              "      <td>1.000000</td>\n",
              "      <td>1.000000</td>\n",
              "      <td>1.000000</td>\n",
              "      <td>1.000000</td>\n",
              "      <td>1.000000</td>\n",
              "      <td>1.000000</td>\n",
              "      <td>1.000000</td>\n",
              "      <td>1.000000</td>\n",
              "      <td>3.000000</td>\n",
              "      <td>6.000000</td>\n",
              "      <td>8.000000</td>\n",
              "      <td>24.000000</td>\n",
              "      <td>8.000000</td>\n",
              "      <td>25.000000</td>\n",
              "    </tr>\n",
              "  </tbody>\n",
              "</table>\n",
              "<p>8 rows × 106 columns</p>\n",
              "</div>"
            ],
            "text/plain": [
              "          SK_ID_CURR  ...  AMT_REQ_CREDIT_BUREAU_YEAR\n",
              "count  104757.000000  ...                90655.000000\n",
              "mean   160768.708077  ...                    1.893255\n",
              "std     35080.352790  ...                    1.874831\n",
              "min    100002.000000  ...                    0.000000\n",
              "25%    130459.000000  ...                    0.000000\n",
              "50%    160654.000000  ...                    1.000000\n",
              "75%    191080.000000  ...                    3.000000\n",
              "max    221561.000000  ...                   25.000000\n",
              "\n",
              "[8 rows x 106 columns]"
            ]
          },
          "metadata": {
            "tags": []
          },
          "execution_count": 173
        }
      ]
    },
    {
      "cell_type": "markdown",
      "metadata": {
        "id": "dPlpOu_TsOR6"
      },
      "source": [
        "1.DAYS_BIRTH, DAYS_EMPLOYED, DAYS_REGISTRATION, DAYS_ID_PUBLISH columns(attributes) are with negative sign.\n",
        "\n",
        "2.Maximum value for DAYS_EMPLOYED is 365243 which when converted to years gives \n",
        "1000.MAx value for Days_Birth is negative which doesn't make sense.It is an outlier as no person would serve so long.\n",
        "\n"
      ]
    },
    {
      "cell_type": "code",
      "metadata": {
        "id": "yzK-_X7jXmbc"
      },
      "source": [
        "#convert negative to absolute values\n",
        "date_col = ['DAYS_BIRTH','DAYS_EMPLOYED','DAYS_REGISTRATION','DAYS_ID_PUBLISH']\n",
        "for col in date_col:\n",
        "    app_data[col] = abs(app_data[col])"
      ],
      "execution_count": null,
      "outputs": []
    },
    {
      "cell_type": "code",
      "metadata": {
        "colab": {
          "base_uri": "https://localhost:8080/"
        },
        "id": "xR9tw6UwMJ5L",
        "outputId": "3fa257e5-77ce-45c1-e739-78bc8bb708b3"
      },
      "source": [
        "prev_data.info(verbose=True,null_counts=True)"
      ],
      "execution_count": null,
      "outputs": [
        {
          "output_type": "stream",
          "text": [
            "<class 'pandas.core.frame.DataFrame'>\n",
            "RangeIndex: 231759 entries, 0 to 231758\n",
            "Data columns (total 37 columns):\n",
            " #   Column                       Non-Null Count   Dtype  \n",
            "---  ------                       --------------   -----  \n",
            " 0   SK_ID_PREV                   231759 non-null  int64  \n",
            " 1   SK_ID_CURR                   231759 non-null  int64  \n",
            " 2   NAME_CONTRACT_TYPE           231714 non-null  object \n",
            " 3   AMT_ANNUITY                  181761 non-null  float64\n",
            " 4   AMT_APPLICATION              231759 non-null  float64\n",
            " 5   AMT_CREDIT                   231759 non-null  float64\n",
            " 6   AMT_DOWN_PAYMENT             111889 non-null  float64\n",
            " 7   AMT_GOODS_PRICE              180228 non-null  float64\n",
            " 8   WEEKDAY_APPR_PROCESS_START   231758 non-null  object \n",
            " 9   HOUR_APPR_PROCESS_START      231758 non-null  float64\n",
            " 10  FLAG_LAST_APPL_PER_CONTRACT  231758 non-null  object \n",
            " 11  NFLAG_LAST_APPL_IN_DAY       231758 non-null  float64\n",
            " 12  RATE_DOWN_PAYMENT            111888 non-null  float64\n",
            " 13  RATE_INTEREST_PRIMARY        829 non-null     float64\n",
            " 14  RATE_INTEREST_PRIVILEGED     829 non-null     float64\n",
            " 15  NAME_CASH_LOAN_PURPOSE       141698 non-null  object \n",
            " 16  NAME_CONTRACT_STATUS         231758 non-null  object \n",
            " 17  DAYS_DECISION                231758 non-null  float64\n",
            " 18  NAME_PAYMENT_TYPE            147434 non-null  object \n",
            " 19  CODE_REJECT_REASON           231010 non-null  object \n",
            " 20  NAME_TYPE_SUITE              118743 non-null  object \n",
            " 21  NAME_CLIENT_TYPE             231504 non-null  object \n",
            " 22  NAME_GOODS_CATEGORY          104429 non-null  object \n",
            " 23  NAME_PORTFOLIO               181761 non-null  object \n",
            " 24  NAME_PRODUCT_TYPE            81282 non-null   object \n",
            " 25  CHANNEL_TYPE                 231758 non-null  object \n",
            " 26  SELLERPLACE_AREA             231758 non-null  float64\n",
            " 27  NAME_SELLER_INDUSTRY         118285 non-null  object \n",
            " 28  CNT_PAYMENT                  181761 non-null  float64\n",
            " 29  NAME_YIELD_GROUP             161840 non-null  object \n",
            " 30  PRODUCT_COMBINATION          231713 non-null  object \n",
            " 31  DAYS_FIRST_DRAWING           141302 non-null  float64\n",
            " 32  DAYS_FIRST_DUE               141302 non-null  float64\n",
            " 33  DAYS_LAST_DUE_1ST_VERSION    141302 non-null  float64\n",
            " 34  DAYS_LAST_DUE                141302 non-null  float64\n",
            " 35  DAYS_TERMINATION             141302 non-null  float64\n",
            " 36  NFLAG_INSURED_ON_APPROVAL    141302 non-null  float64\n",
            "dtypes: float64(19), int64(2), object(16)\n",
            "memory usage: 65.4+ MB\n"
          ],
          "name": "stdout"
        }
      ]
    },
    {
      "cell_type": "code",
      "metadata": {
        "colab": {
          "base_uri": "https://localhost:8080/"
        },
        "id": "lLfqjXyHTBKm",
        "outputId": "f046684f-f1f8-4fde-91b6-c2913d89cf35"
      },
      "source": [
        "pd.isnull(prev_data).sum()"
      ],
      "execution_count": null,
      "outputs": [
        {
          "output_type": "execute_result",
          "data": {
            "text/plain": [
              "SK_ID_PREV                          0\n",
              "SK_ID_CURR                          0\n",
              "NAME_CONTRACT_TYPE                 45\n",
              "AMT_ANNUITY                     49998\n",
              "AMT_APPLICATION                     0\n",
              "AMT_CREDIT                          0\n",
              "AMT_DOWN_PAYMENT               119870\n",
              "AMT_GOODS_PRICE                 51531\n",
              "WEEKDAY_APPR_PROCESS_START          1\n",
              "HOUR_APPR_PROCESS_START             1\n",
              "FLAG_LAST_APPL_PER_CONTRACT         1\n",
              "NFLAG_LAST_APPL_IN_DAY              1\n",
              "RATE_DOWN_PAYMENT              119871\n",
              "RATE_INTEREST_PRIMARY          230930\n",
              "RATE_INTEREST_PRIVILEGED       230930\n",
              "NAME_CASH_LOAN_PURPOSE          90061\n",
              "NAME_CONTRACT_STATUS                1\n",
              "DAYS_DECISION                       1\n",
              "NAME_PAYMENT_TYPE               84325\n",
              "CODE_REJECT_REASON                749\n",
              "NAME_TYPE_SUITE                113016\n",
              "NAME_CLIENT_TYPE                  255\n",
              "NAME_GOODS_CATEGORY            127330\n",
              "NAME_PORTFOLIO                  49998\n",
              "NAME_PRODUCT_TYPE              150477\n",
              "CHANNEL_TYPE                        1\n",
              "SELLERPLACE_AREA                    1\n",
              "NAME_SELLER_INDUSTRY           113474\n",
              "CNT_PAYMENT                     49998\n",
              "NAME_YIELD_GROUP                69919\n",
              "PRODUCT_COMBINATION                46\n",
              "DAYS_FIRST_DRAWING              90457\n",
              "DAYS_FIRST_DUE                  90457\n",
              "DAYS_LAST_DUE_1ST_VERSION       90457\n",
              "DAYS_LAST_DUE                   90457\n",
              "DAYS_TERMINATION                90457\n",
              "NFLAG_INSURED_ON_APPROVAL       90457\n",
              "dtype: int64"
            ]
          },
          "metadata": {
            "tags": []
          },
          "execution_count": 176
        }
      ]
    },
    {
      "cell_type": "code",
      "metadata": {
        "colab": {
          "base_uri": "https://localhost:8080/",
          "height": 317
        },
        "id": "KhWwsT0FMU6a",
        "outputId": "49e0241a-2fc1-4ccf-83e6-7e6ea6de497d"
      },
      "source": [
        "prev_data.describe()"
      ],
      "execution_count": null,
      "outputs": [
        {
          "output_type": "execute_result",
          "data": {
            "text/html": [
              "<div>\n",
              "<style scoped>\n",
              "    .dataframe tbody tr th:only-of-type {\n",
              "        vertical-align: middle;\n",
              "    }\n",
              "\n",
              "    .dataframe tbody tr th {\n",
              "        vertical-align: top;\n",
              "    }\n",
              "\n",
              "    .dataframe thead th {\n",
              "        text-align: right;\n",
              "    }\n",
              "</style>\n",
              "<table border=\"1\" class=\"dataframe\">\n",
              "  <thead>\n",
              "    <tr style=\"text-align: right;\">\n",
              "      <th></th>\n",
              "      <th>SK_ID_PREV</th>\n",
              "      <th>SK_ID_CURR</th>\n",
              "      <th>AMT_ANNUITY</th>\n",
              "      <th>AMT_APPLICATION</th>\n",
              "      <th>AMT_CREDIT</th>\n",
              "      <th>AMT_DOWN_PAYMENT</th>\n",
              "      <th>AMT_GOODS_PRICE</th>\n",
              "      <th>HOUR_APPR_PROCESS_START</th>\n",
              "      <th>NFLAG_LAST_APPL_IN_DAY</th>\n",
              "      <th>RATE_DOWN_PAYMENT</th>\n",
              "      <th>RATE_INTEREST_PRIMARY</th>\n",
              "      <th>RATE_INTEREST_PRIVILEGED</th>\n",
              "      <th>DAYS_DECISION</th>\n",
              "      <th>SELLERPLACE_AREA</th>\n",
              "      <th>CNT_PAYMENT</th>\n",
              "      <th>DAYS_FIRST_DRAWING</th>\n",
              "      <th>DAYS_FIRST_DUE</th>\n",
              "      <th>DAYS_LAST_DUE_1ST_VERSION</th>\n",
              "      <th>DAYS_LAST_DUE</th>\n",
              "      <th>DAYS_TERMINATION</th>\n",
              "      <th>NFLAG_INSURED_ON_APPROVAL</th>\n",
              "    </tr>\n",
              "  </thead>\n",
              "  <tbody>\n",
              "    <tr>\n",
              "      <th>count</th>\n",
              "      <td>2.317590e+05</td>\n",
              "      <td>231759.000000</td>\n",
              "      <td>181761.000000</td>\n",
              "      <td>2.317590e+05</td>\n",
              "      <td>2.317590e+05</td>\n",
              "      <td>1.118890e+05</td>\n",
              "      <td>1.802280e+05</td>\n",
              "      <td>231758.000000</td>\n",
              "      <td>231758.000000</td>\n",
              "      <td>111888.000000</td>\n",
              "      <td>829.000000</td>\n",
              "      <td>829.000000</td>\n",
              "      <td>231758.000000</td>\n",
              "      <td>2.317580e+05</td>\n",
              "      <td>181761.000000</td>\n",
              "      <td>141302.000000</td>\n",
              "      <td>141302.000000</td>\n",
              "      <td>141302.000000</td>\n",
              "      <td>141302.000000</td>\n",
              "      <td>141302.000000</td>\n",
              "      <td>141302.000000</td>\n",
              "    </tr>\n",
              "    <tr>\n",
              "      <th>mean</th>\n",
              "      <td>1.920515e+06</td>\n",
              "      <td>278618.616265</td>\n",
              "      <td>15611.194728</td>\n",
              "      <td>1.709133e+05</td>\n",
              "      <td>1.908972e+05</td>\n",
              "      <td>6.624036e+03</td>\n",
              "      <td>2.198170e+05</td>\n",
              "      <td>12.485235</td>\n",
              "      <td>0.996406</td>\n",
              "      <td>0.079521</td>\n",
              "      <td>0.191826</td>\n",
              "      <td>0.779263</td>\n",
              "      <td>-895.436386</td>\n",
              "      <td>3.405851e+02</td>\n",
              "      <td>15.715225</td>\n",
              "      <td>343073.145412</td>\n",
              "      <td>13873.932159</td>\n",
              "      <td>32744.602433</td>\n",
              "      <td>76188.764667</td>\n",
              "      <td>81334.212800</td>\n",
              "      <td>0.325827</td>\n",
              "    </tr>\n",
              "    <tr>\n",
              "      <th>std</th>\n",
              "      <td>5.337304e+05</td>\n",
              "      <td>102799.998841</td>\n",
              "      <td>14617.241778</td>\n",
              "      <td>2.863248e+05</td>\n",
              "      <td>3.123444e+05</td>\n",
              "      <td>1.830046e+04</td>\n",
              "      <td>3.077325e+05</td>\n",
              "      <td>3.325816</td>\n",
              "      <td>0.059844</td>\n",
              "      <td>0.107236</td>\n",
              "      <td>0.093440</td>\n",
              "      <td>0.099995</td>\n",
              "      <td>786.335939</td>\n",
              "      <td>1.185303e+04</td>\n",
              "      <td>14.235521</td>\n",
              "      <td>87341.818409</td>\n",
              "      <td>72568.662915</td>\n",
              "      <td>105438.796373</td>\n",
              "      <td>149377.722465</td>\n",
              "      <td>152880.474342</td>\n",
              "      <td>0.468685</td>\n",
              "    </tr>\n",
              "    <tr>\n",
              "      <th>min</th>\n",
              "      <td>1.000001e+06</td>\n",
              "      <td>100001.000000</td>\n",
              "      <td>0.000000</td>\n",
              "      <td>0.000000e+00</td>\n",
              "      <td>0.000000e+00</td>\n",
              "      <td>0.000000e+00</td>\n",
              "      <td>0.000000e+00</td>\n",
              "      <td>0.000000</td>\n",
              "      <td>0.000000</td>\n",
              "      <td>0.000000</td>\n",
              "      <td>0.059121</td>\n",
              "      <td>0.373150</td>\n",
              "      <td>-2922.000000</td>\n",
              "      <td>-1.000000e+00</td>\n",
              "      <td>0.000000</td>\n",
              "      <td>-2920.000000</td>\n",
              "      <td>-2892.000000</td>\n",
              "      <td>-2800.000000</td>\n",
              "      <td>-2888.000000</td>\n",
              "      <td>-2847.000000</td>\n",
              "      <td>0.000000</td>\n",
              "    </tr>\n",
              "    <tr>\n",
              "      <th>25%</th>\n",
              "      <td>1.458053e+06</td>\n",
              "      <td>189654.000000</td>\n",
              "      <td>6190.335000</td>\n",
              "      <td>2.047500e+04</td>\n",
              "      <td>2.509875e+04</td>\n",
              "      <td>0.000000e+00</td>\n",
              "      <td>4.945500e+04</td>\n",
              "      <td>10.000000</td>\n",
              "      <td>1.000000</td>\n",
              "      <td>0.000000</td>\n",
              "      <td>0.160716</td>\n",
              "      <td>0.715645</td>\n",
              "      <td>-1337.000000</td>\n",
              "      <td>-1.000000e+00</td>\n",
              "      <td>6.000000</td>\n",
              "      <td>365243.000000</td>\n",
              "      <td>-1648.000000</td>\n",
              "      <td>-1268.000000</td>\n",
              "      <td>-1338.000000</td>\n",
              "      <td>-1296.000000</td>\n",
              "      <td>0.000000</td>\n",
              "    </tr>\n",
              "    <tr>\n",
              "      <th>50%</th>\n",
              "      <td>1.920228e+06</td>\n",
              "      <td>278907.000000</td>\n",
              "      <td>11012.400000</td>\n",
              "      <td>7.069500e+04</td>\n",
              "      <td>7.905600e+04</td>\n",
              "      <td>1.701000e+03</td>\n",
              "      <td>1.074060e+05</td>\n",
              "      <td>12.000000</td>\n",
              "      <td>1.000000</td>\n",
              "      <td>0.052995</td>\n",
              "      <td>0.189136</td>\n",
              "      <td>0.835095</td>\n",
              "      <td>-594.000000</td>\n",
              "      <td>6.000000e+00</td>\n",
              "      <td>12.000000</td>\n",
              "      <td>365243.000000</td>\n",
              "      <td>-831.000000</td>\n",
              "      <td>-370.000000</td>\n",
              "      <td>-542.000000</td>\n",
              "      <td>-503.000000</td>\n",
              "      <td>0.000000</td>\n",
              "    </tr>\n",
              "    <tr>\n",
              "      <th>75%</th>\n",
              "      <td>2.382790e+06</td>\n",
              "      <td>367952.000000</td>\n",
              "      <td>20052.675000</td>\n",
              "      <td>1.800000e+05</td>\n",
              "      <td>2.025000e+05</td>\n",
              "      <td>7.726500e+03</td>\n",
              "      <td>2.250000e+05</td>\n",
              "      <td>15.000000</td>\n",
              "      <td>1.000000</td>\n",
              "      <td>0.108909</td>\n",
              "      <td>0.193330</td>\n",
              "      <td>0.852537</td>\n",
              "      <td>-286.000000</td>\n",
              "      <td>1.000000e+02</td>\n",
              "      <td>24.000000</td>\n",
              "      <td>365243.000000</td>\n",
              "      <td>-409.000000</td>\n",
              "      <td>118.000000</td>\n",
              "      <td>-75.000000</td>\n",
              "      <td>-47.000000</td>\n",
              "      <td>1.000000</td>\n",
              "    </tr>\n",
              "    <tr>\n",
              "      <th>max</th>\n",
              "      <td>2.845382e+06</td>\n",
              "      <td>456255.000000</td>\n",
              "      <td>417927.645000</td>\n",
              "      <td>3.826372e+06</td>\n",
              "      <td>4.104351e+06</td>\n",
              "      <td>1.201500e+06</td>\n",
              "      <td>3.826372e+06</td>\n",
              "      <td>23.000000</td>\n",
              "      <td>1.000000</td>\n",
              "      <td>0.989740</td>\n",
              "      <td>1.000000</td>\n",
              "      <td>0.867336</td>\n",
              "      <td>-2.000000</td>\n",
              "      <td>4.000000e+06</td>\n",
              "      <td>84.000000</td>\n",
              "      <td>365243.000000</td>\n",
              "      <td>365243.000000</td>\n",
              "      <td>365243.000000</td>\n",
              "      <td>365243.000000</td>\n",
              "      <td>365243.000000</td>\n",
              "      <td>1.000000</td>\n",
              "    </tr>\n",
              "  </tbody>\n",
              "</table>\n",
              "</div>"
            ],
            "text/plain": [
              "         SK_ID_PREV     SK_ID_CURR  ...  DAYS_TERMINATION  NFLAG_INSURED_ON_APPROVAL\n",
              "count  2.317590e+05  231759.000000  ...     141302.000000              141302.000000\n",
              "mean   1.920515e+06  278618.616265  ...      81334.212800                   0.325827\n",
              "std    5.337304e+05  102799.998841  ...     152880.474342                   0.468685\n",
              "min    1.000001e+06  100001.000000  ...      -2847.000000                   0.000000\n",
              "25%    1.458053e+06  189654.000000  ...      -1296.000000                   0.000000\n",
              "50%    1.920228e+06  278907.000000  ...       -503.000000                   0.000000\n",
              "75%    2.382790e+06  367952.000000  ...        -47.000000                   1.000000\n",
              "max    2.845382e+06  456255.000000  ...     365243.000000                   1.000000\n",
              "\n",
              "[8 rows x 21 columns]"
            ]
          },
          "metadata": {
            "tags": []
          },
          "execution_count": 177
        }
      ]
    },
    {
      "cell_type": "markdown",
      "metadata": {
        "id": "71r8TEoFuAiK"
      },
      "source": [
        "Few Columns like Days_DEcision, Sellerplace_area min values are negative \n",
        "\n",
        "CNT_PAYMENT describes the term of payment in months. Hence, should be in integer datatype"
      ]
    },
    {
      "cell_type": "code",
      "metadata": {
        "id": "mvqbjik3RYoh"
      },
      "source": [
        "#Converting negative  to positive \n",
        "prev_data['DAYS_DECISION'] = abs(prev_data['DAYS_DECISION'])\n",
        "prev_data['SELLERPLACE_AREA'] = abs(prev_data['SELLERPLACE_AREA'])"
      ],
      "execution_count": null,
      "outputs": []
    },
    {
      "cell_type": "code",
      "metadata": {
        "colab": {
          "base_uri": "https://localhost:8080/"
        },
        "id": "qJAhEypWrLSm",
        "outputId": "d0657aad-2bf5-41c7-9ba3-33e116f7e0fc"
      },
      "source": [
        "#checking for duplicate rows using SK_ID_CURR which is the unique key in application data\n",
        "app_data.SK_ID_CURR.duplicated().sum()"
      ],
      "execution_count": null,
      "outputs": [
        {
          "output_type": "execute_result",
          "data": {
            "text/plain": [
              "0"
            ]
          },
          "metadata": {
            "tags": []
          },
          "execution_count": 179
        }
      ]
    },
    {
      "cell_type": "code",
      "metadata": {
        "colab": {
          "base_uri": "https://localhost:8080/"
        },
        "id": "5lyqCCDFrY6F",
        "outputId": "d7bbfbc3-bed4-46da-d1f0-dab9dc9f1f9d"
      },
      "source": [
        "#checking for duplicate rows using SK_ID_PREV which is the unique key in previous data\n",
        "prev_data.SK_ID_PREV.duplicated().sum()"
      ],
      "execution_count": null,
      "outputs": [
        {
          "output_type": "execute_result",
          "data": {
            "text/plain": [
              "0"
            ]
          },
          "metadata": {
            "tags": []
          },
          "execution_count": 180
        }
      ]
    },
    {
      "cell_type": "markdown",
      "metadata": {
        "id": "MCQHQ2KfrZ8n"
      },
      "source": [
        "There are no duplicate records in application_data\n",
        "For each loan application new ID is generated\n",
        "\n",
        "There are no duplicate records in application and previous data.\n"
      ]
    },
    {
      "cell_type": "markdown",
      "metadata": {
        "id": "x8BY3-fiHayk"
      },
      "source": [
        "**3) DEALING WITH MISSING VALUES**\n",
        "\n",
        "df.isnull() method: Detect missing values.Return a boolean same-sized object indicating if the values are NA. \n",
        "> Drop the columns where missing values greater than 50%(.If the information contained in the variable is not that high, you can drop the variable if it has more than 50% missing values)\n",
        "\n",
        "\n",
        "\n"
      ]
    },
    {
      "cell_type": "code",
      "metadata": {
        "colab": {
          "base_uri": "https://localhost:8080/"
        },
        "id": "pqPdKxVEHnHQ",
        "outputId": "b417701c-00e3-4fd3-ace2-ea5c1b1e43d1"
      },
      "source": [
        "# Finding the percentage of missing values in all columns\n",
        "round(app_data.isnull().mean()*100,2).sort_values(ascending = False)"
      ],
      "execution_count": null,
      "outputs": [
        {
          "output_type": "execute_result",
          "data": {
            "text/plain": [
              "COMMONAREA_AVG                 69.76\n",
              "COMMONAREA_MODE                69.76\n",
              "COMMONAREA_MEDI                69.76\n",
              "NONLIVINGAPARTMENTS_AVG        69.30\n",
              "NONLIVINGAPARTMENTS_MEDI       69.30\n",
              "                               ...  \n",
              "REG_CITY_NOT_LIVE_CITY          0.00\n",
              "LIVE_REGION_NOT_WORK_REGION     0.00\n",
              "REG_REGION_NOT_WORK_REGION      0.00\n",
              "REG_REGION_NOT_LIVE_REGION      0.00\n",
              "SK_ID_CURR                      0.00\n",
              "Length: 122, dtype: float64"
            ]
          },
          "metadata": {
            "tags": []
          },
          "execution_count": 181
        }
      ]
    },
    {
      "cell_type": "code",
      "metadata": {
        "colab": {
          "base_uri": "https://localhost:8080/"
        },
        "id": "h0WKDLxCOj2N",
        "outputId": "f4f5fe3d-ccec-4eb4-e012-3c5ac3da95ee"
      },
      "source": [
        "#Removing all the columns with more than 40% nulls values\n",
        "#app_data=app_data.loc[:,app_data.isnull().mean()<=0.4]\n",
        "app_data.shape"
      ],
      "execution_count": null,
      "outputs": [
        {
          "output_type": "execute_result",
          "data": {
            "text/plain": [
              "(104757, 122)"
            ]
          },
          "metadata": {
            "tags": []
          },
          "execution_count": 182
        }
      ]
    },
    {
      "cell_type": "markdown",
      "metadata": {
        "id": "IclCxzYJRnPh"
      },
      "source": [
        "Handling with 30% missing values in columns to replace with appropriate value`"
      ]
    },
    {
      "cell_type": "code",
      "metadata": {
        "colab": {
          "base_uri": "https://localhost:8080/"
        },
        "id": "UZwCreXRQkzv",
        "outputId": "ce938440-6509-455a-be4e-944bcce361e6"
      },
      "source": [
        "#Selecting columns with less or equal to than 30% null vallues\n",
        "aml=list(app_data.columns[(app_data.isnull().mean()<=0.30) & (app_data.isnull().mean()>0.00)])\n",
        "len(aml)"
      ],
      "execution_count": null,
      "outputs": [
        {
          "output_type": "execute_result",
          "data": {
            "text/plain": [
              "52"
            ]
          },
          "metadata": {
            "tags": []
          },
          "execution_count": 183
        }
      ]
    },
    {
      "cell_type": "code",
      "metadata": {
        "colab": {
          "base_uri": "https://localhost:8080/"
        },
        "id": "7NZX2P4XSXi2",
        "outputId": "d994dc17-613f-4422-c0cd-d3570959c4b4"
      },
      "source": [
        "round(prev_data.isnull().mean()*100,2).sort_values(ascending = False)\n"
      ],
      "execution_count": null,
      "outputs": [
        {
          "output_type": "execute_result",
          "data": {
            "text/plain": [
              "RATE_INTEREST_PRIMARY          99.64\n",
              "RATE_INTEREST_PRIVILEGED       99.64\n",
              "NAME_PRODUCT_TYPE              64.93\n",
              "NAME_GOODS_CATEGORY            54.94\n",
              "AMT_DOWN_PAYMENT               51.72\n",
              "RATE_DOWN_PAYMENT              51.72\n",
              "NAME_SELLER_INDUSTRY           48.96\n",
              "NAME_TYPE_SUITE                48.76\n",
              "NFLAG_INSURED_ON_APPROVAL      39.03\n",
              "DAYS_LAST_DUE                  39.03\n",
              "DAYS_LAST_DUE_1ST_VERSION      39.03\n",
              "DAYS_FIRST_DUE                 39.03\n",
              "DAYS_FIRST_DRAWING             39.03\n",
              "DAYS_TERMINATION               39.03\n",
              "NAME_CASH_LOAN_PURPOSE         38.86\n",
              "NAME_PAYMENT_TYPE              36.38\n",
              "NAME_YIELD_GROUP               30.17\n",
              "AMT_GOODS_PRICE                22.23\n",
              "NAME_PORTFOLIO                 21.57\n",
              "AMT_ANNUITY                    21.57\n",
              "CNT_PAYMENT                    21.57\n",
              "CODE_REJECT_REASON              0.32\n",
              "NAME_CLIENT_TYPE                0.11\n",
              "NAME_CONTRACT_TYPE              0.02\n",
              "PRODUCT_COMBINATION             0.02\n",
              "SK_ID_CURR                      0.00\n",
              "AMT_APPLICATION                 0.00\n",
              "AMT_CREDIT                      0.00\n",
              "FLAG_LAST_APPL_PER_CONTRACT     0.00\n",
              "WEEKDAY_APPR_PROCESS_START      0.00\n",
              "HOUR_APPR_PROCESS_START         0.00\n",
              "NFLAG_LAST_APPL_IN_DAY          0.00\n",
              "SELLERPLACE_AREA                0.00\n",
              "CHANNEL_TYPE                    0.00\n",
              "NAME_CONTRACT_STATUS            0.00\n",
              "DAYS_DECISION                   0.00\n",
              "SK_ID_PREV                      0.00\n",
              "dtype: float64"
            ]
          },
          "metadata": {
            "tags": []
          },
          "execution_count": 184
        }
      ]
    },
    {
      "cell_type": "code",
      "metadata": {
        "id": "5q-sybOvT7kp"
      },
      "source": [
        "#Removing all the columns with more than 40% nulls values i.e only 4 columns for this dataset \n",
        "#prev_data=prev_data.loc[:,prev_data.isnull().mean()<=0.4]\n",
        "#prev_data.columns"
      ],
      "execution_count": null,
      "outputs": []
    },
    {
      "cell_type": "code",
      "metadata": {
        "colab": {
          "base_uri": "https://localhost:8080/"
        },
        "id": "ddGKsTtZUeF3",
        "outputId": "9d07d552-92ef-4f0d-aa7f-ff16b05d9fac"
      },
      "source": [
        "#Selecting columns with less or equal to than 20% null vallues\n",
        "pml=list(prev_data.columns[(prev_data.isnull().mean()<=0.30) & (prev_data.isnull().mean()>0.00)])\n",
        "len(pml),pml"
      ],
      "execution_count": null,
      "outputs": [
        {
          "output_type": "execute_result",
          "data": {
            "text/plain": [
              "(16,\n",
              " ['NAME_CONTRACT_TYPE',\n",
              "  'AMT_ANNUITY',\n",
              "  'AMT_GOODS_PRICE',\n",
              "  'WEEKDAY_APPR_PROCESS_START',\n",
              "  'HOUR_APPR_PROCESS_START',\n",
              "  'FLAG_LAST_APPL_PER_CONTRACT',\n",
              "  'NFLAG_LAST_APPL_IN_DAY',\n",
              "  'NAME_CONTRACT_STATUS',\n",
              "  'DAYS_DECISION',\n",
              "  'CODE_REJECT_REASON',\n",
              "  'NAME_CLIENT_TYPE',\n",
              "  'NAME_PORTFOLIO',\n",
              "  'CHANNEL_TYPE',\n",
              "  'SELLERPLACE_AREA',\n",
              "  'CNT_PAYMENT',\n",
              "  'PRODUCT_COMBINATION'])"
            ]
          },
          "metadata": {
            "tags": []
          },
          "execution_count": 186
        }
      ]
    },
    {
      "cell_type": "markdown",
      "metadata": {
        "id": "2r5fILYOVJ9P"
      },
      "source": [
        "AMT_CREDIT:- Final credit amount on the previous application. This differs from AMT_APPLICATION in a way that the AMT_APPLICATION is the amount for which the client initially applied for, but during our approval process he could have received different amount - AMT_CREDIT\n",
        "\n",
        "PRODUCT_COMBINATION:- Detailed product combination of the previous application"
      ]
    },
    {
      "cell_type": "code",
      "metadata": {
        "colab": {
          "base_uri": "https://localhost:8080/"
        },
        "id": "WlVi1tiO7AcB",
        "outputId": "7b072cf9-99fb-40fd-d474-48f9ed1eb10e"
      },
      "source": [
        "prev_data[pml].isnull().sum()"
      ],
      "execution_count": null,
      "outputs": [
        {
          "output_type": "execute_result",
          "data": {
            "text/plain": [
              "NAME_CONTRACT_TYPE                45\n",
              "AMT_ANNUITY                    49998\n",
              "AMT_GOODS_PRICE                51531\n",
              "WEEKDAY_APPR_PROCESS_START         1\n",
              "HOUR_APPR_PROCESS_START            1\n",
              "FLAG_LAST_APPL_PER_CONTRACT        1\n",
              "NFLAG_LAST_APPL_IN_DAY             1\n",
              "NAME_CONTRACT_STATUS               1\n",
              "DAYS_DECISION                      1\n",
              "CODE_REJECT_REASON               749\n",
              "NAME_CLIENT_TYPE                 255\n",
              "NAME_PORTFOLIO                 49998\n",
              "CHANNEL_TYPE                       1\n",
              "SELLERPLACE_AREA                   1\n",
              "CNT_PAYMENT                    49998\n",
              "PRODUCT_COMBINATION               46\n",
              "dtype: int64"
            ]
          },
          "metadata": {
            "tags": []
          },
          "execution_count": 187
        }
      ]
    },
    {
      "cell_type": "code",
      "metadata": {
        "colab": {
          "base_uri": "https://localhost:8080/",
          "height": 1000
        },
        "id": "ip617HNPzJGo",
        "outputId": "764dd000-7c23-46eb-ae5d-55bff94e8e41"
      },
      "source": [
        "prev_data[prev_data['PRODUCT_COMBINATION'].isna()]"
      ],
      "execution_count": null,
      "outputs": [
        {
          "output_type": "execute_result",
          "data": {
            "text/html": [
              "<div>\n",
              "<style scoped>\n",
              "    .dataframe tbody tr th:only-of-type {\n",
              "        vertical-align: middle;\n",
              "    }\n",
              "\n",
              "    .dataframe tbody tr th {\n",
              "        vertical-align: top;\n",
              "    }\n",
              "\n",
              "    .dataframe thead th {\n",
              "        text-align: right;\n",
              "    }\n",
              "</style>\n",
              "<table border=\"1\" class=\"dataframe\">\n",
              "  <thead>\n",
              "    <tr style=\"text-align: right;\">\n",
              "      <th></th>\n",
              "      <th>SK_ID_PREV</th>\n",
              "      <th>SK_ID_CURR</th>\n",
              "      <th>NAME_CONTRACT_TYPE</th>\n",
              "      <th>AMT_ANNUITY</th>\n",
              "      <th>AMT_APPLICATION</th>\n",
              "      <th>AMT_CREDIT</th>\n",
              "      <th>AMT_DOWN_PAYMENT</th>\n",
              "      <th>AMT_GOODS_PRICE</th>\n",
              "      <th>WEEKDAY_APPR_PROCESS_START</th>\n",
              "      <th>HOUR_APPR_PROCESS_START</th>\n",
              "      <th>FLAG_LAST_APPL_PER_CONTRACT</th>\n",
              "      <th>NFLAG_LAST_APPL_IN_DAY</th>\n",
              "      <th>RATE_DOWN_PAYMENT</th>\n",
              "      <th>RATE_INTEREST_PRIMARY</th>\n",
              "      <th>RATE_INTEREST_PRIVILEGED</th>\n",
              "      <th>NAME_CASH_LOAN_PURPOSE</th>\n",
              "      <th>NAME_CONTRACT_STATUS</th>\n",
              "      <th>DAYS_DECISION</th>\n",
              "      <th>NAME_PAYMENT_TYPE</th>\n",
              "      <th>CODE_REJECT_REASON</th>\n",
              "      <th>NAME_TYPE_SUITE</th>\n",
              "      <th>NAME_CLIENT_TYPE</th>\n",
              "      <th>NAME_GOODS_CATEGORY</th>\n",
              "      <th>NAME_PORTFOLIO</th>\n",
              "      <th>NAME_PRODUCT_TYPE</th>\n",
              "      <th>CHANNEL_TYPE</th>\n",
              "      <th>SELLERPLACE_AREA</th>\n",
              "      <th>NAME_SELLER_INDUSTRY</th>\n",
              "      <th>CNT_PAYMENT</th>\n",
              "      <th>NAME_YIELD_GROUP</th>\n",
              "      <th>PRODUCT_COMBINATION</th>\n",
              "      <th>DAYS_FIRST_DRAWING</th>\n",
              "      <th>DAYS_FIRST_DUE</th>\n",
              "      <th>DAYS_LAST_DUE_1ST_VERSION</th>\n",
              "      <th>DAYS_LAST_DUE</th>\n",
              "      <th>DAYS_TERMINATION</th>\n",
              "      <th>NFLAG_INSURED_ON_APPROVAL</th>\n",
              "    </tr>\n",
              "  </thead>\n",
              "  <tbody>\n",
              "    <tr>\n",
              "      <th>6664</th>\n",
              "      <td>2515161</td>\n",
              "      <td>222844</td>\n",
              "      <td>NaN</td>\n",
              "      <td>NaN</td>\n",
              "      <td>0.0</td>\n",
              "      <td>0.0</td>\n",
              "      <td>NaN</td>\n",
              "      <td>NaN</td>\n",
              "      <td>SATURDAY</td>\n",
              "      <td>8.0</td>\n",
              "      <td>Y</td>\n",
              "      <td>1.0</td>\n",
              "      <td>NaN</td>\n",
              "      <td>NaN</td>\n",
              "      <td>NaN</td>\n",
              "      <td>XAP</td>\n",
              "      <td>Canceled</td>\n",
              "      <td>351.0</td>\n",
              "      <td>NaN</td>\n",
              "      <td>XAP</td>\n",
              "      <td>NaN</td>\n",
              "      <td>Repeater</td>\n",
              "      <td>NaN</td>\n",
              "      <td>NaN</td>\n",
              "      <td>NaN</td>\n",
              "      <td>Country-wide</td>\n",
              "      <td>10.0</td>\n",
              "      <td>Connectivity</td>\n",
              "      <td>NaN</td>\n",
              "      <td>NaN</td>\n",
              "      <td>NaN</td>\n",
              "      <td>NaN</td>\n",
              "      <td>NaN</td>\n",
              "      <td>NaN</td>\n",
              "      <td>NaN</td>\n",
              "      <td>NaN</td>\n",
              "      <td>NaN</td>\n",
              "    </tr>\n",
              "    <tr>\n",
              "      <th>9029</th>\n",
              "      <td>1851920</td>\n",
              "      <td>417884</td>\n",
              "      <td>NaN</td>\n",
              "      <td>NaN</td>\n",
              "      <td>0.0</td>\n",
              "      <td>0.0</td>\n",
              "      <td>NaN</td>\n",
              "      <td>NaN</td>\n",
              "      <td>MONDAY</td>\n",
              "      <td>13.0</td>\n",
              "      <td>Y</td>\n",
              "      <td>1.0</td>\n",
              "      <td>NaN</td>\n",
              "      <td>NaN</td>\n",
              "      <td>NaN</td>\n",
              "      <td>XAP</td>\n",
              "      <td>Canceled</td>\n",
              "      <td>291.0</td>\n",
              "      <td>NaN</td>\n",
              "      <td>XAP</td>\n",
              "      <td>NaN</td>\n",
              "      <td>Repeater</td>\n",
              "      <td>NaN</td>\n",
              "      <td>NaN</td>\n",
              "      <td>NaN</td>\n",
              "      <td>Country-wide</td>\n",
              "      <td>30.0</td>\n",
              "      <td>Connectivity</td>\n",
              "      <td>NaN</td>\n",
              "      <td>NaN</td>\n",
              "      <td>NaN</td>\n",
              "      <td>NaN</td>\n",
              "      <td>NaN</td>\n",
              "      <td>NaN</td>\n",
              "      <td>NaN</td>\n",
              "      <td>NaN</td>\n",
              "      <td>NaN</td>\n",
              "    </tr>\n",
              "    <tr>\n",
              "      <th>17038</th>\n",
              "      <td>2389511</td>\n",
              "      <td>148922</td>\n",
              "      <td>NaN</td>\n",
              "      <td>NaN</td>\n",
              "      <td>0.0</td>\n",
              "      <td>0.0</td>\n",
              "      <td>NaN</td>\n",
              "      <td>NaN</td>\n",
              "      <td>TUESDAY</td>\n",
              "      <td>6.0</td>\n",
              "      <td>Y</td>\n",
              "      <td>1.0</td>\n",
              "      <td>NaN</td>\n",
              "      <td>NaN</td>\n",
              "      <td>NaN</td>\n",
              "      <td>XAP</td>\n",
              "      <td>Canceled</td>\n",
              "      <td>395.0</td>\n",
              "      <td>NaN</td>\n",
              "      <td>XAP</td>\n",
              "      <td>NaN</td>\n",
              "      <td>New</td>\n",
              "      <td>NaN</td>\n",
              "      <td>NaN</td>\n",
              "      <td>NaN</td>\n",
              "      <td>Country-wide</td>\n",
              "      <td>20.0</td>\n",
              "      <td>Connectivity</td>\n",
              "      <td>NaN</td>\n",
              "      <td>NaN</td>\n",
              "      <td>NaN</td>\n",
              "      <td>NaN</td>\n",
              "      <td>NaN</td>\n",
              "      <td>NaN</td>\n",
              "      <td>NaN</td>\n",
              "      <td>NaN</td>\n",
              "      <td>NaN</td>\n",
              "    </tr>\n",
              "    <tr>\n",
              "      <th>24543</th>\n",
              "      <td>2494449</td>\n",
              "      <td>366626</td>\n",
              "      <td>NaN</td>\n",
              "      <td>NaN</td>\n",
              "      <td>0.0</td>\n",
              "      <td>0.0</td>\n",
              "      <td>NaN</td>\n",
              "      <td>NaN</td>\n",
              "      <td>WEDNESDAY</td>\n",
              "      <td>13.0</td>\n",
              "      <td>Y</td>\n",
              "      <td>1.0</td>\n",
              "      <td>NaN</td>\n",
              "      <td>NaN</td>\n",
              "      <td>NaN</td>\n",
              "      <td>XAP</td>\n",
              "      <td>Canceled</td>\n",
              "      <td>418.0</td>\n",
              "      <td>NaN</td>\n",
              "      <td>XAP</td>\n",
              "      <td>NaN</td>\n",
              "      <td>Repeater</td>\n",
              "      <td>NaN</td>\n",
              "      <td>NaN</td>\n",
              "      <td>NaN</td>\n",
              "      <td>Country-wide</td>\n",
              "      <td>41.0</td>\n",
              "      <td>Connectivity</td>\n",
              "      <td>NaN</td>\n",
              "      <td>NaN</td>\n",
              "      <td>NaN</td>\n",
              "      <td>NaN</td>\n",
              "      <td>NaN</td>\n",
              "      <td>NaN</td>\n",
              "      <td>NaN</td>\n",
              "      <td>NaN</td>\n",
              "      <td>NaN</td>\n",
              "    </tr>\n",
              "    <tr>\n",
              "      <th>24574</th>\n",
              "      <td>2781877</td>\n",
              "      <td>394843</td>\n",
              "      <td>NaN</td>\n",
              "      <td>NaN</td>\n",
              "      <td>0.0</td>\n",
              "      <td>0.0</td>\n",
              "      <td>NaN</td>\n",
              "      <td>NaN</td>\n",
              "      <td>SATURDAY</td>\n",
              "      <td>6.0</td>\n",
              "      <td>Y</td>\n",
              "      <td>1.0</td>\n",
              "      <td>NaN</td>\n",
              "      <td>NaN</td>\n",
              "      <td>NaN</td>\n",
              "      <td>XAP</td>\n",
              "      <td>Canceled</td>\n",
              "      <td>601.0</td>\n",
              "      <td>NaN</td>\n",
              "      <td>XAP</td>\n",
              "      <td>NaN</td>\n",
              "      <td>Repeater</td>\n",
              "      <td>NaN</td>\n",
              "      <td>NaN</td>\n",
              "      <td>NaN</td>\n",
              "      <td>Country-wide</td>\n",
              "      <td>42.0</td>\n",
              "      <td>Connectivity</td>\n",
              "      <td>NaN</td>\n",
              "      <td>NaN</td>\n",
              "      <td>NaN</td>\n",
              "      <td>NaN</td>\n",
              "      <td>NaN</td>\n",
              "      <td>NaN</td>\n",
              "      <td>NaN</td>\n",
              "      <td>NaN</td>\n",
              "      <td>NaN</td>\n",
              "    </tr>\n",
              "    <tr>\n",
              "      <th>25030</th>\n",
              "      <td>2785890</td>\n",
              "      <td>154490</td>\n",
              "      <td>NaN</td>\n",
              "      <td>NaN</td>\n",
              "      <td>0.0</td>\n",
              "      <td>0.0</td>\n",
              "      <td>NaN</td>\n",
              "      <td>NaN</td>\n",
              "      <td>TUESDAY</td>\n",
              "      <td>21.0</td>\n",
              "      <td>Y</td>\n",
              "      <td>1.0</td>\n",
              "      <td>NaN</td>\n",
              "      <td>NaN</td>\n",
              "      <td>NaN</td>\n",
              "      <td>XAP</td>\n",
              "      <td>Canceled</td>\n",
              "      <td>516.0</td>\n",
              "      <td>NaN</td>\n",
              "      <td>XAP</td>\n",
              "      <td>NaN</td>\n",
              "      <td>Repeater</td>\n",
              "      <td>NaN</td>\n",
              "      <td>NaN</td>\n",
              "      <td>NaN</td>\n",
              "      <td>Country-wide</td>\n",
              "      <td>35.0</td>\n",
              "      <td>Connectivity</td>\n",
              "      <td>NaN</td>\n",
              "      <td>NaN</td>\n",
              "      <td>NaN</td>\n",
              "      <td>NaN</td>\n",
              "      <td>NaN</td>\n",
              "      <td>NaN</td>\n",
              "      <td>NaN</td>\n",
              "      <td>NaN</td>\n",
              "      <td>NaN</td>\n",
              "    </tr>\n",
              "    <tr>\n",
              "      <th>39305</th>\n",
              "      <td>2457349</td>\n",
              "      <td>307803</td>\n",
              "      <td>NaN</td>\n",
              "      <td>NaN</td>\n",
              "      <td>0.0</td>\n",
              "      <td>0.0</td>\n",
              "      <td>NaN</td>\n",
              "      <td>NaN</td>\n",
              "      <td>WEDNESDAY</td>\n",
              "      <td>15.0</td>\n",
              "      <td>Y</td>\n",
              "      <td>1.0</td>\n",
              "      <td>NaN</td>\n",
              "      <td>NaN</td>\n",
              "      <td>NaN</td>\n",
              "      <td>XAP</td>\n",
              "      <td>Canceled</td>\n",
              "      <td>307.0</td>\n",
              "      <td>NaN</td>\n",
              "      <td>XAP</td>\n",
              "      <td>NaN</td>\n",
              "      <td>Repeater</td>\n",
              "      <td>NaN</td>\n",
              "      <td>NaN</td>\n",
              "      <td>NaN</td>\n",
              "      <td>Country-wide</td>\n",
              "      <td>50.0</td>\n",
              "      <td>Connectivity</td>\n",
              "      <td>NaN</td>\n",
              "      <td>NaN</td>\n",
              "      <td>NaN</td>\n",
              "      <td>NaN</td>\n",
              "      <td>NaN</td>\n",
              "      <td>NaN</td>\n",
              "      <td>NaN</td>\n",
              "      <td>NaN</td>\n",
              "      <td>NaN</td>\n",
              "    </tr>\n",
              "    <tr>\n",
              "      <th>39461</th>\n",
              "      <td>2456391</td>\n",
              "      <td>164367</td>\n",
              "      <td>NaN</td>\n",
              "      <td>NaN</td>\n",
              "      <td>0.0</td>\n",
              "      <td>0.0</td>\n",
              "      <td>NaN</td>\n",
              "      <td>NaN</td>\n",
              "      <td>SUNDAY</td>\n",
              "      <td>13.0</td>\n",
              "      <td>Y</td>\n",
              "      <td>1.0</td>\n",
              "      <td>NaN</td>\n",
              "      <td>NaN</td>\n",
              "      <td>NaN</td>\n",
              "      <td>XAP</td>\n",
              "      <td>Canceled</td>\n",
              "      <td>338.0</td>\n",
              "      <td>NaN</td>\n",
              "      <td>XAP</td>\n",
              "      <td>NaN</td>\n",
              "      <td>Repeater</td>\n",
              "      <td>NaN</td>\n",
              "      <td>NaN</td>\n",
              "      <td>NaN</td>\n",
              "      <td>Country-wide</td>\n",
              "      <td>55.0</td>\n",
              "      <td>Connectivity</td>\n",
              "      <td>NaN</td>\n",
              "      <td>NaN</td>\n",
              "      <td>NaN</td>\n",
              "      <td>NaN</td>\n",
              "      <td>NaN</td>\n",
              "      <td>NaN</td>\n",
              "      <td>NaN</td>\n",
              "      <td>NaN</td>\n",
              "      <td>NaN</td>\n",
              "    </tr>\n",
              "    <tr>\n",
              "      <th>52461</th>\n",
              "      <td>2447432</td>\n",
              "      <td>426909</td>\n",
              "      <td>NaN</td>\n",
              "      <td>NaN</td>\n",
              "      <td>0.0</td>\n",
              "      <td>0.0</td>\n",
              "      <td>NaN</td>\n",
              "      <td>NaN</td>\n",
              "      <td>THURSDAY</td>\n",
              "      <td>16.0</td>\n",
              "      <td>Y</td>\n",
              "      <td>1.0</td>\n",
              "      <td>NaN</td>\n",
              "      <td>NaN</td>\n",
              "      <td>NaN</td>\n",
              "      <td>XAP</td>\n",
              "      <td>Canceled</td>\n",
              "      <td>344.0</td>\n",
              "      <td>NaN</td>\n",
              "      <td>XAP</td>\n",
              "      <td>NaN</td>\n",
              "      <td>New</td>\n",
              "      <td>NaN</td>\n",
              "      <td>NaN</td>\n",
              "      <td>NaN</td>\n",
              "      <td>Country-wide</td>\n",
              "      <td>30.0</td>\n",
              "      <td>Connectivity</td>\n",
              "      <td>NaN</td>\n",
              "      <td>NaN</td>\n",
              "      <td>NaN</td>\n",
              "      <td>NaN</td>\n",
              "      <td>NaN</td>\n",
              "      <td>NaN</td>\n",
              "      <td>NaN</td>\n",
              "      <td>NaN</td>\n",
              "      <td>NaN</td>\n",
              "    </tr>\n",
              "    <tr>\n",
              "      <th>61664</th>\n",
              "      <td>2022193</td>\n",
              "      <td>378447</td>\n",
              "      <td>NaN</td>\n",
              "      <td>NaN</td>\n",
              "      <td>0.0</td>\n",
              "      <td>0.0</td>\n",
              "      <td>NaN</td>\n",
              "      <td>NaN</td>\n",
              "      <td>THURSDAY</td>\n",
              "      <td>13.0</td>\n",
              "      <td>Y</td>\n",
              "      <td>1.0</td>\n",
              "      <td>NaN</td>\n",
              "      <td>NaN</td>\n",
              "      <td>NaN</td>\n",
              "      <td>XAP</td>\n",
              "      <td>Canceled</td>\n",
              "      <td>476.0</td>\n",
              "      <td>NaN</td>\n",
              "      <td>XAP</td>\n",
              "      <td>NaN</td>\n",
              "      <td>Repeater</td>\n",
              "      <td>NaN</td>\n",
              "      <td>NaN</td>\n",
              "      <td>NaN</td>\n",
              "      <td>Country-wide</td>\n",
              "      <td>50.0</td>\n",
              "      <td>Connectivity</td>\n",
              "      <td>NaN</td>\n",
              "      <td>NaN</td>\n",
              "      <td>NaN</td>\n",
              "      <td>NaN</td>\n",
              "      <td>NaN</td>\n",
              "      <td>NaN</td>\n",
              "      <td>NaN</td>\n",
              "      <td>NaN</td>\n",
              "      <td>NaN</td>\n",
              "    </tr>\n",
              "    <tr>\n",
              "      <th>79933</th>\n",
              "      <td>2377334</td>\n",
              "      <td>351258</td>\n",
              "      <td>NaN</td>\n",
              "      <td>NaN</td>\n",
              "      <td>0.0</td>\n",
              "      <td>0.0</td>\n",
              "      <td>NaN</td>\n",
              "      <td>NaN</td>\n",
              "      <td>SUNDAY</td>\n",
              "      <td>14.0</td>\n",
              "      <td>Y</td>\n",
              "      <td>1.0</td>\n",
              "      <td>NaN</td>\n",
              "      <td>NaN</td>\n",
              "      <td>NaN</td>\n",
              "      <td>XAP</td>\n",
              "      <td>Canceled</td>\n",
              "      <td>550.0</td>\n",
              "      <td>NaN</td>\n",
              "      <td>XAP</td>\n",
              "      <td>NaN</td>\n",
              "      <td>Repeater</td>\n",
              "      <td>NaN</td>\n",
              "      <td>NaN</td>\n",
              "      <td>NaN</td>\n",
              "      <td>Country-wide</td>\n",
              "      <td>20.0</td>\n",
              "      <td>Connectivity</td>\n",
              "      <td>NaN</td>\n",
              "      <td>NaN</td>\n",
              "      <td>NaN</td>\n",
              "      <td>NaN</td>\n",
              "      <td>NaN</td>\n",
              "      <td>NaN</td>\n",
              "      <td>NaN</td>\n",
              "      <td>NaN</td>\n",
              "      <td>NaN</td>\n",
              "    </tr>\n",
              "    <tr>\n",
              "      <th>80232</th>\n",
              "      <td>1470617</td>\n",
              "      <td>244344</td>\n",
              "      <td>NaN</td>\n",
              "      <td>NaN</td>\n",
              "      <td>0.0</td>\n",
              "      <td>0.0</td>\n",
              "      <td>NaN</td>\n",
              "      <td>NaN</td>\n",
              "      <td>WEDNESDAY</td>\n",
              "      <td>15.0</td>\n",
              "      <td>Y</td>\n",
              "      <td>1.0</td>\n",
              "      <td>NaN</td>\n",
              "      <td>NaN</td>\n",
              "      <td>NaN</td>\n",
              "      <td>XAP</td>\n",
              "      <td>Canceled</td>\n",
              "      <td>292.0</td>\n",
              "      <td>NaN</td>\n",
              "      <td>XAP</td>\n",
              "      <td>NaN</td>\n",
              "      <td>Refreshed</td>\n",
              "      <td>NaN</td>\n",
              "      <td>NaN</td>\n",
              "      <td>NaN</td>\n",
              "      <td>Country-wide</td>\n",
              "      <td>160.0</td>\n",
              "      <td>Connectivity</td>\n",
              "      <td>NaN</td>\n",
              "      <td>NaN</td>\n",
              "      <td>NaN</td>\n",
              "      <td>NaN</td>\n",
              "      <td>NaN</td>\n",
              "      <td>NaN</td>\n",
              "      <td>NaN</td>\n",
              "      <td>NaN</td>\n",
              "      <td>NaN</td>\n",
              "    </tr>\n",
              "    <tr>\n",
              "      <th>81715</th>\n",
              "      <td>1700167</td>\n",
              "      <td>125160</td>\n",
              "      <td>NaN</td>\n",
              "      <td>NaN</td>\n",
              "      <td>0.0</td>\n",
              "      <td>0.0</td>\n",
              "      <td>NaN</td>\n",
              "      <td>NaN</td>\n",
              "      <td>THURSDAY</td>\n",
              "      <td>11.0</td>\n",
              "      <td>Y</td>\n",
              "      <td>1.0</td>\n",
              "      <td>NaN</td>\n",
              "      <td>NaN</td>\n",
              "      <td>NaN</td>\n",
              "      <td>XAP</td>\n",
              "      <td>Canceled</td>\n",
              "      <td>286.0</td>\n",
              "      <td>NaN</td>\n",
              "      <td>XAP</td>\n",
              "      <td>NaN</td>\n",
              "      <td>Repeater</td>\n",
              "      <td>NaN</td>\n",
              "      <td>NaN</td>\n",
              "      <td>NaN</td>\n",
              "      <td>Country-wide</td>\n",
              "      <td>36.0</td>\n",
              "      <td>Connectivity</td>\n",
              "      <td>NaN</td>\n",
              "      <td>NaN</td>\n",
              "      <td>NaN</td>\n",
              "      <td>NaN</td>\n",
              "      <td>NaN</td>\n",
              "      <td>NaN</td>\n",
              "      <td>NaN</td>\n",
              "      <td>NaN</td>\n",
              "      <td>NaN</td>\n",
              "    </tr>\n",
              "    <tr>\n",
              "      <th>81716</th>\n",
              "      <td>1380195</td>\n",
              "      <td>379439</td>\n",
              "      <td>NaN</td>\n",
              "      <td>NaN</td>\n",
              "      <td>0.0</td>\n",
              "      <td>0.0</td>\n",
              "      <td>NaN</td>\n",
              "      <td>NaN</td>\n",
              "      <td>TUESDAY</td>\n",
              "      <td>10.0</td>\n",
              "      <td>Y</td>\n",
              "      <td>1.0</td>\n",
              "      <td>NaN</td>\n",
              "      <td>NaN</td>\n",
              "      <td>NaN</td>\n",
              "      <td>XAP</td>\n",
              "      <td>Canceled</td>\n",
              "      <td>539.0</td>\n",
              "      <td>NaN</td>\n",
              "      <td>XAP</td>\n",
              "      <td>NaN</td>\n",
              "      <td>Repeater</td>\n",
              "      <td>NaN</td>\n",
              "      <td>NaN</td>\n",
              "      <td>NaN</td>\n",
              "      <td>Country-wide</td>\n",
              "      <td>31.0</td>\n",
              "      <td>Connectivity</td>\n",
              "      <td>NaN</td>\n",
              "      <td>NaN</td>\n",
              "      <td>NaN</td>\n",
              "      <td>NaN</td>\n",
              "      <td>NaN</td>\n",
              "      <td>NaN</td>\n",
              "      <td>NaN</td>\n",
              "      <td>NaN</td>\n",
              "      <td>NaN</td>\n",
              "    </tr>\n",
              "    <tr>\n",
              "      <th>83438</th>\n",
              "      <td>1777004</td>\n",
              "      <td>285411</td>\n",
              "      <td>NaN</td>\n",
              "      <td>NaN</td>\n",
              "      <td>0.0</td>\n",
              "      <td>0.0</td>\n",
              "      <td>NaN</td>\n",
              "      <td>NaN</td>\n",
              "      <td>MONDAY</td>\n",
              "      <td>6.0</td>\n",
              "      <td>Y</td>\n",
              "      <td>1.0</td>\n",
              "      <td>NaN</td>\n",
              "      <td>NaN</td>\n",
              "      <td>NaN</td>\n",
              "      <td>XAP</td>\n",
              "      <td>Canceled</td>\n",
              "      <td>488.0</td>\n",
              "      <td>NaN</td>\n",
              "      <td>XAP</td>\n",
              "      <td>NaN</td>\n",
              "      <td>Repeater</td>\n",
              "      <td>NaN</td>\n",
              "      <td>NaN</td>\n",
              "      <td>NaN</td>\n",
              "      <td>Country-wide</td>\n",
              "      <td>39.0</td>\n",
              "      <td>Connectivity</td>\n",
              "      <td>NaN</td>\n",
              "      <td>NaN</td>\n",
              "      <td>NaN</td>\n",
              "      <td>NaN</td>\n",
              "      <td>NaN</td>\n",
              "      <td>NaN</td>\n",
              "      <td>NaN</td>\n",
              "      <td>NaN</td>\n",
              "      <td>NaN</td>\n",
              "    </tr>\n",
              "    <tr>\n",
              "      <th>84178</th>\n",
              "      <td>2041259</td>\n",
              "      <td>350713</td>\n",
              "      <td>NaN</td>\n",
              "      <td>NaN</td>\n",
              "      <td>0.0</td>\n",
              "      <td>0.0</td>\n",
              "      <td>NaN</td>\n",
              "      <td>NaN</td>\n",
              "      <td>THURSDAY</td>\n",
              "      <td>10.0</td>\n",
              "      <td>Y</td>\n",
              "      <td>1.0</td>\n",
              "      <td>NaN</td>\n",
              "      <td>NaN</td>\n",
              "      <td>NaN</td>\n",
              "      <td>XAP</td>\n",
              "      <td>Canceled</td>\n",
              "      <td>440.0</td>\n",
              "      <td>NaN</td>\n",
              "      <td>XAP</td>\n",
              "      <td>NaN</td>\n",
              "      <td>Repeater</td>\n",
              "      <td>NaN</td>\n",
              "      <td>NaN</td>\n",
              "      <td>NaN</td>\n",
              "      <td>Country-wide</td>\n",
              "      <td>45.0</td>\n",
              "      <td>Connectivity</td>\n",
              "      <td>NaN</td>\n",
              "      <td>NaN</td>\n",
              "      <td>NaN</td>\n",
              "      <td>NaN</td>\n",
              "      <td>NaN</td>\n",
              "      <td>NaN</td>\n",
              "      <td>NaN</td>\n",
              "      <td>NaN</td>\n",
              "      <td>NaN</td>\n",
              "    </tr>\n",
              "    <tr>\n",
              "      <th>93088</th>\n",
              "      <td>1507440</td>\n",
              "      <td>179845</td>\n",
              "      <td>NaN</td>\n",
              "      <td>NaN</td>\n",
              "      <td>0.0</td>\n",
              "      <td>0.0</td>\n",
              "      <td>NaN</td>\n",
              "      <td>NaN</td>\n",
              "      <td>WEDNESDAY</td>\n",
              "      <td>14.0</td>\n",
              "      <td>Y</td>\n",
              "      <td>1.0</td>\n",
              "      <td>NaN</td>\n",
              "      <td>NaN</td>\n",
              "      <td>NaN</td>\n",
              "      <td>XAP</td>\n",
              "      <td>Canceled</td>\n",
              "      <td>388.0</td>\n",
              "      <td>NaN</td>\n",
              "      <td>XAP</td>\n",
              "      <td>NaN</td>\n",
              "      <td>Repeater</td>\n",
              "      <td>NaN</td>\n",
              "      <td>NaN</td>\n",
              "      <td>NaN</td>\n",
              "      <td>Country-wide</td>\n",
              "      <td>60.0</td>\n",
              "      <td>Connectivity</td>\n",
              "      <td>NaN</td>\n",
              "      <td>NaN</td>\n",
              "      <td>NaN</td>\n",
              "      <td>NaN</td>\n",
              "      <td>NaN</td>\n",
              "      <td>NaN</td>\n",
              "      <td>NaN</td>\n",
              "      <td>NaN</td>\n",
              "      <td>NaN</td>\n",
              "    </tr>\n",
              "    <tr>\n",
              "      <th>108822</th>\n",
              "      <td>1906631</td>\n",
              "      <td>116369</td>\n",
              "      <td>NaN</td>\n",
              "      <td>NaN</td>\n",
              "      <td>0.0</td>\n",
              "      <td>0.0</td>\n",
              "      <td>NaN</td>\n",
              "      <td>NaN</td>\n",
              "      <td>WEDNESDAY</td>\n",
              "      <td>16.0</td>\n",
              "      <td>Y</td>\n",
              "      <td>1.0</td>\n",
              "      <td>NaN</td>\n",
              "      <td>NaN</td>\n",
              "      <td>NaN</td>\n",
              "      <td>XAP</td>\n",
              "      <td>Canceled</td>\n",
              "      <td>387.0</td>\n",
              "      <td>NaN</td>\n",
              "      <td>XAP</td>\n",
              "      <td>NaN</td>\n",
              "      <td>Repeater</td>\n",
              "      <td>NaN</td>\n",
              "      <td>NaN</td>\n",
              "      <td>NaN</td>\n",
              "      <td>Country-wide</td>\n",
              "      <td>20.0</td>\n",
              "      <td>Connectivity</td>\n",
              "      <td>NaN</td>\n",
              "      <td>NaN</td>\n",
              "      <td>NaN</td>\n",
              "      <td>NaN</td>\n",
              "      <td>NaN</td>\n",
              "      <td>NaN</td>\n",
              "      <td>NaN</td>\n",
              "      <td>NaN</td>\n",
              "      <td>NaN</td>\n",
              "    </tr>\n",
              "    <tr>\n",
              "      <th>110745</th>\n",
              "      <td>1808766</td>\n",
              "      <td>188786</td>\n",
              "      <td>NaN</td>\n",
              "      <td>NaN</td>\n",
              "      <td>0.0</td>\n",
              "      <td>0.0</td>\n",
              "      <td>NaN</td>\n",
              "      <td>NaN</td>\n",
              "      <td>WEDNESDAY</td>\n",
              "      <td>20.0</td>\n",
              "      <td>Y</td>\n",
              "      <td>1.0</td>\n",
              "      <td>NaN</td>\n",
              "      <td>NaN</td>\n",
              "      <td>NaN</td>\n",
              "      <td>XAP</td>\n",
              "      <td>Canceled</td>\n",
              "      <td>468.0</td>\n",
              "      <td>NaN</td>\n",
              "      <td>XAP</td>\n",
              "      <td>NaN</td>\n",
              "      <td>Refreshed</td>\n",
              "      <td>NaN</td>\n",
              "      <td>NaN</td>\n",
              "      <td>NaN</td>\n",
              "      <td>Country-wide</td>\n",
              "      <td>20.0</td>\n",
              "      <td>Connectivity</td>\n",
              "      <td>NaN</td>\n",
              "      <td>NaN</td>\n",
              "      <td>NaN</td>\n",
              "      <td>NaN</td>\n",
              "      <td>NaN</td>\n",
              "      <td>NaN</td>\n",
              "      <td>NaN</td>\n",
              "      <td>NaN</td>\n",
              "      <td>NaN</td>\n",
              "    </tr>\n",
              "    <tr>\n",
              "      <th>117368</th>\n",
              "      <td>2420029</td>\n",
              "      <td>427664</td>\n",
              "      <td>NaN</td>\n",
              "      <td>NaN</td>\n",
              "      <td>0.0</td>\n",
              "      <td>0.0</td>\n",
              "      <td>NaN</td>\n",
              "      <td>NaN</td>\n",
              "      <td>MONDAY</td>\n",
              "      <td>9.0</td>\n",
              "      <td>Y</td>\n",
              "      <td>1.0</td>\n",
              "      <td>NaN</td>\n",
              "      <td>NaN</td>\n",
              "      <td>NaN</td>\n",
              "      <td>XAP</td>\n",
              "      <td>Canceled</td>\n",
              "      <td>528.0</td>\n",
              "      <td>NaN</td>\n",
              "      <td>XAP</td>\n",
              "      <td>NaN</td>\n",
              "      <td>Repeater</td>\n",
              "      <td>NaN</td>\n",
              "      <td>NaN</td>\n",
              "      <td>NaN</td>\n",
              "      <td>Country-wide</td>\n",
              "      <td>42.0</td>\n",
              "      <td>Connectivity</td>\n",
              "      <td>NaN</td>\n",
              "      <td>NaN</td>\n",
              "      <td>NaN</td>\n",
              "      <td>NaN</td>\n",
              "      <td>NaN</td>\n",
              "      <td>NaN</td>\n",
              "      <td>NaN</td>\n",
              "      <td>NaN</td>\n",
              "      <td>NaN</td>\n",
              "    </tr>\n",
              "    <tr>\n",
              "      <th>122153</th>\n",
              "      <td>1796666</td>\n",
              "      <td>220723</td>\n",
              "      <td>NaN</td>\n",
              "      <td>NaN</td>\n",
              "      <td>0.0</td>\n",
              "      <td>0.0</td>\n",
              "      <td>NaN</td>\n",
              "      <td>NaN</td>\n",
              "      <td>MONDAY</td>\n",
              "      <td>9.0</td>\n",
              "      <td>Y</td>\n",
              "      <td>1.0</td>\n",
              "      <td>NaN</td>\n",
              "      <td>NaN</td>\n",
              "      <td>NaN</td>\n",
              "      <td>XAP</td>\n",
              "      <td>Canceled</td>\n",
              "      <td>358.0</td>\n",
              "      <td>NaN</td>\n",
              "      <td>XAP</td>\n",
              "      <td>NaN</td>\n",
              "      <td>Repeater</td>\n",
              "      <td>NaN</td>\n",
              "      <td>NaN</td>\n",
              "      <td>NaN</td>\n",
              "      <td>Country-wide</td>\n",
              "      <td>120.0</td>\n",
              "      <td>Connectivity</td>\n",
              "      <td>NaN</td>\n",
              "      <td>NaN</td>\n",
              "      <td>NaN</td>\n",
              "      <td>NaN</td>\n",
              "      <td>NaN</td>\n",
              "      <td>NaN</td>\n",
              "      <td>NaN</td>\n",
              "      <td>NaN</td>\n",
              "      <td>NaN</td>\n",
              "    </tr>\n",
              "    <tr>\n",
              "      <th>128265</th>\n",
              "      <td>1520921</td>\n",
              "      <td>206765</td>\n",
              "      <td>NaN</td>\n",
              "      <td>NaN</td>\n",
              "      <td>0.0</td>\n",
              "      <td>0.0</td>\n",
              "      <td>NaN</td>\n",
              "      <td>NaN</td>\n",
              "      <td>SUNDAY</td>\n",
              "      <td>12.0</td>\n",
              "      <td>Y</td>\n",
              "      <td>1.0</td>\n",
              "      <td>NaN</td>\n",
              "      <td>NaN</td>\n",
              "      <td>NaN</td>\n",
              "      <td>XAP</td>\n",
              "      <td>Refused</td>\n",
              "      <td>328.0</td>\n",
              "      <td>NaN</td>\n",
              "      <td>HC</td>\n",
              "      <td>NaN</td>\n",
              "      <td>Repeater</td>\n",
              "      <td>NaN</td>\n",
              "      <td>NaN</td>\n",
              "      <td>NaN</td>\n",
              "      <td>Country-wide</td>\n",
              "      <td>30.0</td>\n",
              "      <td>Connectivity</td>\n",
              "      <td>NaN</td>\n",
              "      <td>NaN</td>\n",
              "      <td>NaN</td>\n",
              "      <td>NaN</td>\n",
              "      <td>NaN</td>\n",
              "      <td>NaN</td>\n",
              "      <td>NaN</td>\n",
              "      <td>NaN</td>\n",
              "      <td>NaN</td>\n",
              "    </tr>\n",
              "    <tr>\n",
              "      <th>139320</th>\n",
              "      <td>1879353</td>\n",
              "      <td>327642</td>\n",
              "      <td>NaN</td>\n",
              "      <td>NaN</td>\n",
              "      <td>0.0</td>\n",
              "      <td>0.0</td>\n",
              "      <td>NaN</td>\n",
              "      <td>NaN</td>\n",
              "      <td>MONDAY</td>\n",
              "      <td>10.0</td>\n",
              "      <td>Y</td>\n",
              "      <td>1.0</td>\n",
              "      <td>NaN</td>\n",
              "      <td>NaN</td>\n",
              "      <td>NaN</td>\n",
              "      <td>XAP</td>\n",
              "      <td>Canceled</td>\n",
              "      <td>337.0</td>\n",
              "      <td>NaN</td>\n",
              "      <td>XAP</td>\n",
              "      <td>NaN</td>\n",
              "      <td>Refreshed</td>\n",
              "      <td>NaN</td>\n",
              "      <td>NaN</td>\n",
              "      <td>NaN</td>\n",
              "      <td>Country-wide</td>\n",
              "      <td>65.0</td>\n",
              "      <td>Connectivity</td>\n",
              "      <td>NaN</td>\n",
              "      <td>NaN</td>\n",
              "      <td>NaN</td>\n",
              "      <td>NaN</td>\n",
              "      <td>NaN</td>\n",
              "      <td>NaN</td>\n",
              "      <td>NaN</td>\n",
              "      <td>NaN</td>\n",
              "      <td>NaN</td>\n",
              "    </tr>\n",
              "    <tr>\n",
              "      <th>141381</th>\n",
              "      <td>1304559</td>\n",
              "      <td>298506</td>\n",
              "      <td>NaN</td>\n",
              "      <td>NaN</td>\n",
              "      <td>0.0</td>\n",
              "      <td>0.0</td>\n",
              "      <td>NaN</td>\n",
              "      <td>NaN</td>\n",
              "      <td>FRIDAY</td>\n",
              "      <td>9.0</td>\n",
              "      <td>Y</td>\n",
              "      <td>1.0</td>\n",
              "      <td>NaN</td>\n",
              "      <td>NaN</td>\n",
              "      <td>NaN</td>\n",
              "      <td>XAP</td>\n",
              "      <td>Canceled</td>\n",
              "      <td>631.0</td>\n",
              "      <td>NaN</td>\n",
              "      <td>XAP</td>\n",
              "      <td>NaN</td>\n",
              "      <td>Repeater</td>\n",
              "      <td>NaN</td>\n",
              "      <td>NaN</td>\n",
              "      <td>NaN</td>\n",
              "      <td>Country-wide</td>\n",
              "      <td>51.0</td>\n",
              "      <td>Connectivity</td>\n",
              "      <td>NaN</td>\n",
              "      <td>NaN</td>\n",
              "      <td>NaN</td>\n",
              "      <td>NaN</td>\n",
              "      <td>NaN</td>\n",
              "      <td>NaN</td>\n",
              "      <td>NaN</td>\n",
              "      <td>NaN</td>\n",
              "      <td>NaN</td>\n",
              "    </tr>\n",
              "    <tr>\n",
              "      <th>145615</th>\n",
              "      <td>2315265</td>\n",
              "      <td>246825</td>\n",
              "      <td>NaN</td>\n",
              "      <td>NaN</td>\n",
              "      <td>0.0</td>\n",
              "      <td>0.0</td>\n",
              "      <td>NaN</td>\n",
              "      <td>NaN</td>\n",
              "      <td>SATURDAY</td>\n",
              "      <td>11.0</td>\n",
              "      <td>Y</td>\n",
              "      <td>1.0</td>\n",
              "      <td>NaN</td>\n",
              "      <td>NaN</td>\n",
              "      <td>NaN</td>\n",
              "      <td>XAP</td>\n",
              "      <td>Refused</td>\n",
              "      <td>501.0</td>\n",
              "      <td>NaN</td>\n",
              "      <td>HC</td>\n",
              "      <td>NaN</td>\n",
              "      <td>Repeater</td>\n",
              "      <td>NaN</td>\n",
              "      <td>NaN</td>\n",
              "      <td>NaN</td>\n",
              "      <td>Country-wide</td>\n",
              "      <td>50.0</td>\n",
              "      <td>Connectivity</td>\n",
              "      <td>NaN</td>\n",
              "      <td>NaN</td>\n",
              "      <td>NaN</td>\n",
              "      <td>NaN</td>\n",
              "      <td>NaN</td>\n",
              "      <td>NaN</td>\n",
              "      <td>NaN</td>\n",
              "      <td>NaN</td>\n",
              "      <td>NaN</td>\n",
              "    </tr>\n",
              "    <tr>\n",
              "      <th>147357</th>\n",
              "      <td>2005558</td>\n",
              "      <td>398907</td>\n",
              "      <td>NaN</td>\n",
              "      <td>NaN</td>\n",
              "      <td>0.0</td>\n",
              "      <td>0.0</td>\n",
              "      <td>NaN</td>\n",
              "      <td>NaN</td>\n",
              "      <td>SUNDAY</td>\n",
              "      <td>15.0</td>\n",
              "      <td>Y</td>\n",
              "      <td>1.0</td>\n",
              "      <td>NaN</td>\n",
              "      <td>NaN</td>\n",
              "      <td>NaN</td>\n",
              "      <td>XAP</td>\n",
              "      <td>Canceled</td>\n",
              "      <td>372.0</td>\n",
              "      <td>NaN</td>\n",
              "      <td>XAP</td>\n",
              "      <td>NaN</td>\n",
              "      <td>Repeater</td>\n",
              "      <td>NaN</td>\n",
              "      <td>NaN</td>\n",
              "      <td>NaN</td>\n",
              "      <td>Country-wide</td>\n",
              "      <td>65.0</td>\n",
              "      <td>Connectivity</td>\n",
              "      <td>NaN</td>\n",
              "      <td>NaN</td>\n",
              "      <td>NaN</td>\n",
              "      <td>NaN</td>\n",
              "      <td>NaN</td>\n",
              "      <td>NaN</td>\n",
              "      <td>NaN</td>\n",
              "      <td>NaN</td>\n",
              "      <td>NaN</td>\n",
              "    </tr>\n",
              "    <tr>\n",
              "      <th>150224</th>\n",
              "      <td>1037118</td>\n",
              "      <td>252364</td>\n",
              "      <td>NaN</td>\n",
              "      <td>NaN</td>\n",
              "      <td>0.0</td>\n",
              "      <td>0.0</td>\n",
              "      <td>NaN</td>\n",
              "      <td>NaN</td>\n",
              "      <td>THURSDAY</td>\n",
              "      <td>14.0</td>\n",
              "      <td>Y</td>\n",
              "      <td>1.0</td>\n",
              "      <td>NaN</td>\n",
              "      <td>NaN</td>\n",
              "      <td>NaN</td>\n",
              "      <td>XAP</td>\n",
              "      <td>Canceled</td>\n",
              "      <td>550.0</td>\n",
              "      <td>NaN</td>\n",
              "      <td>XAP</td>\n",
              "      <td>NaN</td>\n",
              "      <td>Repeater</td>\n",
              "      <td>NaN</td>\n",
              "      <td>NaN</td>\n",
              "      <td>NaN</td>\n",
              "      <td>Country-wide</td>\n",
              "      <td>20.0</td>\n",
              "      <td>Connectivity</td>\n",
              "      <td>NaN</td>\n",
              "      <td>NaN</td>\n",
              "      <td>NaN</td>\n",
              "      <td>NaN</td>\n",
              "      <td>NaN</td>\n",
              "      <td>NaN</td>\n",
              "      <td>NaN</td>\n",
              "      <td>NaN</td>\n",
              "      <td>NaN</td>\n",
              "    </tr>\n",
              "    <tr>\n",
              "      <th>152238</th>\n",
              "      <td>1861852</td>\n",
              "      <td>331871</td>\n",
              "      <td>NaN</td>\n",
              "      <td>NaN</td>\n",
              "      <td>0.0</td>\n",
              "      <td>0.0</td>\n",
              "      <td>NaN</td>\n",
              "      <td>NaN</td>\n",
              "      <td>SATURDAY</td>\n",
              "      <td>12.0</td>\n",
              "      <td>Y</td>\n",
              "      <td>1.0</td>\n",
              "      <td>NaN</td>\n",
              "      <td>NaN</td>\n",
              "      <td>NaN</td>\n",
              "      <td>XAP</td>\n",
              "      <td>Canceled</td>\n",
              "      <td>265.0</td>\n",
              "      <td>NaN</td>\n",
              "      <td>XAP</td>\n",
              "      <td>NaN</td>\n",
              "      <td>Refreshed</td>\n",
              "      <td>NaN</td>\n",
              "      <td>NaN</td>\n",
              "      <td>NaN</td>\n",
              "      <td>Country-wide</td>\n",
              "      <td>58.0</td>\n",
              "      <td>Connectivity</td>\n",
              "      <td>NaN</td>\n",
              "      <td>NaN</td>\n",
              "      <td>NaN</td>\n",
              "      <td>NaN</td>\n",
              "      <td>NaN</td>\n",
              "      <td>NaN</td>\n",
              "      <td>NaN</td>\n",
              "      <td>NaN</td>\n",
              "      <td>NaN</td>\n",
              "    </tr>\n",
              "    <tr>\n",
              "      <th>153646</th>\n",
              "      <td>2845046</td>\n",
              "      <td>312474</td>\n",
              "      <td>NaN</td>\n",
              "      <td>NaN</td>\n",
              "      <td>0.0</td>\n",
              "      <td>0.0</td>\n",
              "      <td>NaN</td>\n",
              "      <td>NaN</td>\n",
              "      <td>TUESDAY</td>\n",
              "      <td>17.0</td>\n",
              "      <td>Y</td>\n",
              "      <td>1.0</td>\n",
              "      <td>NaN</td>\n",
              "      <td>NaN</td>\n",
              "      <td>NaN</td>\n",
              "      <td>XAP</td>\n",
              "      <td>Canceled</td>\n",
              "      <td>388.0</td>\n",
              "      <td>NaN</td>\n",
              "      <td>XAP</td>\n",
              "      <td>NaN</td>\n",
              "      <td>Repeater</td>\n",
              "      <td>NaN</td>\n",
              "      <td>NaN</td>\n",
              "      <td>NaN</td>\n",
              "      <td>Country-wide</td>\n",
              "      <td>20.0</td>\n",
              "      <td>Connectivity</td>\n",
              "      <td>NaN</td>\n",
              "      <td>NaN</td>\n",
              "      <td>NaN</td>\n",
              "      <td>NaN</td>\n",
              "      <td>NaN</td>\n",
              "      <td>NaN</td>\n",
              "      <td>NaN</td>\n",
              "      <td>NaN</td>\n",
              "      <td>NaN</td>\n",
              "    </tr>\n",
              "    <tr>\n",
              "      <th>155171</th>\n",
              "      <td>1843109</td>\n",
              "      <td>233103</td>\n",
              "      <td>NaN</td>\n",
              "      <td>NaN</td>\n",
              "      <td>0.0</td>\n",
              "      <td>0.0</td>\n",
              "      <td>NaN</td>\n",
              "      <td>NaN</td>\n",
              "      <td>FRIDAY</td>\n",
              "      <td>9.0</td>\n",
              "      <td>Y</td>\n",
              "      <td>1.0</td>\n",
              "      <td>NaN</td>\n",
              "      <td>NaN</td>\n",
              "      <td>NaN</td>\n",
              "      <td>XAP</td>\n",
              "      <td>Canceled</td>\n",
              "      <td>342.0</td>\n",
              "      <td>NaN</td>\n",
              "      <td>XAP</td>\n",
              "      <td>NaN</td>\n",
              "      <td>Repeater</td>\n",
              "      <td>NaN</td>\n",
              "      <td>NaN</td>\n",
              "      <td>NaN</td>\n",
              "      <td>Country-wide</td>\n",
              "      <td>35.0</td>\n",
              "      <td>Connectivity</td>\n",
              "      <td>NaN</td>\n",
              "      <td>NaN</td>\n",
              "      <td>NaN</td>\n",
              "      <td>NaN</td>\n",
              "      <td>NaN</td>\n",
              "      <td>NaN</td>\n",
              "      <td>NaN</td>\n",
              "      <td>NaN</td>\n",
              "      <td>NaN</td>\n",
              "    </tr>\n",
              "    <tr>\n",
              "      <th>168273</th>\n",
              "      <td>1432979</td>\n",
              "      <td>114819</td>\n",
              "      <td>NaN</td>\n",
              "      <td>NaN</td>\n",
              "      <td>0.0</td>\n",
              "      <td>0.0</td>\n",
              "      <td>NaN</td>\n",
              "      <td>NaN</td>\n",
              "      <td>SUNDAY</td>\n",
              "      <td>12.0</td>\n",
              "      <td>Y</td>\n",
              "      <td>1.0</td>\n",
              "      <td>NaN</td>\n",
              "      <td>NaN</td>\n",
              "      <td>NaN</td>\n",
              "      <td>XAP</td>\n",
              "      <td>Canceled</td>\n",
              "      <td>385.0</td>\n",
              "      <td>NaN</td>\n",
              "      <td>XAP</td>\n",
              "      <td>NaN</td>\n",
              "      <td>Repeater</td>\n",
              "      <td>NaN</td>\n",
              "      <td>NaN</td>\n",
              "      <td>NaN</td>\n",
              "      <td>Country-wide</td>\n",
              "      <td>55.0</td>\n",
              "      <td>Connectivity</td>\n",
              "      <td>NaN</td>\n",
              "      <td>NaN</td>\n",
              "      <td>NaN</td>\n",
              "      <td>NaN</td>\n",
              "      <td>NaN</td>\n",
              "      <td>NaN</td>\n",
              "      <td>NaN</td>\n",
              "      <td>NaN</td>\n",
              "      <td>NaN</td>\n",
              "    </tr>\n",
              "    <tr>\n",
              "      <th>169393</th>\n",
              "      <td>2543973</td>\n",
              "      <td>255797</td>\n",
              "      <td>NaN</td>\n",
              "      <td>NaN</td>\n",
              "      <td>0.0</td>\n",
              "      <td>0.0</td>\n",
              "      <td>NaN</td>\n",
              "      <td>NaN</td>\n",
              "      <td>WEDNESDAY</td>\n",
              "      <td>10.0</td>\n",
              "      <td>Y</td>\n",
              "      <td>1.0</td>\n",
              "      <td>NaN</td>\n",
              "      <td>NaN</td>\n",
              "      <td>NaN</td>\n",
              "      <td>XAP</td>\n",
              "      <td>Refused</td>\n",
              "      <td>616.0</td>\n",
              "      <td>NaN</td>\n",
              "      <td>HC</td>\n",
              "      <td>NaN</td>\n",
              "      <td>Repeater</td>\n",
              "      <td>NaN</td>\n",
              "      <td>NaN</td>\n",
              "      <td>NaN</td>\n",
              "      <td>Country-wide</td>\n",
              "      <td>30.0</td>\n",
              "      <td>Connectivity</td>\n",
              "      <td>NaN</td>\n",
              "      <td>NaN</td>\n",
              "      <td>NaN</td>\n",
              "      <td>NaN</td>\n",
              "      <td>NaN</td>\n",
              "      <td>NaN</td>\n",
              "      <td>NaN</td>\n",
              "      <td>NaN</td>\n",
              "      <td>NaN</td>\n",
              "    </tr>\n",
              "    <tr>\n",
              "      <th>169822</th>\n",
              "      <td>2795751</td>\n",
              "      <td>379139</td>\n",
              "      <td>NaN</td>\n",
              "      <td>NaN</td>\n",
              "      <td>0.0</td>\n",
              "      <td>0.0</td>\n",
              "      <td>NaN</td>\n",
              "      <td>NaN</td>\n",
              "      <td>FRIDAY</td>\n",
              "      <td>11.0</td>\n",
              "      <td>Y</td>\n",
              "      <td>1.0</td>\n",
              "      <td>NaN</td>\n",
              "      <td>NaN</td>\n",
              "      <td>NaN</td>\n",
              "      <td>XAP</td>\n",
              "      <td>Canceled</td>\n",
              "      <td>464.0</td>\n",
              "      <td>NaN</td>\n",
              "      <td>XAP</td>\n",
              "      <td>NaN</td>\n",
              "      <td>Repeater</td>\n",
              "      <td>NaN</td>\n",
              "      <td>NaN</td>\n",
              "      <td>NaN</td>\n",
              "      <td>Country-wide</td>\n",
              "      <td>20.0</td>\n",
              "      <td>Connectivity</td>\n",
              "      <td>NaN</td>\n",
              "      <td>NaN</td>\n",
              "      <td>NaN</td>\n",
              "      <td>NaN</td>\n",
              "      <td>NaN</td>\n",
              "      <td>NaN</td>\n",
              "      <td>NaN</td>\n",
              "      <td>NaN</td>\n",
              "      <td>NaN</td>\n",
              "    </tr>\n",
              "    <tr>\n",
              "      <th>170943</th>\n",
              "      <td>2829463</td>\n",
              "      <td>214049</td>\n",
              "      <td>NaN</td>\n",
              "      <td>NaN</td>\n",
              "      <td>0.0</td>\n",
              "      <td>0.0</td>\n",
              "      <td>NaN</td>\n",
              "      <td>NaN</td>\n",
              "      <td>SATURDAY</td>\n",
              "      <td>12.0</td>\n",
              "      <td>Y</td>\n",
              "      <td>1.0</td>\n",
              "      <td>NaN</td>\n",
              "      <td>NaN</td>\n",
              "      <td>NaN</td>\n",
              "      <td>XAP</td>\n",
              "      <td>Canceled</td>\n",
              "      <td>273.0</td>\n",
              "      <td>NaN</td>\n",
              "      <td>XAP</td>\n",
              "      <td>NaN</td>\n",
              "      <td>Repeater</td>\n",
              "      <td>NaN</td>\n",
              "      <td>NaN</td>\n",
              "      <td>NaN</td>\n",
              "      <td>Country-wide</td>\n",
              "      <td>20.0</td>\n",
              "      <td>Connectivity</td>\n",
              "      <td>NaN</td>\n",
              "      <td>NaN</td>\n",
              "      <td>NaN</td>\n",
              "      <td>NaN</td>\n",
              "      <td>NaN</td>\n",
              "      <td>NaN</td>\n",
              "      <td>NaN</td>\n",
              "      <td>NaN</td>\n",
              "      <td>NaN</td>\n",
              "    </tr>\n",
              "    <tr>\n",
              "      <th>171329</th>\n",
              "      <td>2361387</td>\n",
              "      <td>158777</td>\n",
              "      <td>NaN</td>\n",
              "      <td>NaN</td>\n",
              "      <td>0.0</td>\n",
              "      <td>0.0</td>\n",
              "      <td>NaN</td>\n",
              "      <td>NaN</td>\n",
              "      <td>WEDNESDAY</td>\n",
              "      <td>15.0</td>\n",
              "      <td>Y</td>\n",
              "      <td>1.0</td>\n",
              "      <td>NaN</td>\n",
              "      <td>NaN</td>\n",
              "      <td>NaN</td>\n",
              "      <td>XAP</td>\n",
              "      <td>Canceled</td>\n",
              "      <td>284.0</td>\n",
              "      <td>NaN</td>\n",
              "      <td>XAP</td>\n",
              "      <td>NaN</td>\n",
              "      <td>Repeater</td>\n",
              "      <td>NaN</td>\n",
              "      <td>NaN</td>\n",
              "      <td>NaN</td>\n",
              "      <td>Country-wide</td>\n",
              "      <td>40.0</td>\n",
              "      <td>Connectivity</td>\n",
              "      <td>NaN</td>\n",
              "      <td>NaN</td>\n",
              "      <td>NaN</td>\n",
              "      <td>NaN</td>\n",
              "      <td>NaN</td>\n",
              "      <td>NaN</td>\n",
              "      <td>NaN</td>\n",
              "      <td>NaN</td>\n",
              "      <td>NaN</td>\n",
              "    </tr>\n",
              "    <tr>\n",
              "      <th>174636</th>\n",
              "      <td>2311659</td>\n",
              "      <td>168000</td>\n",
              "      <td>NaN</td>\n",
              "      <td>NaN</td>\n",
              "      <td>0.0</td>\n",
              "      <td>0.0</td>\n",
              "      <td>NaN</td>\n",
              "      <td>NaN</td>\n",
              "      <td>SATURDAY</td>\n",
              "      <td>17.0</td>\n",
              "      <td>Y</td>\n",
              "      <td>1.0</td>\n",
              "      <td>NaN</td>\n",
              "      <td>NaN</td>\n",
              "      <td>NaN</td>\n",
              "      <td>XAP</td>\n",
              "      <td>Refused</td>\n",
              "      <td>607.0</td>\n",
              "      <td>NaN</td>\n",
              "      <td>HC</td>\n",
              "      <td>NaN</td>\n",
              "      <td>Repeater</td>\n",
              "      <td>NaN</td>\n",
              "      <td>NaN</td>\n",
              "      <td>NaN</td>\n",
              "      <td>Country-wide</td>\n",
              "      <td>56.0</td>\n",
              "      <td>Connectivity</td>\n",
              "      <td>NaN</td>\n",
              "      <td>NaN</td>\n",
              "      <td>NaN</td>\n",
              "      <td>NaN</td>\n",
              "      <td>NaN</td>\n",
              "      <td>NaN</td>\n",
              "      <td>NaN</td>\n",
              "      <td>NaN</td>\n",
              "      <td>NaN</td>\n",
              "    </tr>\n",
              "    <tr>\n",
              "      <th>175815</th>\n",
              "      <td>1168658</td>\n",
              "      <td>369875</td>\n",
              "      <td>NaN</td>\n",
              "      <td>NaN</td>\n",
              "      <td>0.0</td>\n",
              "      <td>0.0</td>\n",
              "      <td>NaN</td>\n",
              "      <td>NaN</td>\n",
              "      <td>FRIDAY</td>\n",
              "      <td>15.0</td>\n",
              "      <td>Y</td>\n",
              "      <td>1.0</td>\n",
              "      <td>NaN</td>\n",
              "      <td>NaN</td>\n",
              "      <td>NaN</td>\n",
              "      <td>XAP</td>\n",
              "      <td>Canceled</td>\n",
              "      <td>292.0</td>\n",
              "      <td>NaN</td>\n",
              "      <td>XAP</td>\n",
              "      <td>NaN</td>\n",
              "      <td>Repeater</td>\n",
              "      <td>NaN</td>\n",
              "      <td>NaN</td>\n",
              "      <td>NaN</td>\n",
              "      <td>Country-wide</td>\n",
              "      <td>50.0</td>\n",
              "      <td>Connectivity</td>\n",
              "      <td>NaN</td>\n",
              "      <td>NaN</td>\n",
              "      <td>NaN</td>\n",
              "      <td>NaN</td>\n",
              "      <td>NaN</td>\n",
              "      <td>NaN</td>\n",
              "      <td>NaN</td>\n",
              "      <td>NaN</td>\n",
              "      <td>NaN</td>\n",
              "    </tr>\n",
              "    <tr>\n",
              "      <th>179226</th>\n",
              "      <td>2544424</td>\n",
              "      <td>435377</td>\n",
              "      <td>NaN</td>\n",
              "      <td>NaN</td>\n",
              "      <td>0.0</td>\n",
              "      <td>0.0</td>\n",
              "      <td>NaN</td>\n",
              "      <td>NaN</td>\n",
              "      <td>THURSDAY</td>\n",
              "      <td>11.0</td>\n",
              "      <td>Y</td>\n",
              "      <td>1.0</td>\n",
              "      <td>NaN</td>\n",
              "      <td>NaN</td>\n",
              "      <td>NaN</td>\n",
              "      <td>XAP</td>\n",
              "      <td>Refused</td>\n",
              "      <td>497.0</td>\n",
              "      <td>NaN</td>\n",
              "      <td>HC</td>\n",
              "      <td>NaN</td>\n",
              "      <td>Repeater</td>\n",
              "      <td>NaN</td>\n",
              "      <td>NaN</td>\n",
              "      <td>NaN</td>\n",
              "      <td>Country-wide</td>\n",
              "      <td>20.0</td>\n",
              "      <td>Connectivity</td>\n",
              "      <td>NaN</td>\n",
              "      <td>NaN</td>\n",
              "      <td>NaN</td>\n",
              "      <td>NaN</td>\n",
              "      <td>NaN</td>\n",
              "      <td>NaN</td>\n",
              "      <td>NaN</td>\n",
              "      <td>NaN</td>\n",
              "      <td>NaN</td>\n",
              "    </tr>\n",
              "    <tr>\n",
              "      <th>181429</th>\n",
              "      <td>1610407</td>\n",
              "      <td>287042</td>\n",
              "      <td>NaN</td>\n",
              "      <td>NaN</td>\n",
              "      <td>0.0</td>\n",
              "      <td>0.0</td>\n",
              "      <td>NaN</td>\n",
              "      <td>NaN</td>\n",
              "      <td>TUESDAY</td>\n",
              "      <td>18.0</td>\n",
              "      <td>Y</td>\n",
              "      <td>1.0</td>\n",
              "      <td>NaN</td>\n",
              "      <td>NaN</td>\n",
              "      <td>NaN</td>\n",
              "      <td>XAP</td>\n",
              "      <td>Canceled</td>\n",
              "      <td>530.0</td>\n",
              "      <td>NaN</td>\n",
              "      <td>XAP</td>\n",
              "      <td>NaN</td>\n",
              "      <td>Repeater</td>\n",
              "      <td>NaN</td>\n",
              "      <td>NaN</td>\n",
              "      <td>NaN</td>\n",
              "      <td>Country-wide</td>\n",
              "      <td>20.0</td>\n",
              "      <td>Connectivity</td>\n",
              "      <td>NaN</td>\n",
              "      <td>NaN</td>\n",
              "      <td>NaN</td>\n",
              "      <td>NaN</td>\n",
              "      <td>NaN</td>\n",
              "      <td>NaN</td>\n",
              "      <td>NaN</td>\n",
              "      <td>NaN</td>\n",
              "      <td>NaN</td>\n",
              "    </tr>\n",
              "    <tr>\n",
              "      <th>186568</th>\n",
              "      <td>2061272</td>\n",
              "      <td>194910</td>\n",
              "      <td>NaN</td>\n",
              "      <td>NaN</td>\n",
              "      <td>0.0</td>\n",
              "      <td>0.0</td>\n",
              "      <td>NaN</td>\n",
              "      <td>NaN</td>\n",
              "      <td>FRIDAY</td>\n",
              "      <td>13.0</td>\n",
              "      <td>Y</td>\n",
              "      <td>1.0</td>\n",
              "      <td>NaN</td>\n",
              "      <td>NaN</td>\n",
              "      <td>NaN</td>\n",
              "      <td>XAP</td>\n",
              "      <td>Canceled</td>\n",
              "      <td>569.0</td>\n",
              "      <td>NaN</td>\n",
              "      <td>XAP</td>\n",
              "      <td>NaN</td>\n",
              "      <td>Repeater</td>\n",
              "      <td>NaN</td>\n",
              "      <td>NaN</td>\n",
              "      <td>NaN</td>\n",
              "      <td>Country-wide</td>\n",
              "      <td>56.0</td>\n",
              "      <td>Connectivity</td>\n",
              "      <td>NaN</td>\n",
              "      <td>NaN</td>\n",
              "      <td>NaN</td>\n",
              "      <td>NaN</td>\n",
              "      <td>NaN</td>\n",
              "      <td>NaN</td>\n",
              "      <td>NaN</td>\n",
              "      <td>NaN</td>\n",
              "      <td>NaN</td>\n",
              "    </tr>\n",
              "    <tr>\n",
              "      <th>193014</th>\n",
              "      <td>1932947</td>\n",
              "      <td>257459</td>\n",
              "      <td>NaN</td>\n",
              "      <td>NaN</td>\n",
              "      <td>0.0</td>\n",
              "      <td>0.0</td>\n",
              "      <td>NaN</td>\n",
              "      <td>NaN</td>\n",
              "      <td>MONDAY</td>\n",
              "      <td>9.0</td>\n",
              "      <td>Y</td>\n",
              "      <td>1.0</td>\n",
              "      <td>NaN</td>\n",
              "      <td>NaN</td>\n",
              "      <td>NaN</td>\n",
              "      <td>XAP</td>\n",
              "      <td>Canceled</td>\n",
              "      <td>369.0</td>\n",
              "      <td>NaN</td>\n",
              "      <td>XAP</td>\n",
              "      <td>NaN</td>\n",
              "      <td>Repeater</td>\n",
              "      <td>NaN</td>\n",
              "      <td>NaN</td>\n",
              "      <td>NaN</td>\n",
              "      <td>Country-wide</td>\n",
              "      <td>42.0</td>\n",
              "      <td>Connectivity</td>\n",
              "      <td>NaN</td>\n",
              "      <td>NaN</td>\n",
              "      <td>NaN</td>\n",
              "      <td>NaN</td>\n",
              "      <td>NaN</td>\n",
              "      <td>NaN</td>\n",
              "      <td>NaN</td>\n",
              "      <td>NaN</td>\n",
              "      <td>NaN</td>\n",
              "    </tr>\n",
              "    <tr>\n",
              "      <th>205845</th>\n",
              "      <td>1545818</td>\n",
              "      <td>422839</td>\n",
              "      <td>NaN</td>\n",
              "      <td>NaN</td>\n",
              "      <td>0.0</td>\n",
              "      <td>0.0</td>\n",
              "      <td>NaN</td>\n",
              "      <td>NaN</td>\n",
              "      <td>THURSDAY</td>\n",
              "      <td>14.0</td>\n",
              "      <td>Y</td>\n",
              "      <td>1.0</td>\n",
              "      <td>NaN</td>\n",
              "      <td>NaN</td>\n",
              "      <td>NaN</td>\n",
              "      <td>XAP</td>\n",
              "      <td>Canceled</td>\n",
              "      <td>549.0</td>\n",
              "      <td>NaN</td>\n",
              "      <td>XAP</td>\n",
              "      <td>NaN</td>\n",
              "      <td>Repeater</td>\n",
              "      <td>NaN</td>\n",
              "      <td>NaN</td>\n",
              "      <td>NaN</td>\n",
              "      <td>Country-wide</td>\n",
              "      <td>44.0</td>\n",
              "      <td>Connectivity</td>\n",
              "      <td>NaN</td>\n",
              "      <td>NaN</td>\n",
              "      <td>NaN</td>\n",
              "      <td>NaN</td>\n",
              "      <td>NaN</td>\n",
              "      <td>NaN</td>\n",
              "      <td>NaN</td>\n",
              "      <td>NaN</td>\n",
              "      <td>NaN</td>\n",
              "    </tr>\n",
              "    <tr>\n",
              "      <th>206049</th>\n",
              "      <td>1534452</td>\n",
              "      <td>150508</td>\n",
              "      <td>NaN</td>\n",
              "      <td>NaN</td>\n",
              "      <td>0.0</td>\n",
              "      <td>0.0</td>\n",
              "      <td>NaN</td>\n",
              "      <td>NaN</td>\n",
              "      <td>TUESDAY</td>\n",
              "      <td>14.0</td>\n",
              "      <td>Y</td>\n",
              "      <td>1.0</td>\n",
              "      <td>NaN</td>\n",
              "      <td>NaN</td>\n",
              "      <td>NaN</td>\n",
              "      <td>XAP</td>\n",
              "      <td>Canceled</td>\n",
              "      <td>306.0</td>\n",
              "      <td>NaN</td>\n",
              "      <td>XAP</td>\n",
              "      <td>NaN</td>\n",
              "      <td>Repeater</td>\n",
              "      <td>NaN</td>\n",
              "      <td>NaN</td>\n",
              "      <td>NaN</td>\n",
              "      <td>Country-wide</td>\n",
              "      <td>120.0</td>\n",
              "      <td>Connectivity</td>\n",
              "      <td>NaN</td>\n",
              "      <td>NaN</td>\n",
              "      <td>NaN</td>\n",
              "      <td>NaN</td>\n",
              "      <td>NaN</td>\n",
              "      <td>NaN</td>\n",
              "      <td>NaN</td>\n",
              "      <td>NaN</td>\n",
              "      <td>NaN</td>\n",
              "    </tr>\n",
              "    <tr>\n",
              "      <th>220988</th>\n",
              "      <td>1525316</td>\n",
              "      <td>228674</td>\n",
              "      <td>NaN</td>\n",
              "      <td>NaN</td>\n",
              "      <td>0.0</td>\n",
              "      <td>0.0</td>\n",
              "      <td>NaN</td>\n",
              "      <td>NaN</td>\n",
              "      <td>TUESDAY</td>\n",
              "      <td>6.0</td>\n",
              "      <td>Y</td>\n",
              "      <td>1.0</td>\n",
              "      <td>NaN</td>\n",
              "      <td>NaN</td>\n",
              "      <td>NaN</td>\n",
              "      <td>XAP</td>\n",
              "      <td>Canceled</td>\n",
              "      <td>337.0</td>\n",
              "      <td>NaN</td>\n",
              "      <td>XAP</td>\n",
              "      <td>NaN</td>\n",
              "      <td>New</td>\n",
              "      <td>NaN</td>\n",
              "      <td>NaN</td>\n",
              "      <td>NaN</td>\n",
              "      <td>Country-wide</td>\n",
              "      <td>20.0</td>\n",
              "      <td>Connectivity</td>\n",
              "      <td>NaN</td>\n",
              "      <td>NaN</td>\n",
              "      <td>NaN</td>\n",
              "      <td>NaN</td>\n",
              "      <td>NaN</td>\n",
              "      <td>NaN</td>\n",
              "      <td>NaN</td>\n",
              "      <td>NaN</td>\n",
              "      <td>NaN</td>\n",
              "    </tr>\n",
              "    <tr>\n",
              "      <th>228860</th>\n",
              "      <td>2420647</td>\n",
              "      <td>132307</td>\n",
              "      <td>NaN</td>\n",
              "      <td>NaN</td>\n",
              "      <td>0.0</td>\n",
              "      <td>0.0</td>\n",
              "      <td>NaN</td>\n",
              "      <td>NaN</td>\n",
              "      <td>FRIDAY</td>\n",
              "      <td>11.0</td>\n",
              "      <td>Y</td>\n",
              "      <td>1.0</td>\n",
              "      <td>NaN</td>\n",
              "      <td>NaN</td>\n",
              "      <td>NaN</td>\n",
              "      <td>XAP</td>\n",
              "      <td>Canceled</td>\n",
              "      <td>324.0</td>\n",
              "      <td>NaN</td>\n",
              "      <td>XAP</td>\n",
              "      <td>NaN</td>\n",
              "      <td>Repeater</td>\n",
              "      <td>NaN</td>\n",
              "      <td>NaN</td>\n",
              "      <td>NaN</td>\n",
              "      <td>Country-wide</td>\n",
              "      <td>50.0</td>\n",
              "      <td>Connectivity</td>\n",
              "      <td>NaN</td>\n",
              "      <td>NaN</td>\n",
              "      <td>NaN</td>\n",
              "      <td>NaN</td>\n",
              "      <td>NaN</td>\n",
              "      <td>NaN</td>\n",
              "      <td>NaN</td>\n",
              "      <td>NaN</td>\n",
              "      <td>NaN</td>\n",
              "    </tr>\n",
              "    <tr>\n",
              "      <th>231758</th>\n",
              "      <td>2660406</td>\n",
              "      <td>235190</td>\n",
              "      <td>Consumer loans</td>\n",
              "      <td>7103.295</td>\n",
              "      <td>141736.5</td>\n",
              "      <td>157675.5</td>\n",
              "      <td>0.0</td>\n",
              "      <td>NaN</td>\n",
              "      <td>NaN</td>\n",
              "      <td>NaN</td>\n",
              "      <td>NaN</td>\n",
              "      <td>NaN</td>\n",
              "      <td>NaN</td>\n",
              "      <td>NaN</td>\n",
              "      <td>NaN</td>\n",
              "      <td>NaN</td>\n",
              "      <td>NaN</td>\n",
              "      <td>NaN</td>\n",
              "      <td>NaN</td>\n",
              "      <td>NaN</td>\n",
              "      <td>NaN</td>\n",
              "      <td>NaN</td>\n",
              "      <td>NaN</td>\n",
              "      <td>NaN</td>\n",
              "      <td>NaN</td>\n",
              "      <td>NaN</td>\n",
              "      <td>NaN</td>\n",
              "      <td>NaN</td>\n",
              "      <td>NaN</td>\n",
              "      <td>NaN</td>\n",
              "      <td>NaN</td>\n",
              "      <td>NaN</td>\n",
              "      <td>NaN</td>\n",
              "      <td>NaN</td>\n",
              "      <td>NaN</td>\n",
              "      <td>NaN</td>\n",
              "      <td>NaN</td>\n",
              "    </tr>\n",
              "  </tbody>\n",
              "</table>\n",
              "</div>"
            ],
            "text/plain": [
              "        SK_ID_PREV  SK_ID_CURR  ... DAYS_TERMINATION  NFLAG_INSURED_ON_APPROVAL\n",
              "6664       2515161      222844  ...              NaN                        NaN\n",
              "9029       1851920      417884  ...              NaN                        NaN\n",
              "17038      2389511      148922  ...              NaN                        NaN\n",
              "24543      2494449      366626  ...              NaN                        NaN\n",
              "24574      2781877      394843  ...              NaN                        NaN\n",
              "25030      2785890      154490  ...              NaN                        NaN\n",
              "39305      2457349      307803  ...              NaN                        NaN\n",
              "39461      2456391      164367  ...              NaN                        NaN\n",
              "52461      2447432      426909  ...              NaN                        NaN\n",
              "61664      2022193      378447  ...              NaN                        NaN\n",
              "79933      2377334      351258  ...              NaN                        NaN\n",
              "80232      1470617      244344  ...              NaN                        NaN\n",
              "81715      1700167      125160  ...              NaN                        NaN\n",
              "81716      1380195      379439  ...              NaN                        NaN\n",
              "83438      1777004      285411  ...              NaN                        NaN\n",
              "84178      2041259      350713  ...              NaN                        NaN\n",
              "93088      1507440      179845  ...              NaN                        NaN\n",
              "108822     1906631      116369  ...              NaN                        NaN\n",
              "110745     1808766      188786  ...              NaN                        NaN\n",
              "117368     2420029      427664  ...              NaN                        NaN\n",
              "122153     1796666      220723  ...              NaN                        NaN\n",
              "128265     1520921      206765  ...              NaN                        NaN\n",
              "139320     1879353      327642  ...              NaN                        NaN\n",
              "141381     1304559      298506  ...              NaN                        NaN\n",
              "145615     2315265      246825  ...              NaN                        NaN\n",
              "147357     2005558      398907  ...              NaN                        NaN\n",
              "150224     1037118      252364  ...              NaN                        NaN\n",
              "152238     1861852      331871  ...              NaN                        NaN\n",
              "153646     2845046      312474  ...              NaN                        NaN\n",
              "155171     1843109      233103  ...              NaN                        NaN\n",
              "168273     1432979      114819  ...              NaN                        NaN\n",
              "169393     2543973      255797  ...              NaN                        NaN\n",
              "169822     2795751      379139  ...              NaN                        NaN\n",
              "170943     2829463      214049  ...              NaN                        NaN\n",
              "171329     2361387      158777  ...              NaN                        NaN\n",
              "174636     2311659      168000  ...              NaN                        NaN\n",
              "175815     1168658      369875  ...              NaN                        NaN\n",
              "179226     2544424      435377  ...              NaN                        NaN\n",
              "181429     1610407      287042  ...              NaN                        NaN\n",
              "186568     2061272      194910  ...              NaN                        NaN\n",
              "193014     1932947      257459  ...              NaN                        NaN\n",
              "205845     1545818      422839  ...              NaN                        NaN\n",
              "206049     1534452      150508  ...              NaN                        NaN\n",
              "220988     1525316      228674  ...              NaN                        NaN\n",
              "228860     2420647      132307  ...              NaN                        NaN\n",
              "231758     2660406      235190  ...              NaN                        NaN\n",
              "\n",
              "[46 rows x 37 columns]"
            ]
          },
          "metadata": {
            "tags": []
          },
          "execution_count": 188
        }
      ]
    },
    {
      "cell_type": "code",
      "metadata": {
        "colab": {
          "base_uri": "https://localhost:8080/"
        },
        "id": "jWDL1x4wGl4x",
        "outputId": "5e55d104-8e9f-445d-d95a-1fdc2504feca"
      },
      "source": [
        "(prev_data['PRODUCT_COMBINATION'].isna()==prev_data['NAME_CONTRACT_TYPE'].isna()).unique()"
      ],
      "execution_count": null,
      "outputs": [
        {
          "output_type": "execute_result",
          "data": {
            "text/plain": [
              "array([ True, False])"
            ]
          },
          "metadata": {
            "tags": []
          },
          "execution_count": 189
        }
      ]
    },
    {
      "cell_type": "code",
      "metadata": {
        "colab": {
          "base_uri": "https://localhost:8080/"
        },
        "id": "7ahCxaUfJVkq",
        "outputId": "ba7376ec-f6c7-4f05-e51a-85214c3f1cad"
      },
      "source": [
        "prev_data['NAME_PORTFOLIO'].value_counts(sort=True)"
      ],
      "execution_count": null,
      "outputs": [
        {
          "output_type": "execute_result",
          "data": {
            "text/plain": [
              "POS      100418\n",
              "Cash      61361\n",
              "Cards     19921\n",
              "Cars         61\n",
              "Name: NAME_PORTFOLIO, dtype: int64"
            ]
          },
          "metadata": {
            "tags": []
          },
          "execution_count": 190
        }
      ]
    },
    {
      "cell_type": "code",
      "metadata": {
        "colab": {
          "base_uri": "https://localhost:8080/"
        },
        "id": "tDihcphUHLUN",
        "outputId": "db773153-4619-4a7d-ee59-50f0752cc4b0"
      },
      "source": [
        "(prev_data[prev_data['NAME_PORTFOLIO'].isna()]['SK_ID_PREV']==prev_data[prev_data['CNT_PAYMENT'].isna()]['SK_ID_PREV']).unique()"
      ],
      "execution_count": null,
      "outputs": [
        {
          "output_type": "execute_result",
          "data": {
            "text/plain": [
              "array([ True])"
            ]
          },
          "metadata": {
            "tags": []
          },
          "execution_count": 191
        }
      ]
    },
    {
      "cell_type": "code",
      "metadata": {
        "colab": {
          "base_uri": "https://localhost:8080/"
        },
        "id": "Ejbmhts9Jw77",
        "outputId": "c9cb0a18-f65e-40d4-a8f6-889ccd4a4ac9"
      },
      "source": [
        "prev_data.groupby(['NAME_CONTRACT_STATUS','NAME_CONTRACT_TYPE','CODE_REJECT_REASON'])['NAME_PORTFOLIO'].value_counts()"
      ],
      "execution_count": null,
      "outputs": [
        {
          "output_type": "execute_result",
          "data": {
            "text/plain": [
              "NAME_CONTRACT_STATUS  NAME_CONTRACT_TYPE  CODE_REJECT_REASON  NAME_PORTFOLIO\n",
              "Approved              Cash loans          XAP                 Cash              42017\n",
              "                      Consumer loans      XAP                 POS               90957\n",
              "                                                              Cars                 45\n",
              "                      Revolving loans     XAP                 Cards             13460\n",
              "Canceled              Cash loans          XAP                 Cash                878\n",
              "                      Consumer loans      XAP                 POS                  31\n",
              "                                                              Cars                  4\n",
              "                      Revolving loans     XAP                 Cards                61\n",
              "Refused               Cash loans          HC                  Cash              13044\n",
              "                                          LIMIT               Cash               2789\n",
              "                                          SCO                 Cash               1787\n",
              "                                          SCOFR               Cash                215\n",
              "                                          SYSTEM              Cash                  2\n",
              "                                          VERIF               Cash                369\n",
              "                      Consumer loans      HC                  POS                2619\n",
              "                                                              Cars                  1\n",
              "                                          LIMIT               POS                3682\n",
              "                                          SCO                 POS                2827\n",
              "                                          SCOFR               POS                  73\n",
              "                                          VERIF               POS                  48\n",
              "                                                              Cars                 11\n",
              "                      Revolving loans     HC                  Cards              4008\n",
              "                                          LIMIT               Cards               761\n",
              "                                          SCO                 Cards               383\n",
              "                                          SCOFR               Cards               935\n",
              "                                          SYSTEM              Cards               101\n",
              "                                          VERIF               Cards                21\n",
              "Unused offer          Consumer loans      CLIENT              POS                 138\n",
              "                      Revolving loans     CLIENT              Cards                 1\n",
              "Name: NAME_PORTFOLIO, dtype: int64"
            ]
          },
          "metadata": {
            "tags": []
          },
          "execution_count": 192
        }
      ]
    },
    {
      "cell_type": "markdown",
      "metadata": {
        "id": "JpFSbMH50eJQ"
      },
      "source": [
        "Note that \n",
        "\n",
        "'PRODUCT_COMBINATION' missing values rows also have NAME_CONTRACT_TYPE missing\n",
        "\n",
        "CNT_PAYMENT and NAME_PORTFOLIO' have same records missing"
      ]
    },
    {
      "cell_type": "code",
      "metadata": {
        "colab": {
          "base_uri": "https://localhost:8080/"
        },
        "id": "i9KKVSqg44ar",
        "outputId": "28d8fc66-1253-471a-e385-1d9f4f9eab4a"
      },
      "source": [
        "prev_data['CODE_REJECT_REASON'].value_counts()"
      ],
      "execution_count": null,
      "outputs": [
        {
          "output_type": "execute_result",
          "data": {
            "text/plain": [
              "XAP       188211\n",
              "HC         23596\n",
              "LIMIT       7892\n",
              "SCO         5225\n",
              "CLIENT      3776\n",
              "SCOFR       1742\n",
              "VERIF        456\n",
              "SYSTEM       112\n",
              "Name: CODE_REJECT_REASON, dtype: int64"
            ]
          },
          "metadata": {
            "tags": []
          },
          "execution_count": 193
        }
      ]
    },
    {
      "cell_type": "code",
      "metadata": {
        "id": "4bf82omZ3PLn"
      },
      "source": [
        "prev_data['CODE_REJECT_REASON'].fillna('XAP',inplace=True)\n"
      ],
      "execution_count": null,
      "outputs": []
    },
    {
      "cell_type": "code",
      "metadata": {
        "colab": {
          "base_uri": "https://localhost:8080/"
        },
        "id": "XzlNoRS06ZXB",
        "outputId": "afcfcdaa-8cc0-4c80-f714-99df945d55cb"
      },
      "source": [
        "prev_data['CODE_REJECT_REASON'].isna().sum()"
      ],
      "execution_count": null,
      "outputs": [
        {
          "output_type": "execute_result",
          "data": {
            "text/plain": [
              "0"
            ]
          },
          "metadata": {
            "tags": []
          },
          "execution_count": 195
        }
      ]
    },
    {
      "cell_type": "code",
      "metadata": {
        "colab": {
          "base_uri": "https://localhost:8080/"
        },
        "id": "KE9yXs3g3kPB",
        "outputId": "49b47713-fc2c-4c6c-e69c-be771fe5ffdf"
      },
      "source": [
        "prev_data[prev_data['CODE_REJECT_REASON']=='XAP'].groupby(['NAME_CONTRACT_STATUS','NAME_CONTRACT_TYPE'])['NAME_CLIENT_TYPE'].value_counts(sort=True)"
      ],
      "execution_count": null,
      "outputs": [
        {
          "output_type": "execute_result",
          "data": {
            "text/plain": [
              "NAME_CONTRACT_STATUS  NAME_CONTRACT_TYPE  NAME_CLIENT_TYPE\n",
              "Approved              Cash loans          Repeater            35582\n",
              "                                          Refreshed            4197\n",
              "                                          New                  2221\n",
              "                      Consumer loans      Repeater            45403\n",
              "                                          New                 37225\n",
              "                                          Refreshed            8326\n",
              "                      Revolving loans     Repeater            11107\n",
              "                                          Refreshed            1323\n",
              "                                          New                  1027\n",
              "Canceled              Cash loans          Repeater            32552\n",
              "                                          Refreshed            2218\n",
              "                                          New                   360\n",
              "                      Consumer loans      Repeater              191\n",
              "                                          Refreshed              16\n",
              "                                          New                     7\n",
              "                      Revolving loans     Repeater             5758\n",
              "                                          Refreshed             346\n",
              "                                          New                   109\n",
              "Refused               Cash loans          Repeater              293\n",
              "                                          Refreshed               8\n",
              "                                          New                     4\n",
              "                      Consumer loans      Repeater              178\n",
              "                                          New                    39\n",
              "                                          Refreshed              31\n",
              "                      Revolving loans     Repeater              181\n",
              "                                          Refreshed               9\n",
              "                                          New                     3\n",
              "Name: NAME_CLIENT_TYPE, dtype: int64"
            ]
          },
          "metadata": {
            "tags": []
          },
          "execution_count": 196
        }
      ]
    },
    {
      "cell_type": "code",
      "metadata": {
        "colab": {
          "base_uri": "https://localhost:8080/"
        },
        "id": "YaZ5ibfO5uiZ",
        "outputId": "e76059c7-f368-4025-f1e6-7c5c158d0fb0"
      },
      "source": [
        "prev_data['AMT_CREDIT'].isna().sum()"
      ],
      "execution_count": null,
      "outputs": [
        {
          "output_type": "execute_result",
          "data": {
            "text/plain": [
              "0"
            ]
          },
          "metadata": {
            "tags": []
          },
          "execution_count": 197
        }
      ]
    },
    {
      "cell_type": "code",
      "metadata": {
        "colab": {
          "base_uri": "https://localhost:8080/",
          "height": 69
        },
        "id": "MtFVjtXyVJpe",
        "outputId": "e457888f-7ee1-47a3-c5c1-99945899693a"
      },
      "source": [
        "prev_data[prev_data['AMT_CREDIT'].isna()]"
      ],
      "execution_count": null,
      "outputs": [
        {
          "output_type": "execute_result",
          "data": {
            "text/html": [
              "<div>\n",
              "<style scoped>\n",
              "    .dataframe tbody tr th:only-of-type {\n",
              "        vertical-align: middle;\n",
              "    }\n",
              "\n",
              "    .dataframe tbody tr th {\n",
              "        vertical-align: top;\n",
              "    }\n",
              "\n",
              "    .dataframe thead th {\n",
              "        text-align: right;\n",
              "    }\n",
              "</style>\n",
              "<table border=\"1\" class=\"dataframe\">\n",
              "  <thead>\n",
              "    <tr style=\"text-align: right;\">\n",
              "      <th></th>\n",
              "      <th>SK_ID_PREV</th>\n",
              "      <th>SK_ID_CURR</th>\n",
              "      <th>NAME_CONTRACT_TYPE</th>\n",
              "      <th>AMT_ANNUITY</th>\n",
              "      <th>AMT_APPLICATION</th>\n",
              "      <th>AMT_CREDIT</th>\n",
              "      <th>AMT_DOWN_PAYMENT</th>\n",
              "      <th>AMT_GOODS_PRICE</th>\n",
              "      <th>WEEKDAY_APPR_PROCESS_START</th>\n",
              "      <th>HOUR_APPR_PROCESS_START</th>\n",
              "      <th>FLAG_LAST_APPL_PER_CONTRACT</th>\n",
              "      <th>NFLAG_LAST_APPL_IN_DAY</th>\n",
              "      <th>RATE_DOWN_PAYMENT</th>\n",
              "      <th>RATE_INTEREST_PRIMARY</th>\n",
              "      <th>RATE_INTEREST_PRIVILEGED</th>\n",
              "      <th>NAME_CASH_LOAN_PURPOSE</th>\n",
              "      <th>NAME_CONTRACT_STATUS</th>\n",
              "      <th>DAYS_DECISION</th>\n",
              "      <th>NAME_PAYMENT_TYPE</th>\n",
              "      <th>CODE_REJECT_REASON</th>\n",
              "      <th>NAME_TYPE_SUITE</th>\n",
              "      <th>NAME_CLIENT_TYPE</th>\n",
              "      <th>NAME_GOODS_CATEGORY</th>\n",
              "      <th>NAME_PORTFOLIO</th>\n",
              "      <th>NAME_PRODUCT_TYPE</th>\n",
              "      <th>CHANNEL_TYPE</th>\n",
              "      <th>SELLERPLACE_AREA</th>\n",
              "      <th>NAME_SELLER_INDUSTRY</th>\n",
              "      <th>CNT_PAYMENT</th>\n",
              "      <th>NAME_YIELD_GROUP</th>\n",
              "      <th>PRODUCT_COMBINATION</th>\n",
              "      <th>DAYS_FIRST_DRAWING</th>\n",
              "      <th>DAYS_FIRST_DUE</th>\n",
              "      <th>DAYS_LAST_DUE_1ST_VERSION</th>\n",
              "      <th>DAYS_LAST_DUE</th>\n",
              "      <th>DAYS_TERMINATION</th>\n",
              "      <th>NFLAG_INSURED_ON_APPROVAL</th>\n",
              "    </tr>\n",
              "  </thead>\n",
              "  <tbody>\n",
              "  </tbody>\n",
              "</table>\n",
              "</div>"
            ],
            "text/plain": [
              "Empty DataFrame\n",
              "Columns: [SK_ID_PREV, SK_ID_CURR, NAME_CONTRACT_TYPE, AMT_ANNUITY, AMT_APPLICATION, AMT_CREDIT, AMT_DOWN_PAYMENT, AMT_GOODS_PRICE, WEEKDAY_APPR_PROCESS_START, HOUR_APPR_PROCESS_START, FLAG_LAST_APPL_PER_CONTRACT, NFLAG_LAST_APPL_IN_DAY, RATE_DOWN_PAYMENT, RATE_INTEREST_PRIMARY, RATE_INTEREST_PRIVILEGED, NAME_CASH_LOAN_PURPOSE, NAME_CONTRACT_STATUS, DAYS_DECISION, NAME_PAYMENT_TYPE, CODE_REJECT_REASON, NAME_TYPE_SUITE, NAME_CLIENT_TYPE, NAME_GOODS_CATEGORY, NAME_PORTFOLIO, NAME_PRODUCT_TYPE, CHANNEL_TYPE, SELLERPLACE_AREA, NAME_SELLER_INDUSTRY, CNT_PAYMENT, NAME_YIELD_GROUP, PRODUCT_COMBINATION, DAYS_FIRST_DRAWING, DAYS_FIRST_DUE, DAYS_LAST_DUE_1ST_VERSION, DAYS_LAST_DUE, DAYS_TERMINATION, NFLAG_INSURED_ON_APPROVAL]\n",
              "Index: []"
            ]
          },
          "metadata": {
            "tags": []
          },
          "execution_count": 198
        }
      ]
    },
    {
      "cell_type": "code",
      "metadata": {
        "colab": {
          "base_uri": "https://localhost:8080/",
          "height": 117
        },
        "id": "ndlEccrkWiYL",
        "outputId": "8ab53467-4c68-4a55-e3ba-9ef7f5e7423b"
      },
      "source": [
        "prev_data[(prev_data['SK_ID_CURR']==438387)& (prev_data['NAME_CONTRACT_TYPE']=='Revolving loans')]"
      ],
      "execution_count": null,
      "outputs": [
        {
          "output_type": "execute_result",
          "data": {
            "text/html": [
              "<div>\n",
              "<style scoped>\n",
              "    .dataframe tbody tr th:only-of-type {\n",
              "        vertical-align: middle;\n",
              "    }\n",
              "\n",
              "    .dataframe tbody tr th {\n",
              "        vertical-align: top;\n",
              "    }\n",
              "\n",
              "    .dataframe thead th {\n",
              "        text-align: right;\n",
              "    }\n",
              "</style>\n",
              "<table border=\"1\" class=\"dataframe\">\n",
              "  <thead>\n",
              "    <tr style=\"text-align: right;\">\n",
              "      <th></th>\n",
              "      <th>SK_ID_PREV</th>\n",
              "      <th>SK_ID_CURR</th>\n",
              "      <th>NAME_CONTRACT_TYPE</th>\n",
              "      <th>AMT_ANNUITY</th>\n",
              "      <th>AMT_APPLICATION</th>\n",
              "      <th>AMT_CREDIT</th>\n",
              "      <th>AMT_DOWN_PAYMENT</th>\n",
              "      <th>AMT_GOODS_PRICE</th>\n",
              "      <th>WEEKDAY_APPR_PROCESS_START</th>\n",
              "      <th>HOUR_APPR_PROCESS_START</th>\n",
              "      <th>FLAG_LAST_APPL_PER_CONTRACT</th>\n",
              "      <th>NFLAG_LAST_APPL_IN_DAY</th>\n",
              "      <th>RATE_DOWN_PAYMENT</th>\n",
              "      <th>RATE_INTEREST_PRIMARY</th>\n",
              "      <th>RATE_INTEREST_PRIVILEGED</th>\n",
              "      <th>NAME_CASH_LOAN_PURPOSE</th>\n",
              "      <th>NAME_CONTRACT_STATUS</th>\n",
              "      <th>DAYS_DECISION</th>\n",
              "      <th>NAME_PAYMENT_TYPE</th>\n",
              "      <th>CODE_REJECT_REASON</th>\n",
              "      <th>NAME_TYPE_SUITE</th>\n",
              "      <th>NAME_CLIENT_TYPE</th>\n",
              "      <th>NAME_GOODS_CATEGORY</th>\n",
              "      <th>NAME_PORTFOLIO</th>\n",
              "      <th>NAME_PRODUCT_TYPE</th>\n",
              "      <th>CHANNEL_TYPE</th>\n",
              "      <th>SELLERPLACE_AREA</th>\n",
              "      <th>NAME_SELLER_INDUSTRY</th>\n",
              "      <th>CNT_PAYMENT</th>\n",
              "      <th>NAME_YIELD_GROUP</th>\n",
              "      <th>PRODUCT_COMBINATION</th>\n",
              "      <th>DAYS_FIRST_DRAWING</th>\n",
              "      <th>DAYS_FIRST_DUE</th>\n",
              "      <th>DAYS_LAST_DUE_1ST_VERSION</th>\n",
              "      <th>DAYS_LAST_DUE</th>\n",
              "      <th>DAYS_TERMINATION</th>\n",
              "      <th>NFLAG_INSURED_ON_APPROVAL</th>\n",
              "    </tr>\n",
              "  </thead>\n",
              "  <tbody>\n",
              "    <tr>\n",
              "      <th>61881</th>\n",
              "      <td>2632871</td>\n",
              "      <td>438387</td>\n",
              "      <td>Revolving loans</td>\n",
              "      <td>11250.0</td>\n",
              "      <td>225000.0</td>\n",
              "      <td>225000.0</td>\n",
              "      <td>NaN</td>\n",
              "      <td>225000.0</td>\n",
              "      <td>FRIDAY</td>\n",
              "      <td>10.0</td>\n",
              "      <td>Y</td>\n",
              "      <td>1.0</td>\n",
              "      <td>NaN</td>\n",
              "      <td>NaN</td>\n",
              "      <td>NaN</td>\n",
              "      <td>XAP</td>\n",
              "      <td>Approved</td>\n",
              "      <td>608.0</td>\n",
              "      <td>NaN</td>\n",
              "      <td>XAP</td>\n",
              "      <td>NaN</td>\n",
              "      <td>Repeater</td>\n",
              "      <td>NaN</td>\n",
              "      <td>Cards</td>\n",
              "      <td>walk-in</td>\n",
              "      <td>AP+ (Cash loan)</td>\n",
              "      <td>4.0</td>\n",
              "      <td>NaN</td>\n",
              "      <td>0.0</td>\n",
              "      <td>NaN</td>\n",
              "      <td>Card Street</td>\n",
              "      <td>-482.0</td>\n",
              "      <td>-436.0</td>\n",
              "      <td>365243.0</td>\n",
              "      <td>365243.0</td>\n",
              "      <td>365243.0</td>\n",
              "      <td>0.0</td>\n",
              "    </tr>\n",
              "  </tbody>\n",
              "</table>\n",
              "</div>"
            ],
            "text/plain": [
              "       SK_ID_PREV  SK_ID_CURR  ... DAYS_TERMINATION  NFLAG_INSURED_ON_APPROVAL\n",
              "61881     2632871      438387  ...         365243.0                        0.0\n",
              "\n",
              "[1 rows x 37 columns]"
            ]
          },
          "metadata": {
            "tags": []
          },
          "execution_count": 199
        }
      ]
    },
    {
      "cell_type": "code",
      "metadata": {
        "id": "JaSTDWWxhV4R"
      },
      "source": [
        "prev_data.dropna(subset=['AMT_CREDIT'],inplace=True)"
      ],
      "execution_count": null,
      "outputs": []
    },
    {
      "cell_type": "code",
      "metadata": {
        "colab": {
          "base_uri": "https://localhost:8080/",
          "height": 69
        },
        "id": "2QljOOXNiFah",
        "outputId": "2d570fd9-4d25-4e00-b074-aadb60a7bfbc"
      },
      "source": [
        "prev_data[prev_data['AMT_CREDIT'].isna()]"
      ],
      "execution_count": null,
      "outputs": [
        {
          "output_type": "execute_result",
          "data": {
            "text/html": [
              "<div>\n",
              "<style scoped>\n",
              "    .dataframe tbody tr th:only-of-type {\n",
              "        vertical-align: middle;\n",
              "    }\n",
              "\n",
              "    .dataframe tbody tr th {\n",
              "        vertical-align: top;\n",
              "    }\n",
              "\n",
              "    .dataframe thead th {\n",
              "        text-align: right;\n",
              "    }\n",
              "</style>\n",
              "<table border=\"1\" class=\"dataframe\">\n",
              "  <thead>\n",
              "    <tr style=\"text-align: right;\">\n",
              "      <th></th>\n",
              "      <th>SK_ID_PREV</th>\n",
              "      <th>SK_ID_CURR</th>\n",
              "      <th>NAME_CONTRACT_TYPE</th>\n",
              "      <th>AMT_ANNUITY</th>\n",
              "      <th>AMT_APPLICATION</th>\n",
              "      <th>AMT_CREDIT</th>\n",
              "      <th>AMT_DOWN_PAYMENT</th>\n",
              "      <th>AMT_GOODS_PRICE</th>\n",
              "      <th>WEEKDAY_APPR_PROCESS_START</th>\n",
              "      <th>HOUR_APPR_PROCESS_START</th>\n",
              "      <th>FLAG_LAST_APPL_PER_CONTRACT</th>\n",
              "      <th>NFLAG_LAST_APPL_IN_DAY</th>\n",
              "      <th>RATE_DOWN_PAYMENT</th>\n",
              "      <th>RATE_INTEREST_PRIMARY</th>\n",
              "      <th>RATE_INTEREST_PRIVILEGED</th>\n",
              "      <th>NAME_CASH_LOAN_PURPOSE</th>\n",
              "      <th>NAME_CONTRACT_STATUS</th>\n",
              "      <th>DAYS_DECISION</th>\n",
              "      <th>NAME_PAYMENT_TYPE</th>\n",
              "      <th>CODE_REJECT_REASON</th>\n",
              "      <th>NAME_TYPE_SUITE</th>\n",
              "      <th>NAME_CLIENT_TYPE</th>\n",
              "      <th>NAME_GOODS_CATEGORY</th>\n",
              "      <th>NAME_PORTFOLIO</th>\n",
              "      <th>NAME_PRODUCT_TYPE</th>\n",
              "      <th>CHANNEL_TYPE</th>\n",
              "      <th>SELLERPLACE_AREA</th>\n",
              "      <th>NAME_SELLER_INDUSTRY</th>\n",
              "      <th>CNT_PAYMENT</th>\n",
              "      <th>NAME_YIELD_GROUP</th>\n",
              "      <th>PRODUCT_COMBINATION</th>\n",
              "      <th>DAYS_FIRST_DRAWING</th>\n",
              "      <th>DAYS_FIRST_DUE</th>\n",
              "      <th>DAYS_LAST_DUE_1ST_VERSION</th>\n",
              "      <th>DAYS_LAST_DUE</th>\n",
              "      <th>DAYS_TERMINATION</th>\n",
              "      <th>NFLAG_INSURED_ON_APPROVAL</th>\n",
              "    </tr>\n",
              "  </thead>\n",
              "  <tbody>\n",
              "  </tbody>\n",
              "</table>\n",
              "</div>"
            ],
            "text/plain": [
              "Empty DataFrame\n",
              "Columns: [SK_ID_PREV, SK_ID_CURR, NAME_CONTRACT_TYPE, AMT_ANNUITY, AMT_APPLICATION, AMT_CREDIT, AMT_DOWN_PAYMENT, AMT_GOODS_PRICE, WEEKDAY_APPR_PROCESS_START, HOUR_APPR_PROCESS_START, FLAG_LAST_APPL_PER_CONTRACT, NFLAG_LAST_APPL_IN_DAY, RATE_DOWN_PAYMENT, RATE_INTEREST_PRIMARY, RATE_INTEREST_PRIVILEGED, NAME_CASH_LOAN_PURPOSE, NAME_CONTRACT_STATUS, DAYS_DECISION, NAME_PAYMENT_TYPE, CODE_REJECT_REASON, NAME_TYPE_SUITE, NAME_CLIENT_TYPE, NAME_GOODS_CATEGORY, NAME_PORTFOLIO, NAME_PRODUCT_TYPE, CHANNEL_TYPE, SELLERPLACE_AREA, NAME_SELLER_INDUSTRY, CNT_PAYMENT, NAME_YIELD_GROUP, PRODUCT_COMBINATION, DAYS_FIRST_DRAWING, DAYS_FIRST_DUE, DAYS_LAST_DUE_1ST_VERSION, DAYS_LAST_DUE, DAYS_TERMINATION, NFLAG_INSURED_ON_APPROVAL]\n",
              "Index: []"
            ]
          },
          "metadata": {
            "tags": []
          },
          "execution_count": 201
        }
      ]
    },
    {
      "cell_type": "code",
      "metadata": {
        "colab": {
          "base_uri": "https://localhost:8080/"
        },
        "id": "FvwzMN7By1um",
        "outputId": "0df121fc-d46d-4f95-c100-93e1611b7839"
      },
      "source": [
        "prev_data['NAME_CONTRACT_TYPE'].isna().sum()"
      ],
      "execution_count": null,
      "outputs": [
        {
          "output_type": "execute_result",
          "data": {
            "text/plain": [
              "45"
            ]
          },
          "metadata": {
            "tags": []
          },
          "execution_count": 202
        }
      ]
    },
    {
      "cell_type": "code",
      "metadata": {
        "colab": {
          "base_uri": "https://localhost:8080/"
        },
        "id": "2TgHccVMjLyd",
        "outputId": "6911fe9a-d4e4-4900-d442-43a2e51e73e4"
      },
      "source": [
        "prev_data.groupby(['NAME_CONTRACT_STATUS','NAME_CONTRACT_TYPE'])['PRODUCT_COMBINATION'].value_counts()"
      ],
      "execution_count": null,
      "outputs": [
        {
          "output_type": "execute_result",
          "data": {
            "text/plain": [
              "NAME_CONTRACT_STATUS  NAME_CONTRACT_TYPE  PRODUCT_COMBINATION           \n",
              "Approved              Cash loans          Cash X-Sell: middle               15493\n",
              "                                          Cash X-Sell: low                  11264\n",
              "                                          Cash X-Sell: high                  6299\n",
              "                                          Cash Street: high                  5296\n",
              "                                          Cash Street: middle                2355\n",
              "                                          Cash Street: low                   1310\n",
              "                      Consumer loans      POS household with interest       33905\n",
              "                                          POS mobile with interest          25281\n",
              "                                          POS industry with interest        13083\n",
              "                                          POS household without interest    10636\n",
              "                                          POS mobile without interest        3093\n",
              "                                          POS other with interest            2989\n",
              "                                          POS industry without interest      1653\n",
              "                                          POS others without interest         364\n",
              "                      Revolving loans     Card X-Sell                        7994\n",
              "                                          Card Street                        5466\n",
              "Canceled              Cash loans          Cash                              34375\n",
              "                                          Cash X-Sell: low                    396\n",
              "                                          Cash X-Sell: middle                 230\n",
              "                                          Cash Street: low                    124\n",
              "                                          Cash Street: middle                  59\n",
              "                                          Cash X-Sell: high                    57\n",
              "                                          Cash Street: high                    12\n",
              "                      Consumer loans      POS other with interest             116\n",
              "                                          POS mobile with interest             56\n",
              "                                          POS household with interest          30\n",
              "                                          POS industry with interest           10\n",
              "                                          POS household without interest        2\n",
              "                      Revolving loans     Card Street                        6206\n",
              "                                          Card X-Sell                          19\n",
              "Refused               Cash loans          Cash X-Sell: low                   5393\n",
              "                                          Cash                               3619\n",
              "                                          Cash X-Sell: middle                3332\n",
              "                                          Cash Street: low                   3220\n",
              "                                          Cash Street: high                  2719\n",
              "                                          Cash Street: middle                2269\n",
              "                                          Cash X-Sell: high                  1533\n",
              "                      Consumer loans      POS household with interest        3984\n",
              "                                          POS mobile with interest           3475\n",
              "                                          POS household without interest     1470\n",
              "                                          POS industry with interest         1228\n",
              "                                          POS other with interest             328\n",
              "                                          POS mobile without interest         203\n",
              "                                          POS industry without interest       151\n",
              "                                          POS others without interest          29\n",
              "                      Revolving loans     Card Street                        3861\n",
              "                                          Card X-Sell                        2950\n",
              "Unused offer          Cash loans          Cash                                 70\n",
              "                      Consumer loans      POS mobile with interest           3026\n",
              "                                          POS household with interest         509\n",
              "                                          POS mobile without interest         100\n",
              "                                          POS industry with interest           63\n",
              "                                          POS other with interest               7\n",
              "                      Revolving loans     Card Street                           1\n",
              "Name: PRODUCT_COMBINATION, dtype: int64"
            ]
          },
          "metadata": {
            "tags": []
          },
          "execution_count": 203
        }
      ]
    },
    {
      "cell_type": "code",
      "metadata": {
        "colab": {
          "base_uri": "https://localhost:8080/"
        },
        "id": "fiL_hMz1nzzX",
        "outputId": "49b51ee6-e987-49fc-e9ea-70aa6822bbb7"
      },
      "source": [
        "prev_data[prev_data['PRODUCT_COMBINATION'].isna()].groupby('NAME_CONTRACT_STATUS')['NAME_CLIENT_TYPE'].value_counts()"
      ],
      "execution_count": null,
      "outputs": [
        {
          "output_type": "execute_result",
          "data": {
            "text/plain": [
              "NAME_CONTRACT_STATUS  NAME_CLIENT_TYPE\n",
              "Canceled              Repeater            33\n",
              "                      Refreshed            4\n",
              "                      New                  3\n",
              "Refused               Repeater             5\n",
              "Name: NAME_CLIENT_TYPE, dtype: int64"
            ]
          },
          "metadata": {
            "tags": []
          },
          "execution_count": 204
        }
      ]
    },
    {
      "cell_type": "code",
      "metadata": {
        "id": "2m9G6Dl6VkMF"
      },
      "source": [
        ""
      ],
      "execution_count": null,
      "outputs": []
    },
    {
      "cell_type": "markdown",
      "metadata": {
        "id": "DnTcN9c3Wg19"
      },
      "source": [
        "**Outliers and data imbalance**  "
      ]
    },
    {
      "cell_type": "code",
      "metadata": {
        "colab": {
          "base_uri": "https://localhost:8080/"
        },
        "id": "2YR4Y3YpZ3br",
        "outputId": "93a4d7ed-9b95-4f13-c248-b01673baabd9"
      },
      "source": [
        "app_data.info()"
      ],
      "execution_count": null,
      "outputs": [
        {
          "output_type": "stream",
          "text": [
            "<class 'pandas.core.frame.DataFrame'>\n",
            "RangeIndex: 104757 entries, 0 to 104756\n",
            "Columns: 122 entries, SK_ID_CURR to AMT_REQ_CREDIT_BUREAU_YEAR\n",
            "dtypes: float64(97), int64(9), object(16)\n",
            "memory usage: 97.5+ MB\n"
          ],
          "name": "stdout"
        }
      ]
    },
    {
      "cell_type": "markdown",
      "metadata": {
        "id": "jeEuRdGbaWht"
      },
      "source": [
        "Numerical columns and categorical columns seperation "
      ]
    },
    {
      "cell_type": "code",
      "metadata": {
        "colab": {
          "base_uri": "https://localhost:8080/"
        },
        "id": "VmxZ0nHwaVmR",
        "outputId": "23ff2056-a657-4989-b536-859c8cf590b0"
      },
      "source": [
        "#checking float type columns\n",
        "app_data.select_dtypes(include='float64').columns"
      ],
      "execution_count": null,
      "outputs": [
        {
          "output_type": "execute_result",
          "data": {
            "text/plain": [
              "Index(['AMT_INCOME_TOTAL', 'AMT_CREDIT', 'AMT_ANNUITY', 'AMT_GOODS_PRICE',\n",
              "       'REGION_POPULATION_RELATIVE', 'DAYS_REGISTRATION', 'OWN_CAR_AGE',\n",
              "       'FLAG_CONT_MOBILE', 'FLAG_PHONE', 'FLAG_EMAIL', 'CNT_FAM_MEMBERS',\n",
              "       'REGION_RATING_CLIENT', 'REGION_RATING_CLIENT_W_CITY',\n",
              "       'HOUR_APPR_PROCESS_START', 'REG_REGION_NOT_LIVE_REGION',\n",
              "       'REG_REGION_NOT_WORK_REGION', 'LIVE_REGION_NOT_WORK_REGION',\n",
              "       'REG_CITY_NOT_LIVE_CITY', 'REG_CITY_NOT_WORK_CITY',\n",
              "       'LIVE_CITY_NOT_WORK_CITY', 'EXT_SOURCE_1', 'EXT_SOURCE_2',\n",
              "       'EXT_SOURCE_3', 'APARTMENTS_AVG', 'BASEMENTAREA_AVG',\n",
              "       'YEARS_BEGINEXPLUATATION_AVG', 'YEARS_BUILD_AVG', 'COMMONAREA_AVG',\n",
              "       'ELEVATORS_AVG', 'ENTRANCES_AVG', 'FLOORSMAX_AVG', 'FLOORSMIN_AVG',\n",
              "       'LANDAREA_AVG', 'LIVINGAPARTMENTS_AVG', 'LIVINGAREA_AVG',\n",
              "       'NONLIVINGAPARTMENTS_AVG', 'NONLIVINGAREA_AVG', 'APARTMENTS_MODE',\n",
              "       'BASEMENTAREA_MODE', 'YEARS_BEGINEXPLUATATION_MODE', 'YEARS_BUILD_MODE',\n",
              "       'COMMONAREA_MODE', 'ELEVATORS_MODE', 'ENTRANCES_MODE', 'FLOORSMAX_MODE',\n",
              "       'FLOORSMIN_MODE', 'LANDAREA_MODE', 'LIVINGAPARTMENTS_MODE',\n",
              "       'LIVINGAREA_MODE', 'NONLIVINGAPARTMENTS_MODE', 'NONLIVINGAREA_MODE',\n",
              "       'APARTMENTS_MEDI', 'BASEMENTAREA_MEDI', 'YEARS_BEGINEXPLUATATION_MEDI',\n",
              "       'YEARS_BUILD_MEDI', 'COMMONAREA_MEDI', 'ELEVATORS_MEDI',\n",
              "       'ENTRANCES_MEDI', 'FLOORSMAX_MEDI', 'FLOORSMIN_MEDI', 'LANDAREA_MEDI',\n",
              "       'LIVINGAPARTMENTS_MEDI', 'LIVINGAREA_MEDI', 'NONLIVINGAPARTMENTS_MEDI',\n",
              "       'NONLIVINGAREA_MEDI', 'TOTALAREA_MODE', 'OBS_30_CNT_SOCIAL_CIRCLE',\n",
              "       'DEF_30_CNT_SOCIAL_CIRCLE', 'OBS_60_CNT_SOCIAL_CIRCLE',\n",
              "       'DEF_60_CNT_SOCIAL_CIRCLE', 'DAYS_LAST_PHONE_CHANGE', 'FLAG_DOCUMENT_2',\n",
              "       'FLAG_DOCUMENT_3', 'FLAG_DOCUMENT_4', 'FLAG_DOCUMENT_5',\n",
              "       'FLAG_DOCUMENT_6', 'FLAG_DOCUMENT_7', 'FLAG_DOCUMENT_8',\n",
              "       'FLAG_DOCUMENT_9', 'FLAG_DOCUMENT_10', 'FLAG_DOCUMENT_11',\n",
              "       'FLAG_DOCUMENT_12', 'FLAG_DOCUMENT_13', 'FLAG_DOCUMENT_14',\n",
              "       'FLAG_DOCUMENT_15', 'FLAG_DOCUMENT_16', 'FLAG_DOCUMENT_17',\n",
              "       'FLAG_DOCUMENT_18', 'FLAG_DOCUMENT_19', 'FLAG_DOCUMENT_20',\n",
              "       'FLAG_DOCUMENT_21', 'AMT_REQ_CREDIT_BUREAU_HOUR',\n",
              "       'AMT_REQ_CREDIT_BUREAU_DAY', 'AMT_REQ_CREDIT_BUREAU_WEEK',\n",
              "       'AMT_REQ_CREDIT_BUREAU_MON', 'AMT_REQ_CREDIT_BUREAU_QRT',\n",
              "       'AMT_REQ_CREDIT_BUREAU_YEAR'],\n",
              "      dtype='object')"
            ]
          },
          "metadata": {
            "tags": []
          },
          "execution_count": 206
        }
      ]
    },
    {
      "cell_type": "code",
      "metadata": {
        "id": "h-vk5_yqbuOo"
      },
      "source": [
        "#converting few counts to int like count columns and days \n",
        "ColumnToConvert = ['OBS_30_CNT_SOCIAL_CIRCLE', 'DEF_30_CNT_SOCIAL_CIRCLE', 'OBS_60_CNT_SOCIAL_CIRCLE',\n",
        "                   'DEF_60_CNT_SOCIAL_CIRCLE', 'DAYS_LAST_PHONE_CHANGE', 'AMT_REQ_CREDIT_BUREAU_HOUR',\n",
        "                   'AMT_REQ_CREDIT_BUREAU_DAY', 'AMT_REQ_CREDIT_BUREAU_WEEK', 'AMT_REQ_CREDIT_BUREAU_MON',\n",
        "                   'AMT_REQ_CREDIT_BUREAU_QRT', 'AMT_REQ_CREDIT_BUREAU_YEAR']\n",
        "app_data.loc[:,ColumnToConvert]=app_data.loc[:,ColumnToConvert].apply(lambda col: col.astype('int',errors='ignore'))"
      ],
      "execution_count": null,
      "outputs": []
    },
    {
      "cell_type": "code",
      "metadata": {
        "colab": {
          "base_uri": "https://localhost:8080/"
        },
        "id": "-lOkrQ2FfDZv",
        "outputId": "fd3cddb4-e70b-4f4c-e90d-8810ea2b633c"
      },
      "source": [
        "#Checking the object type columns\n",
        "obj_col = list(app_data.select_dtypes(include='object').columns)\n",
        "num_col = list(app_data.select_dtypes(exclude='object').columns)\n",
        "len(num_col)"
      ],
      "execution_count": null,
      "outputs": [
        {
          "output_type": "execute_result",
          "data": {
            "text/plain": [
              "106"
            ]
          },
          "metadata": {
            "tags": []
          },
          "execution_count": 208
        }
      ]
    },
    {
      "cell_type": "code",
      "metadata": {
        "colab": {
          "base_uri": "https://localhost:8080/",
          "height": 249
        },
        "id": "CNvQWpisty-Y",
        "outputId": "eb28dacd-53dd-446f-f890-30246296655f"
      },
      "source": [
        "out_col=['AMT_ANNUITY', 'AMT_INCOME_TOTAL', 'AMT_CREDIT', 'AMT_GOODS_PRICE','DAYS_EMPLOYED','DAYS_REGISTRATION','DAYS_ID_PUBLISH','CNT_CHILDREN']\n",
        "plt.figure(figsize=(22,10))\n",
        "for i in enumerate(out_col):\n",
        "    plt.subplot(5,5,i[0]+1)\n",
        "    sns.boxplot(y=app_data[i[1]])\n",
        "    plt.title(i[1])\n",
        "    plt.ylabel(\"\")"
      ],
      "execution_count": null,
      "outputs": [
        {
          "output_type": "display_data",
          "data": {
            "image/png": "[encoded data removed]",
            "text/plain": [
              "<Figure size 1584x720 with 8 Axes>"
            ]
          },
          "metadata": {
            "tags": [],
            "needs_background": "light"
          }
        }
      ]
    },
    {
      "cell_type": "markdown",
      "metadata": {
        "id": "H-O7AbAIrR-z"
      },
      "source": [
        "*  AMT_INCOME_TOTAL has huge number of outliers which indicate that few of the loan applicants have high income when compared to the others \n",
        "* DAYS_ID_PUBLISH has no outliers\n",
        "\n"
      ]
    },
    {
      "cell_type": "markdown",
      "metadata": {
        "id": "kD_spA6ngMVJ"
      },
      "source": [
        "Binning days and possible numerical columns to category.\n",
        "Data binning groups  numerical data into bins to understand trends and missing value replacement\n",
        "\n",
        "The pandas documentation describes **qcut** as a “Quantile-based discretization function.” This basically means that qcut tries to divide up the underlying data into equal sized bins. The function defines the bins using percentiles based on the distribution of the data, not the actual numeric edges of the bins.The simplest use of qcut is to define the number of quantiles and let pandas figure out how to divide up the data.precision to define how many decimal points to use for calculating the bin precision\n",
        "If you want to define your own numeric bin ranges, then use **cut**"
      ]
    },
    {
      "cell_type": "code",
      "metadata": {
        "colab": {
          "base_uri": "https://localhost:8080/"
        },
        "id": "6C7faqW2gLfX",
        "outputId": "48ae29df-1829-4118-c0e7-dee9d67860ec"
      },
      "source": [
        "app_data['AMT_INCOME_TOTAL'].describe()"
      ],
      "execution_count": null,
      "outputs": [
        {
          "output_type": "execute_result",
          "data": {
            "text/plain": [
              "count    1.047570e+05\n",
              "mean     1.694783e+05\n",
              "std      3.756602e+05\n",
              "min      2.565000e+04\n",
              "25%      1.125000e+05\n",
              "50%      1.440000e+05\n",
              "75%      2.025000e+05\n",
              "max      1.170000e+08\n",
              "Name: AMT_INCOME_TOTAL, dtype: float64"
            ]
          },
          "metadata": {
            "tags": []
          },
          "execution_count": 210
        }
      ]
    },
    {
      "cell_type": "code",
      "metadata": {
        "colab": {
          "base_uri": "https://localhost:8080/"
        },
        "id": "kUf2hlJ0hpuV",
        "outputId": "6fc54a12-0bd9-4f5d-db97-e2dc4c1ab4ef"
      },
      "source": [
        "app_data['AMT_INCOME_TOTAL'].quantile([0,0.2,0.3,0.7,0.92,1])"
      ],
      "execution_count": null,
      "outputs": [
        {
          "output_type": "execute_result",
          "data": {
            "text/plain": [
              "0.00        25650.0\n",
              "0.20        99000.0\n",
              "0.30       112500.0\n",
              "0.70       180000.0\n",
              "0.92       292500.0\n",
              "1.00    117000000.0\n",
              "Name: AMT_INCOME_TOTAL, dtype: float64"
            ]
          },
          "metadata": {
            "tags": []
          },
          "execution_count": 211
        }
      ]
    },
    {
      "cell_type": "markdown",
      "metadata": {
        "id": "v6WVx2yI6DPP"
      },
      "source": [
        "More than 50% loan applicants have income amount in the range of 100K-200K. Almost 92% loan applicants have income less than 300K.Almost 20% has less than 100K"
      ]
    },
    {
      "cell_type": "code",
      "metadata": {
        "colab": {
          "base_uri": "https://localhost:8080/"
        },
        "id": "LJO_6rurjZu0",
        "outputId": "bdb8266a-1b53-4734-cf8a-c78e0bd34a43"
      },
      "source": [
        "pd.qcut(app_data['AMT_INCOME_TOTAL'],q=5,precision=0).value_counts(sort=True)\n"
      ],
      "execution_count": null,
      "outputs": [
        {
          "output_type": "execute_result",
          "data": {
            "text/plain": [
              "(99000.0, 135000.0]        29283\n",
              "(162000.0, 225000.0]       25596\n",
              "(25649.0, 99000.0]         21754\n",
              "(225000.0, 117000000.0]    16089\n",
              "(135000.0, 162000.0]       12035\n",
              "Name: AMT_INCOME_TOTAL, dtype: int64"
            ]
          },
          "metadata": {
            "tags": []
          },
          "execution_count": 212
        }
      ]
    },
    {
      "cell_type": "code",
      "metadata": {
        "id": "KE9mf9oZlqcx"
      },
      "source": [
        "bin_labels=['VeryLow','Low','Medium','High','VeryHigh']\n",
        "app_data['INCOME_GROUP']=pd.qcut(app_data['AMT_INCOME_TOTAL'],\n",
        "                                       q=[0,0.2,0.3,0.7,0.92,1],\n",
        "                                       labels=['VeryLow','Low','Medium','High','VeryHigh'])"
      ],
      "execution_count": null,
      "outputs": []
    },
    {
      "cell_type": "code",
      "metadata": {
        "colab": {
          "base_uri": "https://localhost:8080/"
        },
        "id": "c78bqOFC3wcr",
        "outputId": "201ed00f-ab4a-4dc1-e902-724bb80751fa"
      },
      "source": [
        "app_data['INCOME_GROUP'].value_counts(normalize=True)*100"
      ],
      "execution_count": null,
      "outputs": [
        {
          "output_type": "execute_result",
          "data": {
            "text/plain": [
              "Medium      37.413252\n",
              "High        22.352683\n",
              "VeryLow     20.766154\n",
              "Low         11.958151\n",
              "VeryHigh     7.509761\n",
              "Name: INCOME_GROUP, dtype: float64"
            ]
          },
          "metadata": {
            "tags": []
          },
          "execution_count": 214
        }
      ]
    },
    {
      "cell_type": "code",
      "metadata": {
        "colab": {
          "base_uri": "https://localhost:8080/"
        },
        "id": "oVCzepgrhyyh",
        "outputId": "ee62071e-92b3-4aad-dda2-cc580404459b"
      },
      "source": [
        "#new column to simplify the analysis with features that have correlation\n",
        "app_data['CREDIT_INCOME_RATIO']=round((app_data['AMT_CREDIT']/app_data['AMT_INCOME_TOTAL']))\n",
        "app_data['CREDIT_INCOME_RATIO'].describe()"
      ],
      "execution_count": null,
      "outputs": [
        {
          "output_type": "execute_result",
          "data": {
            "text/plain": [
              "count    104757.000000\n",
              "mean          3.956872\n",
              "std           2.704133\n",
              "min           0.000000\n",
              "25%           2.000000\n",
              "50%           3.000000\n",
              "75%           5.000000\n",
              "max          85.000000\n",
              "Name: CREDIT_INCOME_RATIO, dtype: float64"
            ]
          },
          "metadata": {
            "tags": []
          },
          "execution_count": 215
        }
      ]
    },
    {
      "cell_type": "markdown",
      "metadata": {
        "id": "2SFUSBUy7Mm2"
      },
      "source": [
        "8% of applicants have very high income range i.e above 300K "
      ]
    },
    {
      "cell_type": "code",
      "metadata": {
        "id": "_MBXMYtY7nRM"
      },
      "source": [
        "#Binning amout credit \n",
        "app_data['AMT_CREDIT']=app_data['AMT_CREDIT']/100000\n",
        "\n",
        "b = [0,1,2,3,4,5,6,7,8,9,10,100]\n",
        "bin_lab = ['0-100K','100K-200K', '200k-300k','300k-400k','400k-500k','500k-600k','600k-700k','700k-800k',\n",
        "       '800k-900k','900k-1M', '1M Above']\n",
        "\n",
        "app_data['AMT_CREDIT_RANGE']=pd.cut(app_data['AMT_CREDIT'],bins=b,labels=bin_lab)"
      ],
      "execution_count": null,
      "outputs": []
    },
    {
      "cell_type": "code",
      "metadata": {
        "colab": {
          "base_uri": "https://localhost:8080/"
        },
        "id": "vJqFhyhj8MV1",
        "outputId": "85ab5214-2dbe-417f-9791-ebf577018cc5"
      },
      "source": [
        "#checking the binning of data and % of data in each category\n",
        "app_data['AMT_CREDIT_RANGE'].value_counts(normalize=True)*100"
      ],
      "execution_count": null,
      "outputs": [
        {
          "output_type": "execute_result",
          "data": {
            "text/plain": [
              "200k-300k    17.813607\n",
              "1M Above     16.278626\n",
              "500k-600k    11.065609\n",
              "400k-500k    10.405987\n",
              "100K-200K     9.884781\n",
              "300k-400k     8.527354\n",
              "600k-700k     7.883960\n",
              "800k-900k     7.062058\n",
              "700k-800k     6.180971\n",
              "900k-1M       2.938228\n",
              "0-100K        1.958819\n",
              "Name: AMT_CREDIT_RANGE, dtype: float64"
            ]
          },
          "metadata": {
            "tags": []
          },
          "execution_count": 217
        }
      ]
    },
    {
      "cell_type": "code",
      "metadata": {
        "id": "dW5JUNQUiMDW"
      },
      "source": [
        "### Getting the percentage of social circle who defaulted\n",
        "app_data['SOCIAL_CIRCLE_30_DAYS_DEF_PERC']=app_data['DEF_30_CNT_SOCIAL_CIRCLE']/app_data['OBS_30_CNT_SOCIAL_CIRCLE']\n",
        "app_data['SOCIAL_CIRCLE_60_DAYS_DEF_PERC']=app_data['DEF_60_CNT_SOCIAL_CIRCLE']/app_data['OBS_60_CNT_SOCIAL_CIRCLE']"
      ],
      "execution_count": null,
      "outputs": []
    },
    {
      "cell_type": "markdown",
      "metadata": {
        "id": "momoY89a8avF"
      },
      "source": [
        "Note:  More Than 16% loan applicants have taken loan which amounts to more than 1M. and most applications in range 200-300k"
      ]
    },
    {
      "cell_type": "code",
      "metadata": {
        "colab": {
          "base_uri": "https://localhost:8080/"
        },
        "id": "6byqB_lImO99",
        "outputId": "578117eb-80cd-4e94-b5ef-2f07698b1a91"
      },
      "source": [
        "app_data['AGE']=app_data['DAYS_BIRTH']//365.25\n",
        "app_data['AGE'].describe()"
      ],
      "execution_count": null,
      "outputs": [
        {
          "output_type": "execute_result",
          "data": {
            "text/plain": [
              "count    104757.000000\n",
              "mean         43.373216\n",
              "std          11.959124\n",
              "min          21.000000\n",
              "25%          33.000000\n",
              "50%          43.000000\n",
              "75%          53.000000\n",
              "max          68.000000\n",
              "Name: AGE, dtype: float64"
            ]
          },
          "metadata": {
            "tags": []
          },
          "execution_count": 219
        }
      ]
    },
    {
      "cell_type": "code",
      "metadata": {
        "colab": {
          "base_uri": "https://localhost:8080/"
        },
        "id": "so7L4w7qmDb4",
        "outputId": "8816216d-83c7-4d8c-be11-2ffd17457f4a"
      },
      "source": [
        "#Binning DAYS_BIRTH\n",
        "app_data['AGE'].quantile([0,0.17,0.25,0.43,0.68,1])"
      ],
      "execution_count": null,
      "outputs": [
        {
          "output_type": "execute_result",
          "data": {
            "text/plain": [
              "0.00    21.0\n",
              "0.17    30.0\n",
              "0.25    33.0\n",
              "0.43    40.0\n",
              "0.68    50.0\n",
              "1.00    68.0\n",
              "Name: AGE, dtype: float64"
            ]
          },
          "metadata": {
            "tags": []
          },
          "execution_count": 220
        }
      ]
    },
    {
      "cell_type": "markdown",
      "metadata": {
        "id": "EJuVEFPn9S-h"
      },
      "source": [
        "Note: \n",
        "Applicants age range(20-69)\n",
        "32% loan applicants have age above 50 years. More than 57% of loan applicants have age over 40 years"
      ]
    },
    {
      "cell_type": "code",
      "metadata": {
        "id": "WDaJ19yxmqUZ"
      },
      "source": [
        "cut_labels_age = ['20-', '20+','25+', '30+','35+', '40+','45+','50+','55+']\n",
        "app_data['AGE_GROUP']=pd.cut(app_data['AGE'],bins=[0,20,25,30,35,40,45,50,55,100],labels=cut_labels_age)"
      ],
      "execution_count": null,
      "outputs": []
    },
    {
      "cell_type": "code",
      "metadata": {
        "colab": {
          "base_uri": "https://localhost:8080/"
        },
        "id": "XFGYwgKr82GO",
        "outputId": "8405d31c-6062-4db4-f094-98be1ddaf970"
      },
      "source": [
        "#checking the binning of data and % of data in each category\n",
        "app_data['AGE_GROUP'].value_counts(normalize=True)*100"
      ],
      "execution_count": null,
      "outputs": [
        {
          "output_type": "execute_result",
          "data": {
            "text/plain": [
              "55+    20.087440\n",
              "35+    14.124116\n",
              "40+    12.991972\n",
              "30+    12.903195\n",
              "25+    11.911376\n",
              "50+    11.388260\n",
              "45+    11.196388\n",
              "20+     5.397253\n",
              "20-     0.000000\n",
              "Name: AGE_GROUP, dtype: float64"
            ]
          },
          "metadata": {
            "tags": []
          },
          "execution_count": 222
        }
      ]
    },
    {
      "cell_type": "code",
      "metadata": {
        "colab": {
          "base_uri": "https://localhost:8080/",
          "height": 445
        },
        "id": "urqnpvf7qDLi",
        "outputId": "be3d3a12-cd70-4a23-bab9-0691ed2e50a9"
      },
      "source": [
        "plt.figure(figsize=(6,7))\n",
        "sns.boxplot(y=app_data['CNT_CHILDREN'],hue=app_data['NAME_FAMILY_STATUS'],x=app_data['AGE_GROUP'])\n",
        "plt.show()"
      ],
      "execution_count": null,
      "outputs": [
        {
          "output_type": "display_data",
          "data": {
            "image/png": "[encoded data removed]",
            "text/plain": [
              "<Figure size 432x504 with 1 Axes>"
            ]
          },
          "metadata": {
            "tags": [],
            "needs_background": "light"
          }
        }
      ]
    },
    {
      "cell_type": "markdown",
      "metadata": {
        "id": "Tjr7xn2e1Eek"
      },
      "source": [
        ""
      ]
    },
    {
      "cell_type": "code",
      "metadata": {
        "colab": {
          "base_uri": "https://localhost:8080/"
        },
        "id": "ps6qaOLiCEy-",
        "outputId": "a3ce2d80-eab3-4c93-ca2c-6a7380b9bad2"
      },
      "source": [
        " app_data['DAYS_EMPLOYED'].describe()"
      ],
      "execution_count": null,
      "outputs": [
        {
          "output_type": "execute_result",
          "data": {
            "text/plain": [
              "count    104757.000000\n",
              "mean      67230.320895\n",
              "std      139031.084915\n",
              "min           0.000000\n",
              "25%         930.000000\n",
              "50%        2205.000000\n",
              "75%        5665.000000\n",
              "max      365243.000000\n",
              "Name: DAYS_EMPLOYED, dtype: float64"
            ]
          },
          "metadata": {
            "tags": []
          },
          "execution_count": 224
        }
      ]
    },
    {
      "cell_type": "code",
      "metadata": {
        "id": "jo25Q0TOAUNa"
      },
      "source": [
        "# Creating bins for Employement Time\n",
        "app_data['YEARS_EMPLOYED'] = app_data['DAYS_EMPLOYED'] // 365.25\n",
        "bins = [0,3,5,10,20,30,40,50,65,150]\n",
        "slots = ['0-3','3-5','5-10','10-20','20-30','30-40','40-50','50-65','65 above']\n",
        "\n",
        "app_data['EMPLOYMENT_YEAR']=pd.cut(app_data['YEARS_EMPLOYED'],bins=bins,labels=slots)"
      ],
      "execution_count": null,
      "outputs": []
    },
    {
      "cell_type": "code",
      "metadata": {
        "colab": {
          "base_uri": "https://localhost:8080/"
        },
        "id": "nXShGF9uB4aB",
        "outputId": "70566006-413c-4804-b206-37d3ec280405"
      },
      "source": [
        "app_data['EMPLOYMENT_YEAR'].value_counts(normalize=True)*100"
      ],
      "execution_count": null,
      "outputs": [
        {
          "output_type": "execute_result",
          "data": {
            "text/plain": [
              "0-3         38.468181\n",
              "5-10        25.026167\n",
              "3-5         17.210069\n",
              "10-20       14.334310\n",
              "20-30        3.809923\n",
              "30-40        1.085933\n",
              "40-50        0.065418\n",
              "65 above     0.000000\n",
              "50-65        0.000000\n",
              "Name: EMPLOYMENT_YEAR, dtype: float64"
            ]
          },
          "metadata": {
            "tags": []
          },
          "execution_count": 226
        }
      ]
    },
    {
      "cell_type": "markdown",
      "metadata": {
        "id": "rFgG53iFC1Up"
      },
      "source": [
        "Almost 40% applicants have experience within 0-3 and 90% of them have less than 10 years  "
      ]
    },
    {
      "cell_type": "code",
      "metadata": {
        "id": "u55ajzC9GkId"
      },
      "source": [
        ""
      ],
      "execution_count": null,
      "outputs": []
    },
    {
      "cell_type": "markdown",
      "metadata": {
        "id": "aThGumExIL6z"
      },
      "source": [
        "Analyze & delete Unnecessary Columns in application data "
      ]
    },
    {
      "cell_type": "code",
      "metadata": {
        "colab": {
          "base_uri": "https://localhost:8080/"
        },
        "id": "mt_FV8OkIcIh",
        "outputId": "61c9d7f8-5cbe-4912-ca37-288845b55d04"
      },
      "source": [
        "app_data.columns"
      ],
      "execution_count": null,
      "outputs": [
        {
          "output_type": "execute_result",
          "data": {
            "text/plain": [
              "Index(['SK_ID_CURR', 'TARGET', 'NAME_CONTRACT_TYPE', 'CODE_GENDER',\n",
              "       'FLAG_OWN_CAR', 'FLAG_OWN_REALTY', 'CNT_CHILDREN', 'AMT_INCOME_TOTAL',\n",
              "       'AMT_CREDIT', 'AMT_ANNUITY',\n",
              "       ...\n",
              "       'AMT_REQ_CREDIT_BUREAU_YEAR', 'INCOME_GROUP', 'CREDIT_INCOME_RATIO',\n",
              "       'AMT_CREDIT_RANGE', 'SOCIAL_CIRCLE_30_DAYS_DEF_PERC',\n",
              "       'SOCIAL_CIRCLE_60_DAYS_DEF_PERC', 'AGE', 'AGE_GROUP', 'YEARS_EMPLOYED',\n",
              "       'EMPLOYMENT_YEAR'],\n",
              "      dtype='object', length=131)"
            ]
          },
          "metadata": {
            "tags": []
          },
          "execution_count": 227
        }
      ]
    },
    {
      "cell_type": "markdown",
      "metadata": {
        "id": "QDIpE8WLJURg"
      },
      "source": [
        "Contact Parameters\n",
        "\n",
        "Note: \n",
        "'FLAG_MOBIL', 'FLAG_EMP_PHONE', 'FLAG_WORK_PHONE', 'FLAG_CONT_MOBILE' 'FLAG_PHONE', 'FLAG_EMAIL' \n",
        "Provide only contact details\n",
        "REGION_RATING_CLIENT,REGION_RATING_CLIENT_W_CITY  Region ratings of client"
      ]
    },
    {
      "cell_type": "code",
      "metadata": {
        "colab": {
          "base_uri": "https://localhost:8080/",
          "height": 579
        },
        "id": "w0Gd1ATpJ8Nm",
        "outputId": "8915dcf0-9061-442d-c710-129ec42098ea"
      },
      "source": [
        "# checking is there is any correlation between mobile phone, work phone etc, email, Family members and Region rating\n",
        "contact_col = ['FLAG_MOBIL', 'FLAG_EMP_PHONE', 'FLAG_WORK_PHONE', 'FLAG_CONT_MOBILE','FLAG_PHONE', 'FLAG_EMAIL','TARGET']\n",
        "con_col=['CNT_FAM_MEMBERS','REGION_RATING_CLIENT', 'REGION_RATING_CLIENT_W_CITY','WEEKDAY_APPR_PROCESS_START', 'HOUR_APPR_PROCESS_START',\n",
        "         'REG_REGION_NOT_LIVE_REGION', 'REG_REGION_NOT_WORK_REGION', 'LIVE_REGION_NOT_WORK_REGION', 'REG_CITY_NOT_LIVE_CITY',\n",
        "         'REG_CITY_NOT_WORK_CITY', 'LIVE_CITY_NOT_WORK_CITY','TARGET']\n",
        "Contact_corr = app_data[contact_col].corr()\n",
        "fig = plt.figure(figsize=(8,8))\n",
        "ax = sns.heatmap(Contact_corr,\n",
        "            xticklabels=Contact_corr.columns,\n",
        "            yticklabels=Contact_corr.columns,\n",
        "            annot = True,\n",
        "            cmap =sns.color_palette(\"inferno\"),\n",
        "            linewidth=1)"
      ],
      "execution_count": null,
      "outputs": [
        {
          "output_type": "display_data",
          "data": {
            "image/png": "[encoded data removed]",
            "text/plain": [
              "<Figure size 576x576 with 2 Axes>"
            ]
          },
          "metadata": {
            "tags": []
          }
        }
      ]
    },
    {
      "cell_type": "markdown",
      "metadata": {
        "id": "9anTdBG9MFbt"
      },
      "source": [
        "There is no correlation between flags of mobile phone, email etc with loan repayment; thus these columns can be deleted"
      ]
    },
    {
      "cell_type": "code",
      "metadata": {
        "id": "YXgDrbH-MKNo",
        "colab": {
          "base_uri": "https://localhost:8080/"
        },
        "outputId": "84ccf65c-9e1b-4f98-90af-984b4f32fb87"
      },
      "source": [
        "app_data['AMT_GOODS_PRICE'].describe()"
      ],
      "execution_count": null,
      "outputs": [
        {
          "output_type": "execute_result",
          "data": {
            "text/plain": [
              "count    1.046740e+05\n",
              "mean     5.383124e+05\n",
              "std      3.697088e+05\n",
              "min      4.500000e+04\n",
              "25%      2.385000e+05\n",
              "50%      4.500000e+05\n",
              "75%      6.795000e+05\n",
              "max      4.050000e+06\n",
              "Name: AMT_GOODS_PRICE, dtype: float64"
            ]
          },
          "metadata": {
            "tags": []
          },
          "execution_count": 266
        }
      ]
    },
    {
      "cell_type": "markdown",
      "metadata": {
        "id": "s8Gs7iJaQzKB"
      },
      "source": [
        "Previous application data conversion "
      ]
    },
    {
      "cell_type": "code",
      "metadata": {
        "colab": {
          "base_uri": "https://localhost:8080/"
        },
        "id": "sOGFjFt-QzcS",
        "outputId": "e8673193-5fc8-4737-c93d-eca75fc193ce"
      },
      "source": [
        "#Checking the number of unique values each column possess to identify categorical columns\n",
        "prev_data.nunique().sort_values()"
      ],
      "execution_count": null,
      "outputs": [
        {
          "output_type": "execute_result",
          "data": {
            "text/plain": [
              "NFLAG_INSURED_ON_APPROVAL           2\n",
              "NAME_PRODUCT_TYPE                   2\n",
              "NFLAG_LAST_APPL_IN_DAY              2\n",
              "FLAG_LAST_APPL_PER_CONTRACT         2\n",
              "NAME_CLIENT_TYPE                    3\n",
              "NAME_PAYMENT_TYPE                   3\n",
              "NAME_CONTRACT_TYPE                  3\n",
              "NAME_YIELD_GROUP                    4\n",
              "NAME_PORTFOLIO                      4\n",
              "NAME_CONTRACT_STATUS                4\n",
              "WEEKDAY_APPR_PROCESS_START          7\n",
              "NAME_TYPE_SUITE                     7\n",
              "CHANNEL_TYPE                        8\n",
              "CODE_REJECT_REASON                  8\n",
              "NAME_SELLER_INDUSTRY               10\n",
              "RATE_INTEREST_PRIVILEGED           15\n",
              "PRODUCT_COMBINATION                17\n",
              "HOUR_APPR_PROCESS_START            24\n",
              "NAME_CASH_LOAN_PURPOSE             24\n",
              "NAME_GOODS_CATEGORY                26\n",
              "CNT_PAYMENT                        38\n",
              "RATE_INTEREST_PRIMARY              54\n",
              "SELLERPLACE_AREA                 1709\n",
              "DAYS_FIRST_DRAWING               2230\n",
              "DAYS_TERMINATION                 2780\n",
              "DAYS_LAST_DUE                    2830\n",
              "DAYS_FIRST_DUE                   2892\n",
              "DAYS_DECISION                    2921\n",
              "DAYS_LAST_DUE_1ST_VERSION        4500\n",
              "AMT_DOWN_PAYMENT                 9931\n",
              "AMT_APPLICATION                 35708\n",
              "AMT_GOODS_PRICE                 35708\n",
              "RATE_DOWN_PAYMENT               42131\n",
              "AMT_CREDIT                      43622\n",
              "AMT_ANNUITY                    102791\n",
              "SK_ID_CURR                     151862\n",
              "SK_ID_PREV                     231759\n",
              "dtype: int64"
            ]
          },
          "metadata": {
            "tags": []
          },
          "execution_count": 229
        }
      ]
    },
    {
      "cell_type": "markdown",
      "metadata": {
        "id": "JUsiOH9ZTNP4"
      },
      "source": [
        "Days_decision -Relative to current application when was the decision about previous application made"
      ]
    },
    {
      "cell_type": "code",
      "metadata": {
        "id": "PC5WKR1US_ue"
      },
      "source": [
        "#age group calculation e.g. 388 will be grouped as 300-400\n",
        "prev_data['DAYS_DECISION_GROUP'] = (prev_data['DAYS_DECISION']-(prev_data['DAYS_DECISION'] % 400)).astype(str) \\\n",
        "       +'-'+ ((prev_data['DAYS_DECISION'] - (prev_data['DAYS_DECISION'] % 400)) + (prev_data['DAYS_DECISION'] % 400) \\\n",
        "       + (400 - (prev_data['DAYS_DECISION'] % 400))).astype(str)"
      ],
      "execution_count": null,
      "outputs": []
    },
    {
      "cell_type": "code",
      "metadata": {
        "colab": {
          "base_uri": "https://localhost:8080/"
        },
        "id": "66k5dCCiUIVO",
        "outputId": "e1f53be7-717f-4040-938d-dd958e45540e"
      },
      "source": [
        "prev_data['DAYS_DECISION_GROUP'].value_counts(normalize=True)*100"
      ],
      "execution_count": null,
      "outputs": [
        {
          "output_type": "execute_result",
          "data": {
            "text/plain": [
              "0.0-400.0        36.830069\n",
              "400.0-800.0      22.973434\n",
              "800.0-1200.0     12.373198\n",
              "1200.0-1600.0     7.905626\n",
              "2400.0-2800.0     6.635773\n",
              "1600.0-2000.0     5.973447\n",
              "2000.0-2400.0     5.844002\n",
              "2800.0-3200.0     1.464021\n",
              "nan-nan           0.000431\n",
              "Name: DAYS_DECISION_GROUP, dtype: float64"
            ]
          },
          "metadata": {
            "tags": []
          },
          "execution_count": 231
        }
      ]
    },
    {
      "cell_type": "markdown",
      "metadata": {
        "id": "71ERk21zUMNr"
      },
      "source": [
        "Almost 37% loan applicatants have applied for a new loan within 0-400 days of previous loan decision"
      ]
    },
    {
      "cell_type": "code",
      "metadata": {
        "colab": {
          "base_uri": "https://localhost:8080/"
        },
        "id": "HIPIbeQkWRR5",
        "outputId": "7e249f99-9e5c-4695-aeb2-db3fbd845be4"
      },
      "source": [
        "prev_data.columns"
      ],
      "execution_count": null,
      "outputs": [
        {
          "output_type": "execute_result",
          "data": {
            "text/plain": [
              "Index(['SK_ID_PREV', 'SK_ID_CURR', 'NAME_CONTRACT_TYPE', 'AMT_ANNUITY',\n",
              "       'AMT_APPLICATION', 'AMT_CREDIT', 'AMT_DOWN_PAYMENT', 'AMT_GOODS_PRICE',\n",
              "       'WEEKDAY_APPR_PROCESS_START', 'HOUR_APPR_PROCESS_START',\n",
              "       'FLAG_LAST_APPL_PER_CONTRACT', 'NFLAG_LAST_APPL_IN_DAY',\n",
              "       'RATE_DOWN_PAYMENT', 'RATE_INTEREST_PRIMARY',\n",
              "       'RATE_INTEREST_PRIVILEGED', 'NAME_CASH_LOAN_PURPOSE',\n",
              "       'NAME_CONTRACT_STATUS', 'DAYS_DECISION', 'NAME_PAYMENT_TYPE',\n",
              "       'CODE_REJECT_REASON', 'NAME_TYPE_SUITE', 'NAME_CLIENT_TYPE',\n",
              "       'NAME_GOODS_CATEGORY', 'NAME_PORTFOLIO', 'NAME_PRODUCT_TYPE',\n",
              "       'CHANNEL_TYPE', 'SELLERPLACE_AREA', 'NAME_SELLER_INDUSTRY',\n",
              "       'CNT_PAYMENT', 'NAME_YIELD_GROUP', 'PRODUCT_COMBINATION',\n",
              "       'DAYS_FIRST_DRAWING', 'DAYS_FIRST_DUE', 'DAYS_LAST_DUE_1ST_VERSION',\n",
              "       'DAYS_LAST_DUE', 'DAYS_TERMINATION', 'NFLAG_INSURED_ON_APPROVAL',\n",
              "       'DAYS_DECISION_GROUP'],\n",
              "      dtype='object')"
            ]
          },
          "metadata": {
            "tags": []
          },
          "execution_count": 232
        }
      ]
    },
    {
      "cell_type": "code",
      "metadata": {
        "id": "sOX_n3G3U2N0"
      },
      "source": [
        "#Converting Categorical columns from Object to categorical\n",
        "Cat_col_p = ['NAME_CASH_LOAN_PURPOSE','NAME_CONTRACT_STATUS','NAME_PAYMENT_TYPE','FLAG_LAST_APPL_PER_CONTRACT',\n",
        "                    'CODE_REJECT_REASON','NAME_CLIENT_TYPE','NAME_GOODS_CATEGORY','NAME_PORTFOLIO',\n",
        "                   'NAME_PRODUCT_TYPE','CHANNEL_TYPE','NAME_SELLER_INDUSTRY','NAME_YIELD_GROUP','PRODUCT_COMBINATION',\n",
        "                    'NAME_CONTRACT_TYPE','DAYS_DECISION_GROUP']\n",
        "for col in Cat_col_p:\n",
        "    prev_data[col] =pd.Categorical(prev_data[col])  \n",
        "\n",
        "              "
      ],
      "execution_count": null,
      "outputs": []
    },
    {
      "cell_type": "code",
      "metadata": {
        "colab": {
          "base_uri": "https://localhost:8080/"
        },
        "id": "7OdjkrAEYBW2",
        "outputId": "bec89387-856e-4221-8c7f-f2d643fe02ea"
      },
      "source": [
        "obj=list(prev_data.select_dtypes(include='object').columns)\n",
        "prev_data.drop(obj,axis=1,inplace=True)\n",
        "prev_data.info()"
      ],
      "execution_count": null,
      "outputs": [
        {
          "output_type": "stream",
          "text": [
            "<class 'pandas.core.frame.DataFrame'>\n",
            "Int64Index: 231759 entries, 0 to 231758\n",
            "Data columns (total 36 columns):\n",
            " #   Column                       Non-Null Count   Dtype   \n",
            "---  ------                       --------------   -----   \n",
            " 0   SK_ID_PREV                   231759 non-null  int64   \n",
            " 1   SK_ID_CURR                   231759 non-null  int64   \n",
            " 2   NAME_CONTRACT_TYPE           231714 non-null  category\n",
            " 3   AMT_ANNUITY                  181761 non-null  float64 \n",
            " 4   AMT_APPLICATION              231759 non-null  float64 \n",
            " 5   AMT_CREDIT                   231759 non-null  float64 \n",
            " 6   AMT_DOWN_PAYMENT             111889 non-null  float64 \n",
            " 7   AMT_GOODS_PRICE              180228 non-null  float64 \n",
            " 8   HOUR_APPR_PROCESS_START      231758 non-null  float64 \n",
            " 9   FLAG_LAST_APPL_PER_CONTRACT  231758 non-null  category\n",
            " 10  NFLAG_LAST_APPL_IN_DAY       231758 non-null  float64 \n",
            " 11  RATE_DOWN_PAYMENT            111888 non-null  float64 \n",
            " 12  RATE_INTEREST_PRIMARY        829 non-null     float64 \n",
            " 13  RATE_INTEREST_PRIVILEGED     829 non-null     float64 \n",
            " 14  NAME_CASH_LOAN_PURPOSE       141698 non-null  category\n",
            " 15  NAME_CONTRACT_STATUS         231758 non-null  category\n",
            " 16  DAYS_DECISION                231758 non-null  float64 \n",
            " 17  NAME_PAYMENT_TYPE            147434 non-null  category\n",
            " 18  CODE_REJECT_REASON           231759 non-null  category\n",
            " 19  NAME_CLIENT_TYPE             231504 non-null  category\n",
            " 20  NAME_GOODS_CATEGORY          104429 non-null  category\n",
            " 21  NAME_PORTFOLIO               181761 non-null  category\n",
            " 22  NAME_PRODUCT_TYPE            81282 non-null   category\n",
            " 23  CHANNEL_TYPE                 231758 non-null  category\n",
            " 24  SELLERPLACE_AREA             231758 non-null  float64 \n",
            " 25  NAME_SELLER_INDUSTRY         118285 non-null  category\n",
            " 26  CNT_PAYMENT                  181761 non-null  float64 \n",
            " 27  NAME_YIELD_GROUP             161840 non-null  category\n",
            " 28  PRODUCT_COMBINATION          231713 non-null  category\n",
            " 29  DAYS_FIRST_DRAWING           141302 non-null  float64 \n",
            " 30  DAYS_FIRST_DUE               141302 non-null  float64 \n",
            " 31  DAYS_LAST_DUE_1ST_VERSION    141302 non-null  float64 \n",
            " 32  DAYS_LAST_DUE                141302 non-null  float64 \n",
            " 33  DAYS_TERMINATION             141302 non-null  float64 \n",
            " 34  NFLAG_INSURED_ON_APPROVAL    141302 non-null  float64 \n",
            " 35  DAYS_DECISION_GROUP          231759 non-null  category\n",
            "dtypes: category(15), float64(19), int64(2)\n",
            "memory usage: 42.2 MB\n"
          ],
          "name": "stdout"
        }
      ]
    },
    {
      "cell_type": "code",
      "metadata": {
        "id": "N5AwP0k3aSZg"
      },
      "source": [
        ""
      ],
      "execution_count": null,
      "outputs": []
    },
    {
      "cell_type": "markdown",
      "metadata": {
        "id": "yjuZSkjHaZp6"
      },
      "source": [
        "Data Analysis \n",
        "\n",
        "**Checking for imbalance in Target**\n",
        "\n",
        "Imbalanced data typically refers to a classification problem where the number of observations per class is not equally distributed; often you'll have a large amount of data/observations for one class (referred to as the majority class), and much fewer observations for one or more other classes"
      ]
    },
    {
      "cell_type": "code",
      "metadata": {
        "colab": {
          "base_uri": "https://localhost:8080/"
        },
        "id": "G4nuFn_YagTH",
        "outputId": "ce878721-1728-4699-d3ef-d519ea1d897c"
      },
      "source": [
        "app_data['TARGET'].value_counts(normalize=True)*100"
      ],
      "execution_count": null,
      "outputs": [
        {
          "output_type": "execute_result",
          "data": {
            "text/plain": [
              "0    91.866892\n",
              "1     8.133108\n",
              "Name: TARGET, dtype: float64"
            ]
          },
          "metadata": {
            "tags": []
          },
          "execution_count": 235
        }
      ]
    },
    {
      "cell_type": "code",
      "metadata": {
        "colab": {
          "base_uri": "https://localhost:8080/",
          "height": 265
        },
        "id": "a975qc-abC7T",
        "outputId": "03d2fce3-917f-4492-d55c-545fe1cf205d"
      },
      "source": [
        "plt.pie(app_data['TARGET'].value_counts(normalize=True)*100,labels=['REPAYER (TARGET=0)','DEFAULTER (TARGET=1)'],explode=(0,0.05),autopct='%1.f%%')\n",
        "plt.title('TARGET Variable - DEFAULTER Vs REPAYER')\n",
        "plt.show()"
      ],
      "execution_count": null,
      "outputs": [
        {
          "output_type": "display_data",
          "data": {
            "image/png": "[encoded data removed]",
            "text/plain": [
              "<Figure size 432x288 with 1 Axes>"
            ]
          },
          "metadata": {
            "tags": []
          }
        }
      ]
    },
    {
      "cell_type": "code",
      "metadata": {
        "colab": {
          "base_uri": "https://localhost:8080/"
        },
        "id": "ia6MzJIpdLyy",
        "outputId": "004e4fee-5e41-4984-8424-f95b884334ca"
      },
      "source": [
        "Imbalance = app_data[\"TARGET\"].value_counts().reset_index()\n",
        "count_0 = Imbalance.iloc[0][\"TARGET\"]\n",
        "count_1 = Imbalance.iloc[1][\"TARGET\"]\n",
        "count_0_perc = round(count_0/(count_0+count_1)*100,2)\n",
        "count_1_perc = round(count_1/(count_0+count_1)*100,2)\n",
        "\n",
        "print('Ratios of imbalance in percentage with respect to Repayer and Defaulter datas are: %.2f and %.2f'%(count_0_perc,count_1_perc))\n",
        "print('Ratios of imbalance in relative with respect to Repayer and Defaulter datas is %.2f : 1 (approx)'%(count_0/count_1))"
      ],
      "execution_count": null,
      "outputs": [
        {
          "output_type": "stream",
          "text": [
            "Ratios of imbalance in percentage with respect to Repayer and Defaulter datas are: 91.87 and 8.13\n",
            "Ratios of imbalance in relative with respect to Repayer and Defaulter datas is 11.30 : 1 (approx)\n"
          ],
          "name": "stdout"
        }
      ]
    },
    {
      "cell_type": "markdown",
      "metadata": {
        "id": "szy1AQb5gWJR"
      },
      "source": [
        "**Univariate, Segmented univariate, Bivariate analysis**"
      ]
    },
    {
      "cell_type": "code",
      "metadata": {
        "id": "fnIuETqDgWZ6"
      },
      "source": [
        "# From the remaining columns about 30 are selected based on their description and relevance with problem statement \n",
        "#for further analysis\n",
        "FinalColumns = ['SK_ID_CURR','TARGET','CODE_GENDER','FLAG_OWN_CAR','FLAG_OWN_REALTY','INCOME_GROUP','AGE_GROUP','AMT_CREDIT','AMT_INCOME_TOTAL',\n",
        "'CREDIT_INCOME_RATIO','NAME_INCOME_TYPE','NAME_EDUCATION_TYPE','NAME_FAMILY_STATUS','NAME_HOUSING_TYPE','DAYS_EMPLOYED',\n",
        "'DAYS_REGISTRATION','FLAG_EMAIL','OCCUPATION_TYPE','EMPLOYMENT_YEAR',\n",
        "'CNT_FAM_MEMBERS','REGION_RATING_CLIENT_W_CITY','ORGANIZATION_TYPE','SOCIAL_CIRCLE_30_DAYS_DEF_PERC',\n",
        "'SOCIAL_CIRCLE_60_DAYS_DEF_PERC','AMT_REQ_CREDIT_BUREAU_DAY',\n",
        "'AMT_REQ_CREDIT_BUREAU_MON','AMT_REQ_CREDIT_BUREAU_QRT','NAME_CONTRACT_TYPE','AMT_ANNUITY','REGION_RATING_CLIENT','AMT_GOODS_PRICE']"
      ],
      "execution_count": null,
      "outputs": []
    },
    {
      "cell_type": "code",
      "metadata": {
        "id": "ClSCtsGug4f4"
      },
      "source": [
        "app_data_final=app_data[FinalColumns]"
      ],
      "execution_count": null,
      "outputs": []
    },
    {
      "cell_type": "markdown",
      "metadata": {
        "id": "FQzljfuii0R6"
      },
      "source": [
        "Splitting the dataframe into two separate dataframes with all the data related to defaulters and repayers respectively"
      ]
    },
    {
      "cell_type": "markdown",
      "metadata": {
        "id": "s-_5ma4QjXbe"
      },
      "source": [
        "Univariate Analysis\n",
        "\n",
        "Function to plot the univariate categorical variables are common functions customized to perform uniform anaysis "
      ]
    },
    {
      "cell_type": "code",
      "metadata": {
        "id": "2jK4XlLjjcO2"
      },
      "source": [
        "# function to count plot for categorical variables\n",
        "def plot_uni_cat(feature,ylog=False,label_rotation=False,horizontal_layout=True,annotations=True):\n",
        "\n",
        "    temp = app_data_final[feature].value_counts()\n",
        "    df1 = pd.DataFrame({feature: temp.index,'Number of contracts': temp.values})\n",
        "\n",
        "    # Calculate the percentage of target=1 per category value\n",
        "    cat_perc = app_data_final[[feature, 'TARGET']].groupby([feature],as_index=False).mean()\n",
        "    cat_perc[\"TARGET\"] = cat_perc[\"TARGET\"]*100\n",
        "    cat_perc.sort_values(by='TARGET', ascending=False, inplace=True)\n",
        "\n",
        "    plt.style.use('ggplot')\n",
        "    sns.despine #removes spines\n",
        "\n",
        "    if(horizontal_layout):\n",
        "        fig, (ax1, ax2) = plt.subplots(ncols=2, figsize=(5,5))\n",
        "    else:\n",
        "        fig, (ax1, ax2) = plt.subplots(nrows=2, figsize=(10,12))\n",
        "\n",
        "# 1. Subplot 1: Count plot of categorical column\n",
        "    # sns.set_palette(\"Set2\")\n",
        "    s = sns.countplot(ax=ax1, \n",
        "                    x = feature, \n",
        "                    data=app_data_final,\n",
        "                    hue =\"TARGET\",\n",
        "                    order=cat_perc[feature],\n",
        "                    palette='Set2')\n",
        "    \n",
        "    ax1.set_title(f'Distribution of {feature} for Defaulters and Non-Defaulters',fontsize=10)\n",
        "    ax1.legend(['Repayer','Defaulter'])\n",
        "\n",
        "    # If the plot is not readable, use the log scale.\n",
        "    if ylog:\n",
        "        ax1.set_yscale('log')\n",
        "        ax1.set_ylabel(\"Total Count (log)\",fontdict={'fontsize' : 10, 'fontweight' : 3, 'color' : 'Blue'})\n",
        "    \n",
        "    if label_rotation:\n",
        "      ax1.set_xticklabels(ax1.get_xticklabels(), rotation=90, ha=\"right\")\n",
        "\n",
        "    # Adding the normalized percentage for easier comparision between defaulter and non-defaulter\n",
        "    if ylog:\n",
        "      for p in ax1.patches:\n",
        "        ax1.annotate('{:.1f}%'.format((p.get_height()/len(app_data_final))*100), (p.get_x()+0.1, p.get_height()+50))\n",
        "\n",
        "\n",
        "\n",
        "        \n",
        "    # 2. Subplot 2: Percentage of defaulters within the categorical column\n",
        "    s = sns.barplot(ax=ax2, \n",
        "                    x = feature, \n",
        "                    y='TARGET', \n",
        "                    order=cat_perc[feature], \n",
        "                    data=cat_perc,\n",
        "                    palette='Set2')\n",
        "    \n",
        "    if(label_rotation):\n",
        "        s.set_xticklabels(s.get_xticklabels(),rotation=90)\n",
        "    plt.ylabel('Percent of Defaulters [%]', fontsize=10)\n",
        "    plt.tick_params(axis='both', which='major', labelsize=10)\n",
        "    ax2.set_title(feature + \" Defaulter %\", fontdict={'fontsize' : 10, 'fontweight' : 5, 'color' : 'Black'})\n",
        "   \n",
        "\n",
        "    \n",
        "\n",
        "    plt.show()\n",
        "    \n",
        "\n",
        "\n"
      ],
      "execution_count": null,
      "outputs": []
    },
    {
      "cell_type": "markdown",
      "metadata": {
        "id": "b5GWO3wumjFJ"
      },
      "source": [
        "Univariate Categorical Ordered Analysis"
      ]
    },
    {
      "cell_type": "code",
      "metadata": {
        "colab": {
          "base_uri": "https://localhost:8080/",
          "height": 351
        },
        "id": "4IWQUC-lnK4d",
        "outputId": "f7acf3e8-089d-4d7c-ce4a-a4fbb2c039be"
      },
      "source": [
        "plot_uni_cat('CODE_GENDER',True)"
      ],
      "execution_count": null,
      "outputs": [
        {
          "output_type": "display_data",
          "data": {
            "image/png": "[encoded data removed]",
            "text/plain": [
              "<Figure size 360x360 with 2 Axes>"
            ]
          },
          "metadata": {
            "tags": []
          }
        }
      ]
    },
    {
      "cell_type": "code",
      "metadata": {
        "colab": {
          "base_uri": "https://localhost:8080/",
          "height": 351
        },
        "id": "RHiPesn-w0Wd",
        "outputId": "324d7d2b-f308-4834-d83a-369a0f2fac1c"
      },
      "source": [
        "# Checking the contract type based on loan repayment status\n",
        "plot_uni_cat('NAME_CONTRACT_TYPE',True)\n"
      ],
      "execution_count": null,
      "outputs": [
        {
          "output_type": "display_data",
          "data": {
            "image/png": "[encoded data removed]",
            "text/plain": [
              "<Figure size 360x360 with 2 Axes>"
            ]
          },
          "metadata": {
            "tags": []
          }
        }
      ]
    },
    {
      "cell_type": "code",
      "metadata": {
        "colab": {
          "base_uri": "https://localhost:8080/",
          "height": 351
        },
        "id": "yMkRntyLw1Dx",
        "outputId": "72702785-b1dc-4af6-9588-83966fe8a4fc"
      },
      "source": [
        "plot_uni_cat('FLAG_OWN_CAR',True)"
      ],
      "execution_count": null,
      "outputs": [
        {
          "output_type": "display_data",
          "data": {
            "image/png": "[encoded data removed]",
            "text/plain": [
              "<Figure size 360x360 with 2 Axes>"
            ]
          },
          "metadata": {
            "tags": []
          }
        }
      ]
    },
    {
      "cell_type": "code",
      "metadata": {
        "colab": {
          "base_uri": "https://localhost:8080/",
          "height": 351
        },
        "id": "AtpA7U8Xyork",
        "outputId": "b2da29c4-862b-417a-fdd6-fab23044c71f"
      },
      "source": [
        "plot_uni_cat('FLAG_OWN_REALTY',True)"
      ],
      "execution_count": null,
      "outputs": [
        {
          "output_type": "display_data",
          "data": {
            "image/png": "[encoded data removed]",
            "text/plain": [
              "<Figure size 360x360 with 2 Axes>"
            ]
          },
          "metadata": {
            "tags": []
          }
        }
      ]
    },
    {
      "cell_type": "code",
      "metadata": {
        "colab": {
          "base_uri": "https://localhost:8080/",
          "height": 831
        },
        "id": "lVkBgZqV0XgW",
        "outputId": "394f5d38-5cca-489f-8bda-714d31d0bd77"
      },
      "source": [
        "plot_uni_cat('NAME_INCOME_TYPE',True,True,False)"
      ],
      "execution_count": null,
      "outputs": [
        {
          "output_type": "display_data",
          "data": {
            "image/png": "[encoded data removed]",
            "text/plain": [
              "<Figure size 720x864 with 2 Axes>"
            ]
          },
          "metadata": {
            "tags": []
          }
        }
      ]
    },
    {
      "cell_type": "code",
      "metadata": {
        "colab": {
          "base_uri": "https://localhost:8080/",
          "height": 731
        },
        "id": "nLr5OS3F4YiX",
        "outputId": "c64d1d6a-bdce-469a-9ebb-56234e696063"
      },
      "source": [
        "plot_uni_cat(\"REGION_RATING_CLIENT\",False,False,False)"
      ],
      "execution_count": null,
      "outputs": [
        {
          "output_type": "display_data",
          "data": {
            "image/png": "[encoded data removed]",
            "text/plain": [
              "<Figure size 720x864 with 2 Axes>"
            ]
          },
          "metadata": {
            "tags": []
          }
        }
      ]
    },
    {
      "cell_type": "markdown",
      "metadata": {
        "id": "Fbvmn4Fh3s31"
      },
      "source": [
        "Univariate Categorical Ordered Analysis"
      ]
    },
    {
      "cell_type": "code",
      "metadata": {
        "colab": {
          "base_uri": "https://localhost:8080/",
          "height": 742
        },
        "id": "Q-1kzoKl54SO",
        "outputId": "03c2267c-46ba-4338-c741-ba7d824e8dac"
      },
      "source": [
        "plot_uni_cat('AGE_GROUP',False,True,False)"
      ],
      "execution_count": null,
      "outputs": [
        {
          "output_type": "display_data",
          "data": {
            "image/png": "[encoded data removed]",
            "text/plain": [
              "<Figure size 720x864 with 2 Axes>"
            ]
          },
          "metadata": {
            "tags": []
          }
        }
      ]
    },
    {
      "cell_type": "code",
      "metadata": {
        "colab": {
          "base_uri": "https://localhost:8080/",
          "height": 386
        },
        "id": "wgCQ63959D-O",
        "outputId": "45e93c51-d565-4417-ef93-90d7e36db0f0"
      },
      "source": [
        "plot_uni_cat('INCOME_GROUP',False,True,True)"
      ],
      "execution_count": null,
      "outputs": [
        {
          "output_type": "display_data",
          "data": {
            "image/png": "[encoded data removed]",
            "text/plain": [
              "<Figure size 360x360 with 2 Axes>"
            ]
          },
          "metadata": {
            "tags": []
          }
        }
      ]
    },
    {
      "cell_type": "code",
      "metadata": {
        "colab": {
          "base_uri": "https://localhost:8080/",
          "height": 731
        },
        "id": "iz4BibeD_TYD",
        "outputId": "93b335d7-18c2-42bc-b611-61e00e707331"
      },
      "source": [
        "plot_uni_cat(\"CNT_FAM_MEMBERS\",True, False, False,False)"
      ],
      "execution_count": null,
      "outputs": [
        {
          "output_type": "display_data",
          "data": {
            "image/png": "[encoded data removed]",
            "text/plain": [
              "<Figure size 720x864 with 2 Axes>"
            ]
          },
          "metadata": {
            "tags": []
          }
        }
      ]
    },
    {
      "cell_type": "code",
      "metadata": {
        "colab": {
          "base_uri": "https://localhost:8080/",
          "height": 767
        },
        "id": "Rqr1thFtuQoM",
        "outputId": "4047b5b4-0751-43ce-c9ae-1d84cb32498f"
      },
      "source": [
        "plot_uni_cat(\"EMPLOYMENT_YEAR\",True,True,False,False)"
      ],
      "execution_count": null,
      "outputs": [
        {
          "output_type": "display_data",
          "data": {
            "image/png": "[encoded data removed]",
            "text/plain": [
              "<Figure size 720x864 with 2 Axes>"
            ]
          },
          "metadata": {
            "tags": []
          }
        }
      ]
    },
    {
      "cell_type": "markdown",
      "metadata": {
        "id": "KAH0WsFBEuK5"
      },
      "source": [
        "continuous variables"
      ]
    },
    {
      "cell_type": "code",
      "metadata": {
        "id": "hfZre9ruFPyU"
      },
      "source": [
        "default=app_data_final[app_data_final.TARGET==0]    # Dataframe with all the data related to non-defaulters\n",
        "repay=app_data_final[app_data_final.TARGET==1]"
      ],
      "execution_count": null,
      "outputs": []
    },
    {
      "cell_type": "code",
      "metadata": {
        "id": "cLksH-VAEzoA"
      },
      "source": [
        "# function to dist plot for continuous variables\n",
        "def plot_uni_cont(var):\n",
        "    plt.style.use('ggplot')\n",
        "    sns.despine\n",
        "    fig,(ax1,ax2) = plt.subplots(1,2,figsize=(15,5))\n",
        "  \n",
        "    sns.distplot(a=repay[var],ax=ax1)\n",
        "\n",
        "    ax1.set_title(f'Distribution of {var} for Non-Defaulters',fontsize=15)\n",
        "            \n",
        "    sns.distplot(a=default[var],ax=ax2)\n",
        "    ax2.set_title(f'Distribution of {var} for Defaulters',fontsize=15)    \n",
        "        \n",
        "    plt.show()"
      ],
      "execution_count": null,
      "outputs": []
    },
    {
      "cell_type": "code",
      "metadata": {
        "colab": {
          "base_uri": "https://localhost:8080/",
          "height": 355
        },
        "id": "9ZuLnPKdBR_b",
        "outputId": "15d6b5ba-ad24-4cea-ebd7-aad563d3bb34"
      },
      "source": [
        "plot_uni_cont('CREDIT_INCOME_RATIO')"
      ],
      "execution_count": null,
      "outputs": [
        {
          "output_type": "display_data",
          "data": {
            "image/png": "[encoded data removed]",
            "text/plain": [
              "<Figure size 1080x360 with 2 Axes>"
            ]
          },
          "metadata": {
            "tags": []
          }
        }
      ]
    },
    {
      "cell_type": "code",
      "metadata": {
        "id": "Cw0wDKaasE4g"
      },
      "source": [
        "plot_uni_cont('')"
      ],
      "execution_count": null,
      "outputs": []
    },
    {
      "cell_type": "markdown",
      "metadata": {
        "id": "6kakC7NWsK54"
      },
      "source": [
        "Correlation numerical variables"
      ]
    },
    {
      "cell_type": "code",
      "metadata": {
        "colab": {
          "base_uri": "https://localhost:8080/",
          "height": 359
        },
        "id": "7RCQ_JIOsPSt",
        "outputId": "a33ffee7-d1dc-49f1-d430-fa034ece5c13"
      },
      "source": [
        "#Getting the top 10 correlation in repayers\n",
        "corr=repay.corr()\n",
        "corr_df = corr.where(np.triu(np.ones(corr.shape),k=1).astype(np.bool)).unstack().reset_index()\n",
        "corr_df.columns=['Column1','Column2','Correlation']\n",
        "corr_df.dropna(subset=['Correlation'],inplace=True)\n",
        "corr_df['Abs_Correlation']=corr_df['Correlation'].abs()\n",
        "corr_df = corr_df.sort_values(by=['Abs_Correlation'], ascending=False)\n",
        "corr_df.head(10)"
      ],
      "execution_count": null,
      "outputs": [
        {
          "output_type": "execute_result",
          "data": {
            "text/html": [
              "<div>\n",
              "<style scoped>\n",
              "    .dataframe tbody tr th:only-of-type {\n",
              "        vertical-align: middle;\n",
              "    }\n",
              "\n",
              "    .dataframe tbody tr th {\n",
              "        vertical-align: top;\n",
              "    }\n",
              "\n",
              "    .dataframe thead th {\n",
              "        text-align: right;\n",
              "    }\n",
              "</style>\n",
              "<table border=\"1\" class=\"dataframe\">\n",
              "  <thead>\n",
              "    <tr style=\"text-align: right;\">\n",
              "      <th></th>\n",
              "      <th>Column1</th>\n",
              "      <th>Column2</th>\n",
              "      <th>Correlation</th>\n",
              "      <th>Abs_Correlation</th>\n",
              "    </tr>\n",
              "  </thead>\n",
              "  <tbody>\n",
              "    <tr>\n",
              "      <th>308</th>\n",
              "      <td>AMT_GOODS_PRICE</td>\n",
              "      <td>AMT_CREDIT</td>\n",
              "      <td>0.982898</td>\n",
              "      <td>0.982898</td>\n",
              "    </tr>\n",
              "    <tr>\n",
              "      <th>297</th>\n",
              "      <td>REGION_RATING_CLIENT</td>\n",
              "      <td>REGION_RATING_CLIENT_W_CITY</td>\n",
              "      <td>0.949616</td>\n",
              "      <td>0.949616</td>\n",
              "    </tr>\n",
              "    <tr>\n",
              "      <th>208</th>\n",
              "      <td>SOCIAL_CIRCLE_60_DAYS_DEF_PERC</td>\n",
              "      <td>SOCIAL_CIRCLE_30_DAYS_DEF_PERC</td>\n",
              "      <td>0.902626</td>\n",
              "      <td>0.902626</td>\n",
              "    </tr>\n",
              "    <tr>\n",
              "      <th>321</th>\n",
              "      <td>AMT_GOODS_PRICE</td>\n",
              "      <td>AMT_ANNUITY</td>\n",
              "      <td>0.752843</td>\n",
              "      <td>0.752843</td>\n",
              "    </tr>\n",
              "    <tr>\n",
              "      <th>272</th>\n",
              "      <td>AMT_ANNUITY</td>\n",
              "      <td>AMT_CREDIT</td>\n",
              "      <td>0.751803</td>\n",
              "      <td>0.751803</td>\n",
              "    </tr>\n",
              "    <tr>\n",
              "      <th>74</th>\n",
              "      <td>CREDIT_INCOME_RATIO</td>\n",
              "      <td>AMT_CREDIT</td>\n",
              "      <td>0.604634</td>\n",
              "      <td>0.604634</td>\n",
              "    </tr>\n",
              "    <tr>\n",
              "      <th>310</th>\n",
              "      <td>AMT_GOODS_PRICE</td>\n",
              "      <td>CREDIT_INCOME_RATIO</td>\n",
              "      <td>0.593530</td>\n",
              "      <td>0.593530</td>\n",
              "    </tr>\n",
              "    <tr>\n",
              "      <th>274</th>\n",
              "      <td>AMT_ANNUITY</td>\n",
              "      <td>CREDIT_INCOME_RATIO</td>\n",
              "      <td>0.353410</td>\n",
              "      <td>0.353410</td>\n",
              "    </tr>\n",
              "    <tr>\n",
              "      <th>113</th>\n",
              "      <td>DAYS_REGISTRATION</td>\n",
              "      <td>DAYS_EMPLOYED</td>\n",
              "      <td>0.207559</td>\n",
              "      <td>0.207559</td>\n",
              "    </tr>\n",
              "    <tr>\n",
              "      <th>149</th>\n",
              "      <td>CNT_FAM_MEMBERS</td>\n",
              "      <td>DAYS_EMPLOYED</td>\n",
              "      <td>-0.194744</td>\n",
              "      <td>0.194744</td>\n",
              "    </tr>\n",
              "  </tbody>\n",
              "</table>\n",
              "</div>"
            ],
            "text/plain": [
              "                            Column1  ... Abs_Correlation\n",
              "308                 AMT_GOODS_PRICE  ...        0.982898\n",
              "297            REGION_RATING_CLIENT  ...        0.949616\n",
              "208  SOCIAL_CIRCLE_60_DAYS_DEF_PERC  ...        0.902626\n",
              "321                 AMT_GOODS_PRICE  ...        0.752843\n",
              "272                     AMT_ANNUITY  ...        0.751803\n",
              "74              CREDIT_INCOME_RATIO  ...        0.604634\n",
              "310                 AMT_GOODS_PRICE  ...        0.593530\n",
              "274                     AMT_ANNUITY  ...        0.353410\n",
              "113               DAYS_REGISTRATION  ...        0.207559\n",
              "149                 CNT_FAM_MEMBERS  ...        0.194744\n",
              "\n",
              "[10 rows x 4 columns]"
            ]
          },
          "metadata": {
            "tags": []
          },
          "execution_count": 267
        }
      ]
    },
    {
      "cell_type": "code",
      "metadata": {
        "colab": {
          "base_uri": "https://localhost:8080/",
          "height": 359
        },
        "id": "4llzILlAwUDl",
        "outputId": "a53f675d-f409-4a1d-e46b-a73364db590a"
      },
      "source": [
        "#Getting the top 10 correlation in defaulters\n",
        "corr=repay.corr()\n",
        "corr_df = corr.where(np.triu(np.ones(corr.shape),k=1).astype(np.bool)).unstack().reset_index()\n",
        "corr_df.columns=['Column1','Column2','Correlation']\n",
        "corr_df.dropna(subset=['Correlation'],inplace=True)\n",
        "corr_df['Abs_Correlation']=corr_df['Correlation'].abs()\n",
        "corr_df = corr_df.sort_values(by=['Abs_Correlation'], ascending=False)\n",
        "corr_df.head(10)"
      ],
      "execution_count": null,
      "outputs": [
        {
          "output_type": "execute_result",
          "data": {
            "text/html": [
              "<div>\n",
              "<style scoped>\n",
              "    .dataframe tbody tr th:only-of-type {\n",
              "        vertical-align: middle;\n",
              "    }\n",
              "\n",
              "    .dataframe tbody tr th {\n",
              "        vertical-align: top;\n",
              "    }\n",
              "\n",
              "    .dataframe thead th {\n",
              "        text-align: right;\n",
              "    }\n",
              "</style>\n",
              "<table border=\"1\" class=\"dataframe\">\n",
              "  <thead>\n",
              "    <tr style=\"text-align: right;\">\n",
              "      <th></th>\n",
              "      <th>Column1</th>\n",
              "      <th>Column2</th>\n",
              "      <th>Correlation</th>\n",
              "      <th>Abs_Correlation</th>\n",
              "    </tr>\n",
              "  </thead>\n",
              "  <tbody>\n",
              "    <tr>\n",
              "      <th>308</th>\n",
              "      <td>AMT_GOODS_PRICE</td>\n",
              "      <td>AMT_CREDIT</td>\n",
              "      <td>0.982898</td>\n",
              "      <td>0.982898</td>\n",
              "    </tr>\n",
              "    <tr>\n",
              "      <th>297</th>\n",
              "      <td>REGION_RATING_CLIENT</td>\n",
              "      <td>REGION_RATING_CLIENT_W_CITY</td>\n",
              "      <td>0.949616</td>\n",
              "      <td>0.949616</td>\n",
              "    </tr>\n",
              "    <tr>\n",
              "      <th>208</th>\n",
              "      <td>SOCIAL_CIRCLE_60_DAYS_DEF_PERC</td>\n",
              "      <td>SOCIAL_CIRCLE_30_DAYS_DEF_PERC</td>\n",
              "      <td>0.902626</td>\n",
              "      <td>0.902626</td>\n",
              "    </tr>\n",
              "    <tr>\n",
              "      <th>321</th>\n",
              "      <td>AMT_GOODS_PRICE</td>\n",
              "      <td>AMT_ANNUITY</td>\n",
              "      <td>0.752843</td>\n",
              "      <td>0.752843</td>\n",
              "    </tr>\n",
              "    <tr>\n",
              "      <th>272</th>\n",
              "      <td>AMT_ANNUITY</td>\n",
              "      <td>AMT_CREDIT</td>\n",
              "      <td>0.751803</td>\n",
              "      <td>0.751803</td>\n",
              "    </tr>\n",
              "    <tr>\n",
              "      <th>74</th>\n",
              "      <td>CREDIT_INCOME_RATIO</td>\n",
              "      <td>AMT_CREDIT</td>\n",
              "      <td>0.604634</td>\n",
              "      <td>0.604634</td>\n",
              "    </tr>\n",
              "    <tr>\n",
              "      <th>310</th>\n",
              "      <td>AMT_GOODS_PRICE</td>\n",
              "      <td>CREDIT_INCOME_RATIO</td>\n",
              "      <td>0.593530</td>\n",
              "      <td>0.593530</td>\n",
              "    </tr>\n",
              "    <tr>\n",
              "      <th>274</th>\n",
              "      <td>AMT_ANNUITY</td>\n",
              "      <td>CREDIT_INCOME_RATIO</td>\n",
              "      <td>0.353410</td>\n",
              "      <td>0.353410</td>\n",
              "    </tr>\n",
              "    <tr>\n",
              "      <th>113</th>\n",
              "      <td>DAYS_REGISTRATION</td>\n",
              "      <td>DAYS_EMPLOYED</td>\n",
              "      <td>0.207559</td>\n",
              "      <td>0.207559</td>\n",
              "    </tr>\n",
              "    <tr>\n",
              "      <th>149</th>\n",
              "      <td>CNT_FAM_MEMBERS</td>\n",
              "      <td>DAYS_EMPLOYED</td>\n",
              "      <td>-0.194744</td>\n",
              "      <td>0.194744</td>\n",
              "    </tr>\n",
              "  </tbody>\n",
              "</table>\n",
              "</div>"
            ],
            "text/plain": [
              "                            Column1  ... Abs_Correlation\n",
              "308                 AMT_GOODS_PRICE  ...        0.982898\n",
              "297            REGION_RATING_CLIENT  ...        0.949616\n",
              "208  SOCIAL_CIRCLE_60_DAYS_DEF_PERC  ...        0.902626\n",
              "321                 AMT_GOODS_PRICE  ...        0.752843\n",
              "272                     AMT_ANNUITY  ...        0.751803\n",
              "74              CREDIT_INCOME_RATIO  ...        0.604634\n",
              "310                 AMT_GOODS_PRICE  ...        0.593530\n",
              "274                     AMT_ANNUITY  ...        0.353410\n",
              "113               DAYS_REGISTRATION  ...        0.207559\n",
              "149                 CNT_FAM_MEMBERS  ...        0.194744\n",
              "\n",
              "[10 rows x 4 columns]"
            ]
          },
          "metadata": {
            "tags": []
          },
          "execution_count": 256
        }
      ]
    },
    {
      "cell_type": "markdown",
      "metadata": {
        "id": "aDgbotm601ZP"
      },
      "source": [
        ""
      ]
    },
    {
      "cell_type": "code",
      "metadata": {
        "id": "E_nnIXbM01l8"
      },
      "source": [
        "#bivariate analysis\n",
        "def plot_bivar(f1,f2):\n",
        "    plt.style.use('ggplot')\n",
        "    sns.despine\n",
        "    fig,(ax1,ax2) = plt.subplots(1,2,figsize=(20,6))\n",
        "    \n",
        "    sns.scatterplot(x=f1, y=f2,data=repay,ax=ax1)\n",
        "    ax1.set_xlabel(f1)    \n",
        "    ax1.set_ylabel(f2)\n",
        "    ax1.set_title(f'{f1} vs {f2} for Non-Defaulters',fontsize=15)\n",
        "    \n",
        "    sns.scatterplot(x=f1, y=f2,data=default,ax=ax2)\n",
        "    ax2.set_xlabel(f1)    \n",
        "    ax2.set_ylabel(f2)\n",
        "    ax2.set_title(f'{f1} vs {f2} for Defaulters',fontsize=15)\n",
        "            \n",
        "    plt.show()\n"
      ],
      "execution_count": null,
      "outputs": []
    },
    {
      "cell_type": "code",
      "metadata": {
        "colab": {
          "base_uri": "https://localhost:8080/",
          "height": 409
        },
        "id": "__CQYeWy1bC7",
        "outputId": "edc30520-5cd2-4404-8a45-0dfeec84ade2"
      },
      "source": [
        "plot_bivar('AMT_CREDIT','CNT_FAM_MEMBERS')"
      ],
      "execution_count": null,
      "outputs": [
        {
          "output_type": "display_data",
          "data": {
            "image/png": "[encoded data removed]",
            "text/plain": [
              "<Figure size 1440x432 with 2 Axes>"
            ]
          },
          "metadata": {
            "tags": []
          }
        }
      ]
    },
    {
      "cell_type": "code",
      "metadata": {
        "colab": {
          "base_uri": "https://localhost:8080/",
          "height": 409
        },
        "id": "omPjLPLG2WYs",
        "outputId": "8bfd6358-21ef-49b7-d70b-c75becc87d5f"
      },
      "source": [
        "plot_bivar('AMT_GOODS_PRICE','AMT_CREDIT')"
      ],
      "execution_count": null,
      "outputs": [
        {
          "output_type": "display_data",
          "data": {
            "image/png": "[encoded data removed]",
            "text/plain": [
              "<Figure size 1440x432 with 2 Axes>"
            ]
          },
          "metadata": {
            "tags": []
          }
        }
      ]
    },
    {
      "cell_type": "code",
      "metadata": {
        "colab": {
          "base_uri": "https://localhost:8080/",
          "height": 338
        },
        "id": "ecCI3biN25oE",
        "outputId": "d2f97b1b-c258-43d3-b47b-fcedf8ac2139"
      },
      "source": [
        "#merged data frame analysis\n",
        "loan_risk_df = pd.merge(app_data, prev_data, how='inner', on='SK_ID_CURR')\n",
        "loan_risk_df.head()"
      ],
      "execution_count": null,
      "outputs": [
        {
          "output_type": "execute_result",
          "data": {
            "text/html": [
              "<div>\n",
              "<style scoped>\n",
              "    .dataframe tbody tr th:only-of-type {\n",
              "        vertical-align: middle;\n",
              "    }\n",
              "\n",
              "    .dataframe tbody tr th {\n",
              "        vertical-align: top;\n",
              "    }\n",
              "\n",
              "    .dataframe thead th {\n",
              "        text-align: right;\n",
              "    }\n",
              "</style>\n",
              "<table border=\"1\" class=\"dataframe\">\n",
              "  <thead>\n",
              "    <tr style=\"text-align: right;\">\n",
              "      <th></th>\n",
              "      <th>SK_ID_CURR</th>\n",
              "      <th>TARGET</th>\n",
              "      <th>NAME_CONTRACT_TYPE_x</th>\n",
              "      <th>CODE_GENDER</th>\n",
              "      <th>FLAG_OWN_CAR</th>\n",
              "      <th>FLAG_OWN_REALTY</th>\n",
              "      <th>CNT_CHILDREN</th>\n",
              "      <th>AMT_INCOME_TOTAL</th>\n",
              "      <th>AMT_CREDIT_x</th>\n",
              "      <th>AMT_ANNUITY_x</th>\n",
              "      <th>AMT_GOODS_PRICE_x</th>\n",
              "      <th>NAME_TYPE_SUITE</th>\n",
              "      <th>NAME_INCOME_TYPE</th>\n",
              "      <th>NAME_EDUCATION_TYPE</th>\n",
              "      <th>NAME_FAMILY_STATUS</th>\n",
              "      <th>NAME_HOUSING_TYPE</th>\n",
              "      <th>REGION_POPULATION_RELATIVE</th>\n",
              "      <th>DAYS_BIRTH</th>\n",
              "      <th>DAYS_EMPLOYED</th>\n",
              "      <th>DAYS_REGISTRATION</th>\n",
              "      <th>DAYS_ID_PUBLISH</th>\n",
              "      <th>OWN_CAR_AGE</th>\n",
              "      <th>FLAG_MOBIL</th>\n",
              "      <th>FLAG_EMP_PHONE</th>\n",
              "      <th>FLAG_WORK_PHONE</th>\n",
              "      <th>FLAG_CONT_MOBILE</th>\n",
              "      <th>FLAG_PHONE</th>\n",
              "      <th>FLAG_EMAIL</th>\n",
              "      <th>OCCUPATION_TYPE</th>\n",
              "      <th>CNT_FAM_MEMBERS</th>\n",
              "      <th>REGION_RATING_CLIENT</th>\n",
              "      <th>REGION_RATING_CLIENT_W_CITY</th>\n",
              "      <th>WEEKDAY_APPR_PROCESS_START</th>\n",
              "      <th>HOUR_APPR_PROCESS_START_x</th>\n",
              "      <th>REG_REGION_NOT_LIVE_REGION</th>\n",
              "      <th>REG_REGION_NOT_WORK_REGION</th>\n",
              "      <th>LIVE_REGION_NOT_WORK_REGION</th>\n",
              "      <th>REG_CITY_NOT_LIVE_CITY</th>\n",
              "      <th>REG_CITY_NOT_WORK_CITY</th>\n",
              "      <th>LIVE_CITY_NOT_WORK_CITY</th>\n",
              "      <th>...</th>\n",
              "      <th>SOCIAL_CIRCLE_60_DAYS_DEF_PERC</th>\n",
              "      <th>AGE</th>\n",
              "      <th>AGE_GROUP</th>\n",
              "      <th>YEARS_EMPLOYED</th>\n",
              "      <th>EMPLOYMENT_YEAR</th>\n",
              "      <th>SK_ID_PREV</th>\n",
              "      <th>NAME_CONTRACT_TYPE_y</th>\n",
              "      <th>AMT_ANNUITY_y</th>\n",
              "      <th>AMT_APPLICATION</th>\n",
              "      <th>AMT_CREDIT_y</th>\n",
              "      <th>AMT_DOWN_PAYMENT</th>\n",
              "      <th>AMT_GOODS_PRICE_y</th>\n",
              "      <th>HOUR_APPR_PROCESS_START_y</th>\n",
              "      <th>FLAG_LAST_APPL_PER_CONTRACT</th>\n",
              "      <th>NFLAG_LAST_APPL_IN_DAY</th>\n",
              "      <th>RATE_DOWN_PAYMENT</th>\n",
              "      <th>RATE_INTEREST_PRIMARY</th>\n",
              "      <th>RATE_INTEREST_PRIVILEGED</th>\n",
              "      <th>NAME_CASH_LOAN_PURPOSE</th>\n",
              "      <th>NAME_CONTRACT_STATUS</th>\n",
              "      <th>DAYS_DECISION</th>\n",
              "      <th>NAME_PAYMENT_TYPE</th>\n",
              "      <th>CODE_REJECT_REASON</th>\n",
              "      <th>NAME_CLIENT_TYPE</th>\n",
              "      <th>NAME_GOODS_CATEGORY</th>\n",
              "      <th>NAME_PORTFOLIO</th>\n",
              "      <th>NAME_PRODUCT_TYPE</th>\n",
              "      <th>CHANNEL_TYPE</th>\n",
              "      <th>SELLERPLACE_AREA</th>\n",
              "      <th>NAME_SELLER_INDUSTRY</th>\n",
              "      <th>CNT_PAYMENT</th>\n",
              "      <th>NAME_YIELD_GROUP</th>\n",
              "      <th>PRODUCT_COMBINATION</th>\n",
              "      <th>DAYS_FIRST_DRAWING</th>\n",
              "      <th>DAYS_FIRST_DUE</th>\n",
              "      <th>DAYS_LAST_DUE_1ST_VERSION</th>\n",
              "      <th>DAYS_LAST_DUE</th>\n",
              "      <th>DAYS_TERMINATION</th>\n",
              "      <th>NFLAG_INSURED_ON_APPROVAL</th>\n",
              "      <th>DAYS_DECISION_GROUP</th>\n",
              "    </tr>\n",
              "  </thead>\n",
              "  <tbody>\n",
              "    <tr>\n",
              "      <th>0</th>\n",
              "      <td>100006</td>\n",
              "      <td>0</td>\n",
              "      <td>Cash loans</td>\n",
              "      <td>F</td>\n",
              "      <td>N</td>\n",
              "      <td>Y</td>\n",
              "      <td>0</td>\n",
              "      <td>135000.0</td>\n",
              "      <td>3.126825</td>\n",
              "      <td>29686.5</td>\n",
              "      <td>297000.0</td>\n",
              "      <td>Unaccompanied</td>\n",
              "      <td>Working</td>\n",
              "      <td>Secondary / secondary special</td>\n",
              "      <td>Civil marriage</td>\n",
              "      <td>House / apartment</td>\n",
              "      <td>0.008019</td>\n",
              "      <td>19005</td>\n",
              "      <td>3039</td>\n",
              "      <td>9833.0</td>\n",
              "      <td>2437</td>\n",
              "      <td>NaN</td>\n",
              "      <td>1</td>\n",
              "      <td>1</td>\n",
              "      <td>0</td>\n",
              "      <td>1.0</td>\n",
              "      <td>0.0</td>\n",
              "      <td>0.0</td>\n",
              "      <td>Laborers</td>\n",
              "      <td>2.0</td>\n",
              "      <td>2.0</td>\n",
              "      <td>2.0</td>\n",
              "      <td>WEDNESDAY</td>\n",
              "      <td>17.0</td>\n",
              "      <td>0.0</td>\n",
              "      <td>0.0</td>\n",
              "      <td>0.0</td>\n",
              "      <td>0.0</td>\n",
              "      <td>0.0</td>\n",
              "      <td>0.0</td>\n",
              "      <td>...</td>\n",
              "      <td>0.0</td>\n",
              "      <td>52</td>\n",
              "      <td>50+</td>\n",
              "      <td>8</td>\n",
              "      <td>5-10</td>\n",
              "      <td>2078043</td>\n",
              "      <td>Cash loans</td>\n",
              "      <td>24246.000</td>\n",
              "      <td>675000.0</td>\n",
              "      <td>675000.0</td>\n",
              "      <td>NaN</td>\n",
              "      <td>675000.0</td>\n",
              "      <td>15.0</td>\n",
              "      <td>Y</td>\n",
              "      <td>1.0</td>\n",
              "      <td>NaN</td>\n",
              "      <td>NaN</td>\n",
              "      <td>NaN</td>\n",
              "      <td>NaN</td>\n",
              "      <td>Approved</td>\n",
              "      <td>181.0</td>\n",
              "      <td>Cash through the bank</td>\n",
              "      <td>XAP</td>\n",
              "      <td>Repeater</td>\n",
              "      <td>NaN</td>\n",
              "      <td>Cash</td>\n",
              "      <td>x-sell</td>\n",
              "      <td>Credit and cash offices</td>\n",
              "      <td>1.0</td>\n",
              "      <td>NaN</td>\n",
              "      <td>48.0</td>\n",
              "      <td>low_normal</td>\n",
              "      <td>Cash X-Sell: low</td>\n",
              "      <td>365243.0</td>\n",
              "      <td>-151.0</td>\n",
              "      <td>1259.0</td>\n",
              "      <td>-151.0</td>\n",
              "      <td>-143.0</td>\n",
              "      <td>0.0</td>\n",
              "      <td>0.0-400.0</td>\n",
              "    </tr>\n",
              "    <tr>\n",
              "      <th>1</th>\n",
              "      <td>100007</td>\n",
              "      <td>0</td>\n",
              "      <td>Cash loans</td>\n",
              "      <td>M</td>\n",
              "      <td>N</td>\n",
              "      <td>Y</td>\n",
              "      <td>0</td>\n",
              "      <td>121500.0</td>\n",
              "      <td>5.130000</td>\n",
              "      <td>21865.5</td>\n",
              "      <td>513000.0</td>\n",
              "      <td>Unaccompanied</td>\n",
              "      <td>Working</td>\n",
              "      <td>Secondary / secondary special</td>\n",
              "      <td>Single / not married</td>\n",
              "      <td>House / apartment</td>\n",
              "      <td>0.028663</td>\n",
              "      <td>19932</td>\n",
              "      <td>3038</td>\n",
              "      <td>4311.0</td>\n",
              "      <td>3458</td>\n",
              "      <td>NaN</td>\n",
              "      <td>1</td>\n",
              "      <td>1</td>\n",
              "      <td>0</td>\n",
              "      <td>1.0</td>\n",
              "      <td>0.0</td>\n",
              "      <td>0.0</td>\n",
              "      <td>Core staff</td>\n",
              "      <td>1.0</td>\n",
              "      <td>2.0</td>\n",
              "      <td>2.0</td>\n",
              "      <td>THURSDAY</td>\n",
              "      <td>11.0</td>\n",
              "      <td>0.0</td>\n",
              "      <td>0.0</td>\n",
              "      <td>0.0</td>\n",
              "      <td>0.0</td>\n",
              "      <td>1.0</td>\n",
              "      <td>1.0</td>\n",
              "      <td>...</td>\n",
              "      <td>NaN</td>\n",
              "      <td>54</td>\n",
              "      <td>50+</td>\n",
              "      <td>8</td>\n",
              "      <td>5-10</td>\n",
              "      <td>2001242</td>\n",
              "      <td>Cash loans</td>\n",
              "      <td>16509.600</td>\n",
              "      <td>180000.0</td>\n",
              "      <td>180000.0</td>\n",
              "      <td>NaN</td>\n",
              "      <td>180000.0</td>\n",
              "      <td>14.0</td>\n",
              "      <td>Y</td>\n",
              "      <td>1.0</td>\n",
              "      <td>NaN</td>\n",
              "      <td>NaN</td>\n",
              "      <td>NaN</td>\n",
              "      <td>NaN</td>\n",
              "      <td>Approved</td>\n",
              "      <td>865.0</td>\n",
              "      <td>Cash through the bank</td>\n",
              "      <td>XAP</td>\n",
              "      <td>Repeater</td>\n",
              "      <td>NaN</td>\n",
              "      <td>Cash</td>\n",
              "      <td>walk-in</td>\n",
              "      <td>Regional / Local</td>\n",
              "      <td>1200.0</td>\n",
              "      <td>Consumer electronics</td>\n",
              "      <td>18.0</td>\n",
              "      <td>high</td>\n",
              "      <td>Cash Street: high</td>\n",
              "      <td>365243.0</td>\n",
              "      <td>-834.0</td>\n",
              "      <td>-324.0</td>\n",
              "      <td>-354.0</td>\n",
              "      <td>-347.0</td>\n",
              "      <td>0.0</td>\n",
              "      <td>800.0-1200.0</td>\n",
              "    </tr>\n",
              "    <tr>\n",
              "      <th>2</th>\n",
              "      <td>100007</td>\n",
              "      <td>0</td>\n",
              "      <td>Cash loans</td>\n",
              "      <td>M</td>\n",
              "      <td>N</td>\n",
              "      <td>Y</td>\n",
              "      <td>0</td>\n",
              "      <td>121500.0</td>\n",
              "      <td>5.130000</td>\n",
              "      <td>21865.5</td>\n",
              "      <td>513000.0</td>\n",
              "      <td>Unaccompanied</td>\n",
              "      <td>Working</td>\n",
              "      <td>Secondary / secondary special</td>\n",
              "      <td>Single / not married</td>\n",
              "      <td>House / apartment</td>\n",
              "      <td>0.028663</td>\n",
              "      <td>19932</td>\n",
              "      <td>3038</td>\n",
              "      <td>4311.0</td>\n",
              "      <td>3458</td>\n",
              "      <td>NaN</td>\n",
              "      <td>1</td>\n",
              "      <td>1</td>\n",
              "      <td>0</td>\n",
              "      <td>1.0</td>\n",
              "      <td>0.0</td>\n",
              "      <td>0.0</td>\n",
              "      <td>Core staff</td>\n",
              "      <td>1.0</td>\n",
              "      <td>2.0</td>\n",
              "      <td>2.0</td>\n",
              "      <td>THURSDAY</td>\n",
              "      <td>11.0</td>\n",
              "      <td>0.0</td>\n",
              "      <td>0.0</td>\n",
              "      <td>0.0</td>\n",
              "      <td>0.0</td>\n",
              "      <td>1.0</td>\n",
              "      <td>1.0</td>\n",
              "      <td>...</td>\n",
              "      <td>NaN</td>\n",
              "      <td>54</td>\n",
              "      <td>50+</td>\n",
              "      <td>8</td>\n",
              "      <td>5-10</td>\n",
              "      <td>2730157</td>\n",
              "      <td>Cash loans</td>\n",
              "      <td>13010.985</td>\n",
              "      <td>225000.0</td>\n",
              "      <td>284400.0</td>\n",
              "      <td>NaN</td>\n",
              "      <td>225000.0</td>\n",
              "      <td>13.0</td>\n",
              "      <td>Y</td>\n",
              "      <td>1.0</td>\n",
              "      <td>NaN</td>\n",
              "      <td>NaN</td>\n",
              "      <td>NaN</td>\n",
              "      <td>NaN</td>\n",
              "      <td>Approved</td>\n",
              "      <td>867.0</td>\n",
              "      <td>Cash through the bank</td>\n",
              "      <td>XAP</td>\n",
              "      <td>Repeater</td>\n",
              "      <td>NaN</td>\n",
              "      <td>Cash</td>\n",
              "      <td>x-sell</td>\n",
              "      <td>AP+ (Cash loan)</td>\n",
              "      <td>4.0</td>\n",
              "      <td>NaN</td>\n",
              "      <td>48.0</td>\n",
              "      <td>middle</td>\n",
              "      <td>Cash X-Sell: middle</td>\n",
              "      <td>NaN</td>\n",
              "      <td>NaN</td>\n",
              "      <td>NaN</td>\n",
              "      <td>NaN</td>\n",
              "      <td>NaN</td>\n",
              "      <td>NaN</td>\n",
              "      <td>800.0-1200.0</td>\n",
              "    </tr>\n",
              "    <tr>\n",
              "      <th>3</th>\n",
              "      <td>100009</td>\n",
              "      <td>0</td>\n",
              "      <td>Cash loans</td>\n",
              "      <td>F</td>\n",
              "      <td>Y</td>\n",
              "      <td>Y</td>\n",
              "      <td>1</td>\n",
              "      <td>171000.0</td>\n",
              "      <td>15.607260</td>\n",
              "      <td>41301.0</td>\n",
              "      <td>1395000.0</td>\n",
              "      <td>Unaccompanied</td>\n",
              "      <td>Commercial associate</td>\n",
              "      <td>Higher education</td>\n",
              "      <td>Married</td>\n",
              "      <td>House / apartment</td>\n",
              "      <td>0.035792</td>\n",
              "      <td>13778</td>\n",
              "      <td>3130</td>\n",
              "      <td>1213.0</td>\n",
              "      <td>619</td>\n",
              "      <td>17.0</td>\n",
              "      <td>1</td>\n",
              "      <td>1</td>\n",
              "      <td>0</td>\n",
              "      <td>1.0</td>\n",
              "      <td>1.0</td>\n",
              "      <td>0.0</td>\n",
              "      <td>Accountants</td>\n",
              "      <td>3.0</td>\n",
              "      <td>2.0</td>\n",
              "      <td>2.0</td>\n",
              "      <td>SUNDAY</td>\n",
              "      <td>16.0</td>\n",
              "      <td>0.0</td>\n",
              "      <td>0.0</td>\n",
              "      <td>0.0</td>\n",
              "      <td>0.0</td>\n",
              "      <td>0.0</td>\n",
              "      <td>0.0</td>\n",
              "      <td>...</td>\n",
              "      <td>0.0</td>\n",
              "      <td>37</td>\n",
              "      <td>35+</td>\n",
              "      <td>8</td>\n",
              "      <td>5-10</td>\n",
              "      <td>1413109</td>\n",
              "      <td>Consumer loans</td>\n",
              "      <td>8996.760</td>\n",
              "      <td>98239.5</td>\n",
              "      <td>98239.5</td>\n",
              "      <td>0.0</td>\n",
              "      <td>98239.5</td>\n",
              "      <td>18.0</td>\n",
              "      <td>Y</td>\n",
              "      <td>1.0</td>\n",
              "      <td>0.0</td>\n",
              "      <td>NaN</td>\n",
              "      <td>NaN</td>\n",
              "      <td>XAP</td>\n",
              "      <td>Approved</td>\n",
              "      <td>449.0</td>\n",
              "      <td>Cash through the bank</td>\n",
              "      <td>XAP</td>\n",
              "      <td>Repeater</td>\n",
              "      <td>Consumer Electronics</td>\n",
              "      <td>POS</td>\n",
              "      <td>NaN</td>\n",
              "      <td>Regional / Local</td>\n",
              "      <td>164.0</td>\n",
              "      <td>Consumer electronics</td>\n",
              "      <td>12.0</td>\n",
              "      <td>low_action</td>\n",
              "      <td>POS household without interest</td>\n",
              "      <td>365243.0</td>\n",
              "      <td>-418.0</td>\n",
              "      <td>-88.0</td>\n",
              "      <td>-88.0</td>\n",
              "      <td>-84.0</td>\n",
              "      <td>0.0</td>\n",
              "      <td>400.0-800.0</td>\n",
              "    </tr>\n",
              "    <tr>\n",
              "      <th>4</th>\n",
              "      <td>100012</td>\n",
              "      <td>0</td>\n",
              "      <td>Revolving loans</td>\n",
              "      <td>M</td>\n",
              "      <td>N</td>\n",
              "      <td>Y</td>\n",
              "      <td>0</td>\n",
              "      <td>135000.0</td>\n",
              "      <td>4.050000</td>\n",
              "      <td>20250.0</td>\n",
              "      <td>405000.0</td>\n",
              "      <td>Unaccompanied</td>\n",
              "      <td>Working</td>\n",
              "      <td>Secondary / secondary special</td>\n",
              "      <td>Single / not married</td>\n",
              "      <td>House / apartment</td>\n",
              "      <td>0.019689</td>\n",
              "      <td>14469</td>\n",
              "      <td>2019</td>\n",
              "      <td>14437.0</td>\n",
              "      <td>3992</td>\n",
              "      <td>NaN</td>\n",
              "      <td>1</td>\n",
              "      <td>1</td>\n",
              "      <td>0</td>\n",
              "      <td>1.0</td>\n",
              "      <td>0.0</td>\n",
              "      <td>0.0</td>\n",
              "      <td>Laborers</td>\n",
              "      <td>1.0</td>\n",
              "      <td>2.0</td>\n",
              "      <td>2.0</td>\n",
              "      <td>THURSDAY</td>\n",
              "      <td>8.0</td>\n",
              "      <td>0.0</td>\n",
              "      <td>0.0</td>\n",
              "      <td>0.0</td>\n",
              "      <td>0.0</td>\n",
              "      <td>0.0</td>\n",
              "      <td>0.0</td>\n",
              "      <td>...</td>\n",
              "      <td>0.0</td>\n",
              "      <td>39</td>\n",
              "      <td>35+</td>\n",
              "      <td>5</td>\n",
              "      <td>3-5</td>\n",
              "      <td>2243829</td>\n",
              "      <td>Consumer loans</td>\n",
              "      <td>3012.075</td>\n",
              "      <td>18720.0</td>\n",
              "      <td>23697.0</td>\n",
              "      <td>0.0</td>\n",
              "      <td>18720.0</td>\n",
              "      <td>9.0</td>\n",
              "      <td>Y</td>\n",
              "      <td>1.0</td>\n",
              "      <td>0.0</td>\n",
              "      <td>NaN</td>\n",
              "      <td>NaN</td>\n",
              "      <td>XAP</td>\n",
              "      <td>Approved</td>\n",
              "      <td>1673.0</td>\n",
              "      <td>NaN</td>\n",
              "      <td>XAP</td>\n",
              "      <td>New</td>\n",
              "      <td>Audio/Video</td>\n",
              "      <td>POS</td>\n",
              "      <td>NaN</td>\n",
              "      <td>Country-wide</td>\n",
              "      <td>42.0</td>\n",
              "      <td>Connectivity</td>\n",
              "      <td>12.0</td>\n",
              "      <td>high</td>\n",
              "      <td>POS mobile with interest</td>\n",
              "      <td>365243.0</td>\n",
              "      <td>-1641.0</td>\n",
              "      <td>-1311.0</td>\n",
              "      <td>-1401.0</td>\n",
              "      <td>-1397.0</td>\n",
              "      <td>0.0</td>\n",
              "      <td>1600.0-2000.0</td>\n",
              "    </tr>\n",
              "  </tbody>\n",
              "</table>\n",
              "<p>5 rows × 166 columns</p>\n",
              "</div>"
            ],
            "text/plain": [
              "   SK_ID_CURR  TARGET  ... NFLAG_INSURED_ON_APPROVAL DAYS_DECISION_GROUP\n",
              "0      100006       0  ...                       0.0           0.0-400.0\n",
              "1      100007       0  ...                       0.0        800.0-1200.0\n",
              "2      100007       0  ...                       NaN        800.0-1200.0\n",
              "3      100009       0  ...                       0.0         400.0-800.0\n",
              "4      100012       0  ...                       0.0       1600.0-2000.0\n",
              "\n",
              "[5 rows x 166 columns]"
            ]
          },
          "metadata": {
            "tags": []
          },
          "execution_count": 275
        }
      ]
    },
    {
      "cell_type": "code",
      "metadata": {
        "colab": {
          "base_uri": "https://localhost:8080/"
        },
        "id": "3RHucPFF3JOt",
        "outputId": "0ad8f19c-b71a-4739-fa79-45008cad9ffe"
      },
      "source": [
        "loan_risk_df.shape"
      ],
      "execution_count": null,
      "outputs": [
        {
          "output_type": "execute_result",
          "data": {
            "text/plain": [
              "(66562, 166)"
            ]
          },
          "metadata": {
            "tags": []
          },
          "execution_count": 276
        }
      ]
    },
    {
      "cell_type": "code",
      "metadata": {
        "colab": {
          "base_uri": "https://localhost:8080/"
        },
        "id": "9Hgh8vS13R3s",
        "outputId": "e59cd063-e169-4cea-ec25-d529f7f977be"
      },
      "source": [
        "loan_risk_df.info()"
      ],
      "execution_count": null,
      "outputs": [
        {
          "output_type": "stream",
          "text": [
            "<class 'pandas.core.frame.DataFrame'>\n",
            "Int64Index: 66562 entries, 0 to 66561\n",
            "Columns: 166 entries, SK_ID_CURR to DAYS_DECISION_GROUP\n",
            "dtypes: category(19), float64(119), int64(12), object(16)\n",
            "memory usage: 76.4+ MB\n"
          ],
          "name": "stdout"
        }
      ]
    },
    {
      "cell_type": "code",
      "metadata": {
        "id": "-YGJ0Ldb3eug"
      },
      "source": [
        "L0 = loan_risk_df[loan_risk_df['TARGET']==0] # Repayers\n",
        "L1 = loan_risk_df[loan_risk_df['TARGET']==1] # Defaulters"
      ],
      "execution_count": null,
      "outputs": []
    },
    {
      "cell_type": "code",
      "metadata": {
        "id": "_wE7Tldc3f3j"
      },
      "source": [
        "#function to plot univar analysis \n"
      ],
      "execution_count": null,
      "outputs": []
    }
  ]
}